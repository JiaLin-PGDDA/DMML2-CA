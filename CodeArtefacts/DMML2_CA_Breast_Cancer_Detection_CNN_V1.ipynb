{
  "nbformat": 4,
  "nbformat_minor": 0,
  "metadata": {
    "colab": {
      "provenance": []
    },
    "kernelspec": {
      "name": "python3",
      "display_name": "Python 3"
    },
    "language_info": {
      "name": "python"
    }
  },
  "cells": [
    {
      "cell_type": "markdown",
      "source": [
        "# Import necessary packages"
      ],
      "metadata": {
        "id": "izh1uoOHOblT"
      }
    },
    {
      "cell_type": "code",
      "source": [
        "import os\n",
        "import numpy as np\n",
        "import matplotlib.pyplot as plt\n",
        "\n",
        "import pandas as pd"
      ],
      "metadata": {
        "id": "62hcZF6wiBHK"
      },
      "execution_count": 1,
      "outputs": []
    },
    {
      "cell_type": "markdown",
      "source": [
        "# Loading Data from Google Drive\n",
        "Images in the original dataset have been converted into 256*256 .png format"
      ],
      "metadata": {
        "id": "hFKigpFJOnOG"
      }
    },
    {
      "cell_type": "code",
      "source": [
        "from google.colab import drive\n",
        "drive.mount('/content/gdrive')"
      ],
      "metadata": {
        "colab": {
          "base_uri": "https://localhost:8080/"
        },
        "id": "gABCpwFre-ed",
        "outputId": "be606763-ad29-4f04-8c2d-aac82f6bbbe5"
      },
      "execution_count": 2,
      "outputs": [
        {
          "output_type": "stream",
          "name": "stdout",
          "text": [
            "Mounted at /content/gdrive\n"
          ]
        }
      ]
    },
    {
      "cell_type": "code",
      "source": [
        "!ls \"/content/gdrive/My Drive\""
      ],
      "metadata": {
        "colab": {
          "base_uri": "https://localhost:8080/"
        },
        "id": "0LiCtfNOTkSe",
        "outputId": "af900caf-311d-4c7b-8700-9fad70ba160e"
      },
      "execution_count": 3,
      "outputs": [
        {
          "output_type": "stream",
          "name": "stdout",
          "text": [
            "'Colab Notebooks'\t\t\t      test.csv\n",
            " DMML2_CA_Breast_Cancer_Detection_CNN.ipynb   testing_images\n",
            " RSNA_256\t\t\t\t      testing_images.zip\n",
            " RSNA_256.zip\t\t\t\t      train.csv\n"
          ]
        }
      ]
    },
    {
      "cell_type": "code",
      "source": [
        "df_train = pd.read_csv('/content/gdrive/My Drive/train.csv')\n",
        "df_test = pd.read_csv('/content/gdrive/My Drive/test.csv')\n",
        "#df_train.info()\n",
        "#print(df_train.head())\n",
        "#df_test.info()\n",
        "#print(df_test.head())\n",
        "df_train['cancer'].unique()\n",
        "df_train['cancer'].value_counts()"
      ],
      "metadata": {
        "colab": {
          "base_uri": "https://localhost:8080/"
        },
        "id": "JDvEM67zlwPc",
        "outputId": "007fbf29-0308-4e71-cbb2-636baa71729a"
      },
      "execution_count": 4,
      "outputs": [
        {
          "output_type": "execute_result",
          "data": {
            "text/plain": [
              "0    53548\n",
              "1     1158\n",
              "Name: cancer, dtype: int64"
            ]
          },
          "metadata": {},
          "execution_count": 4
        }
      ]
    },
    {
      "cell_type": "code",
      "source": [
        "import seaborn as sns # boxplot, histplot\n",
        "\n",
        "ax=sns.countplot(x='cancer', data=df_train, palette='hls')\n",
        "plt.bar_label(ax.containers[0])\n",
        "plt.show()\n",
        "count_positive = len(df_train[df_train['cancer']==0])\n",
        "count_malignant = len(df_train[df_train['cancer']==1])\n",
        "pct_of_positive = count_positive/(count_positive+count_malignant)\n",
        "print(\"Percentage of Positive is:\", pct_of_positive*100)\n",
        "pct_of_malignant = count_malignant/(count_positive+count_malignant)\n",
        "print(\"Percentage of Malignant is:\", pct_of_malignant*100)"
      ],
      "metadata": {
        "colab": {
          "base_uri": "https://localhost:8080/",
          "height": 483
        },
        "id": "wxHA37oimGNs",
        "outputId": "f7d263ec-e5e1-447c-e819-a9125cf116a1"
      },
      "execution_count": 5,
      "outputs": [
        {
          "output_type": "display_data",
          "data": {
            "text/plain": [
              "<Figure size 640x480 with 1 Axes>"
            ],
            "image/png": "[encoded data removed]"
          },
          "metadata": {}
        },
        {
          "output_type": "stream",
          "name": "stdout",
          "text": [
            "Percentage of Positive is: 97.8832303586444\n",
            "Percentage of Malignant is: 2.11676964135561\n"
          ]
        }
      ]
    },
    {
      "cell_type": "code",
      "source": [
        "# The latest keras-preprocessing\n",
        "# Source Code: https://vijayabhaskar96.medium.com/tutorial-on-keras-flow-from-dataframe-1fd4493d237c\n",
        "# Modified by Jia Lin\n",
        "!pip install git+https://github.com/keras-team/keras-preprocessing.git"
      ],
      "metadata": {
        "id": "iCBJYDN75xe3",
        "colab": {
          "base_uri": "https://localhost:8080/"
        },
        "outputId": "8cad2829-cfed-4ce7-c3dd-4865564606fb"
      },
      "execution_count": 6,
      "outputs": [
        {
          "output_type": "stream",
          "name": "stdout",
          "text": [
            "Collecting git+https://github.com/keras-team/keras-preprocessing.git\n",
            "  Cloning https://github.com/keras-team/keras-preprocessing.git to /tmp/pip-req-build-6u6ppqnh\n",
            "  Running command git clone --filter=blob:none --quiet https://github.com/keras-team/keras-preprocessing.git /tmp/pip-req-build-6u6ppqnh\n",
            "  Resolved https://github.com/keras-team/keras-preprocessing.git to commit 3e380065d4afc7347aaee8d89325a16b22158438\n",
            "  Preparing metadata (setup.py) ... \u001b[?25l\u001b[?25hdone\n",
            "Requirement already satisfied: numpy>=1.9.1 in /usr/local/lib/python3.10/dist-packages (from Keras-Preprocessing==1.1.2) (1.22.4)\n",
            "Building wheels for collected packages: Keras-Preprocessing\n",
            "  Building wheel for Keras-Preprocessing (setup.py) ... \u001b[?25l\u001b[?25hdone\n",
            "  Created wheel for Keras-Preprocessing: filename=Keras_Preprocessing-1.1.2-py3-none-any.whl size=43615 sha256=26fc8095a757312403994fe9bd8ddccd80e6ac7f89e9a12be14078d8b1f0a27e\n",
            "  Stored in directory: /tmp/pip-ephem-wheel-cache-hspliyri/wheels/72/0b/c7/3f6b26f2d789c712867e02502e1f1b740091f8615f32a9f870\n",
            "Successfully built Keras-Preprocessing\n",
            "Installing collected packages: Keras-Preprocessing\n",
            "Successfully installed Keras-Preprocessing-1.1.2\n"
          ]
        }
      ]
    },
    {
      "cell_type": "markdown",
      "source": [
        "# Keras ImageDataGenerator to map the images in the RSNA_256 directory to the class cancer in the corresponing train.csv file"
      ],
      "metadata": {
        "id": "sj54RsrYPSaR"
      }
    },
    {
      "cell_type": "code",
      "source": [
        "from keras.models import Sequential\n",
        "#Import from keras_preprocessing not from keras.preprocessing\n",
        "from keras_preprocessing.image import ImageDataGenerator\n",
        "from keras.layers import Dense, Activation, Flatten, Dropout, BatchNormalization\n",
        "from keras.layers import Conv2D, MaxPooling2D\n",
        "from keras import regularizers, optimizers"
      ],
      "metadata": {
        "id": "-1rw69MC6Vnp"
      },
      "execution_count": 7,
      "outputs": []
    },
    {
      "cell_type": "code",
      "source": [
        "# Create image_name matching the name in the image name directory by concatenating the patient_id and image_id\n",
        "df_train['image_name'] = df_train[\"patient_id\"].astype(str) + '_' + df_train[\"image_id\"].astype(str)\n",
        "df_test['image_name'] = df_test[\"patient_id\"].astype(str) + '_' + df_test[\"image_id\"].astype(str)\n",
        "\n",
        "print(df_train.head())\n",
        "print(df_test.head())"
      ],
      "metadata": {
        "colab": {
          "base_uri": "https://localhost:8080/"
        },
        "id": "Icc8GWX-72Fi",
        "outputId": "cfd56cb0-7708-4286-9487-1a5dd4a4ff45"
      },
      "execution_count": 8,
      "outputs": [
        {
          "output_type": "stream",
          "name": "stdout",
          "text": [
            "   site_id  patient_id    image_id laterality view   age  cancer  biopsy  \\\n",
            "0        2       10006   462822612          L   CC  61.0       0       0   \n",
            "1        2       10006  1459541791          L  MLO  61.0       0       0   \n",
            "2        2       10006  1864590858          R  MLO  61.0       0       0   \n",
            "3        2       10006  1874946579          R   CC  61.0       0       0   \n",
            "4        2       10011   220375232          L   CC  55.0       0       0   \n",
            "\n",
            "   invasive  BIRADS  implant density  machine_id  difficult_negative_case  \\\n",
            "0         0     NaN        0     NaN          29                    False   \n",
            "1         0     NaN        0     NaN          29                    False   \n",
            "2         0     NaN        0     NaN          29                    False   \n",
            "3         0     NaN        0     NaN          29                    False   \n",
            "4         0     0.0        0     NaN          21                     True   \n",
            "\n",
            "         image_name  \n",
            "0   10006_462822612  \n",
            "1  10006_1459541791  \n",
            "2  10006_1864590858  \n",
            "3  10006_1874946579  \n",
            "4   10011_220375232  \n",
            "   site_id  patient_id    image_id laterality view  age  implant  machine_id  \\\n",
            "0        2       10008   736471439          L  MLO   81        0          21   \n",
            "1        2       10008  1591370361          L   CC   81        0          21   \n",
            "2        2       10008    68070693          R  MLO   81        0          21   \n",
            "3        2       10008   361203119          R   CC   81        0          21   \n",
            "\n",
            "  prediction_id        image_name  \n",
            "0       10008_L   10008_736471439  \n",
            "1       10008_L  10008_1591370361  \n",
            "2       10008_R    10008_68070693  \n",
            "3       10008_R   10008_361203119  \n"
          ]
        }
      ]
    },
    {
      "cell_type": "code",
      "source": [
        "# The append_ext function is defined to append extension to the image name\n",
        "def append_ext(fname):\n",
        "    return fname+'.png'\n",
        "df_train['image_name']=df_train['image_name'].apply(append_ext)\n",
        "df_test['image_name']=df_test['image_name'].apply(append_ext)\n",
        "\n",
        "print(df_train.head())\n",
        "print(df_test.head())"
      ],
      "metadata": {
        "colab": {
          "base_uri": "https://localhost:8080/"
        },
        "id": "navF2abD6lNV",
        "outputId": "e9032bae-3e7c-4a02-fcdc-d72400d90f0f"
      },
      "execution_count": 9,
      "outputs": [
        {
          "output_type": "stream",
          "name": "stdout",
          "text": [
            "   site_id  patient_id    image_id laterality view   age  cancer  biopsy  \\\n",
            "0        2       10006   462822612          L   CC  61.0       0       0   \n",
            "1        2       10006  1459541791          L  MLO  61.0       0       0   \n",
            "2        2       10006  1864590858          R  MLO  61.0       0       0   \n",
            "3        2       10006  1874946579          R   CC  61.0       0       0   \n",
            "4        2       10011   220375232          L   CC  55.0       0       0   \n",
            "\n",
            "   invasive  BIRADS  implant density  machine_id  difficult_negative_case  \\\n",
            "0         0     NaN        0     NaN          29                    False   \n",
            "1         0     NaN        0     NaN          29                    False   \n",
            "2         0     NaN        0     NaN          29                    False   \n",
            "3         0     NaN        0     NaN          29                    False   \n",
            "4         0     0.0        0     NaN          21                     True   \n",
            "\n",
            "             image_name  \n",
            "0   10006_462822612.png  \n",
            "1  10006_1459541791.png  \n",
            "2  10006_1864590858.png  \n",
            "3  10006_1874946579.png  \n",
            "4   10011_220375232.png  \n",
            "   site_id  patient_id    image_id laterality view  age  implant  machine_id  \\\n",
            "0        2       10008   736471439          L  MLO   81        0          21   \n",
            "1        2       10008  1591370361          L   CC   81        0          21   \n",
            "2        2       10008    68070693          R  MLO   81        0          21   \n",
            "3        2       10008   361203119          R   CC   81        0          21   \n",
            "\n",
            "  prediction_id            image_name  \n",
            "0       10008_L   10008_736471439.png  \n",
            "1       10008_L  10008_1591370361.png  \n",
            "2       10008_R    10008_68070693.png  \n",
            "3       10008_R   10008_361203119.png  \n"
          ]
        }
      ]
    },
    {
      "cell_type": "code",
      "source": [
        "!ls \"/content/gdrive/My Drive/testing_images\""
      ],
      "metadata": {
        "colab": {
          "base_uri": "https://localhost:8080/"
        },
        "id": "3TbRff7aT-Gj",
        "outputId": "457b3916-525c-4470-a961-50e4aa4bc19e"
      },
      "execution_count": 10,
      "outputs": [
        {
          "output_type": "stream",
          "name": "stdout",
          "text": [
            "10008_1591370361.png  10008_68070693.png\n",
            "10008_361203119.png   10008_736471439.png\n"
          ]
        }
      ]
    },
    {
      "cell_type": "markdown",
      "source": [
        "# Split the RSNA_256 set into two dataset, one is training set, the other is validation set. The training set contains 75% of images, while the validation set is composed of 25% of images.\n",
        "\n",
        "The batch_size of the training set and the validation set has set as the number that divides the total number of images in the train set and valid respectively."
      ],
      "metadata": {
        "id": "lZewZYy1NwGB"
      }
    },
    {
      "cell_type": "code",
      "source": [
        "datagen=ImageDataGenerator(rescale=1./255.,validation_split=0.25)\n",
        "train_generator=datagen.flow_from_dataframe(dataframe=df_train,\n",
        "                                            directory=\"/content/gdrive/My Drive/RSNA_256/\",\n",
        "                                            x_col=\"image_name\",\n",
        "                                            y_col=\"cancer\",\n",
        "                                            subset=\"training\",\n",
        "                                            batch_size=373, # 41030 = 373*110\n",
        "                                            seed=42,\n",
        "                                            shuffle=True,\n",
        "                                            class_mode=\"raw\", # 'cancer' is numerical datatype\n",
        "                                            target_size=(256,256))\n",
        "valid_generator=datagen.flow_from_dataframe(dataframe=df_train,\n",
        "                                            directory=\"/content/gdrive/My Drive/RSNA_256/\",\n",
        "                                            x_col=\"image_name\",\n",
        "                                            y_col=\"cancer\",\n",
        "                                            subset=\"validation\",\n",
        "                                            batch_size=263, # 13676 = 263*52\n",
        "                                            seed=42,\n",
        "                                            shuffle=True,\n",
        "                                            class_mode=\"raw\", # 'cancer' is numerical datatype\n",
        "                                            target_size=(256,256))"
      ],
      "metadata": {
        "id": "1lKsU0sZ-VNm",
        "colab": {
          "base_uri": "https://localhost:8080/"
        },
        "outputId": "436d82a7-121d-4340-8bdb-d1de327cf9ba"
      },
      "execution_count": 11,
      "outputs": [
        {
          "output_type": "stream",
          "name": "stderr",
          "text": [
            "/usr/local/lib/python3.10/dist-packages/keras_preprocessing/image/dataframe_iterator.py:283: UserWarning: Found 3 invalid image filename(s) in x_col=\"image_name\". These filename(s) will be ignored.\n",
            "  warnings.warn(\n"
          ]
        },
        {
          "output_type": "stream",
          "name": "stdout",
          "text": [
            "Found 41028 validated image filenames.\n",
            "Found 13676 validated image filenames.\n"
          ]
        }
      ]
    },
    {
      "cell_type": "code",
      "source": [
        "#print(df_test.head())\n",
        "test_datagen=ImageDataGenerator(rescale=1./255.)\n",
        "test_generator=test_datagen.flow_from_dataframe(dataframe=df_test,\n",
        "                                                directory=\"/content/gdrive/My Drive/testing_images/\",\n",
        "                                                x_col=\"image_name\",\n",
        "                                                y_col=None,\n",
        "                                                batch_size=4,\n",
        "                                                seed=42,\n",
        "                                                shuffle=False,\n",
        "                                                class_mode=None,\n",
        "                                                target_size=(256,256))"
      ],
      "metadata": {
        "id": "rpbBDEQzeKAV",
        "colab": {
          "base_uri": "https://localhost:8080/"
        },
        "outputId": "09cf0360-f17b-40c2-9e6e-af48b60940c0"
      },
      "execution_count": 12,
      "outputs": [
        {
          "output_type": "stream",
          "name": "stdout",
          "text": [
            "Found 4 validated image filenames.\n"
          ]
        }
      ]
    },
    {
      "cell_type": "markdown",
      "source": [
        "# Build the model:"
      ],
      "metadata": {
        "id": "__iQ0aTXFsdI"
      }
    },
    {
      "cell_type": "code",
      "source": [
        "# Define the CNN model\n",
        "model = Sequential()\n",
        "model.add(Conv2D(32, (3, 3), padding='same',input_shape=(256,256,3)))\n",
        "model.add(Activation('relu'))\n",
        "model.add(Conv2D(32, (3, 3)))\n",
        "model.add(Activation('relu'))\n",
        "model.add(MaxPooling2D(pool_size=(2, 2)))\n",
        "model.add(Dropout(0.25))\n",
        "model.add(Conv2D(64, (3, 3), padding='same'))\n",
        "model.add(Activation('relu'))\n",
        "model.add(Conv2D(64, (3, 3)))\n",
        "model.add(Activation('relu'))\n",
        "model.add(MaxPooling2D(pool_size=(2, 2)))\n",
        "model.add(Dropout(0.25))\n",
        "model.add(Flatten())\n",
        "model.add(Dense(512))\n",
        "model.add(Activation('relu'))\n",
        "model.add(Dropout(0.25))\n",
        "model.add(Dense(2, activation='softmax')) # Two classes output"
      ],
      "metadata": {
        "id": "9HljZDvxFkcn"
      },
      "execution_count": 13,
      "outputs": []
    },
    {
      "cell_type": "code",
      "source": [
        "model.summary()"
      ],
      "metadata": {
        "id": "zAkNiHDWQKdg",
        "colab": {
          "base_uri": "https://localhost:8080/"
        },
        "outputId": "890377ac-d2a6-4741-c523-002c453b87bc"
      },
      "execution_count": 14,
      "outputs": [
        {
          "output_type": "stream",
          "name": "stdout",
          "text": [
            "Model: \"sequential\"\n",
            "_________________________________________________________________\n",
            " Layer (type)                Output Shape              Param #   \n",
            "=================================================================\n",
            " conv2d (Conv2D)             (None, 256, 256, 32)      896       \n",
            "                                                                 \n",
            " activation (Activation)     (None, 256, 256, 32)      0         \n",
            "                                                                 \n",
            " conv2d_1 (Conv2D)           (None, 254, 254, 32)      9248      \n",
            "                                                                 \n",
            " activation_1 (Activation)   (None, 254, 254, 32)      0         \n",
            "                                                                 \n",
            " max_pooling2d (MaxPooling2D  (None, 127, 127, 32)     0         \n",
            " )                                                               \n",
            "                                                                 \n",
            " dropout (Dropout)           (None, 127, 127, 32)      0         \n",
            "                                                                 \n",
            " conv2d_2 (Conv2D)           (None, 127, 127, 64)      18496     \n",
            "                                                                 \n",
            " activation_2 (Activation)   (None, 127, 127, 64)      0         \n",
            "                                                                 \n",
            " conv2d_3 (Conv2D)           (None, 125, 125, 64)      36928     \n",
            "                                                                 \n",
            " activation_3 (Activation)   (None, 125, 125, 64)      0         \n",
            "                                                                 \n",
            " max_pooling2d_1 (MaxPooling  (None, 62, 62, 64)       0         \n",
            " 2D)                                                             \n",
            "                                                                 \n",
            " dropout_1 (Dropout)         (None, 62, 62, 64)        0         \n",
            "                                                                 \n",
            " flatten (Flatten)           (None, 246016)            0         \n",
            "                                                                 \n",
            " dense (Dense)               (None, 512)               125960704 \n",
            "                                                                 \n",
            " activation_4 (Activation)   (None, 512)               0         \n",
            "                                                                 \n",
            " dropout_2 (Dropout)         (None, 512)               0         \n",
            "                                                                 \n",
            " dense_1 (Dense)             (None, 2)                 1026      \n",
            "                                                                 \n",
            "=================================================================\n",
            "Total params: 126,027,298\n",
            "Trainable params: 126,027,298\n",
            "Non-trainable params: 0\n",
            "_________________________________________________________________\n"
          ]
        }
      ]
    },
    {
      "cell_type": "code",
      "source": [
        "# Compile the model\n",
        "model.compile(loss=\"sparse_categorical_crossentropy\", optimizer=\"adam\", metrics=[\"accuracy\"])"
      ],
      "metadata": {
        "id": "Yp1lFN_HOZCe"
      },
      "execution_count": 15,
      "outputs": []
    },
    {
      "cell_type": "markdown",
      "source": [
        "# Fitting/Training the model"
      ],
      "metadata": {
        "id": "wlkeLPpKVNIa"
      }
    },
    {
      "cell_type": "code",
      "source": [
        "#model.fit(train_generator, validation_data=valid_generator, epochs=4)"
      ],
      "metadata": {
        "id": "miX1hDE7a0RZ"
      },
      "execution_count": 16,
      "outputs": []
    }
  ]
}