{
  "nbformat": 4,
  "nbformat_minor": 0,
  "metadata": {
    "colab": {
      "provenance": [],
      "gpuType": "T4"
    },
    "kernelspec": {
      "name": "python3",
      "display_name": "Python 3"
    },
    "language_info": {
      "name": "python"
    },
    "accelerator": "GPU"
  },
  "cells": [
    {
      "cell_type": "markdown",
      "source": [
        "# Import necessary packages"
      ],
      "metadata": {
        "id": "izh1uoOHOblT"
      }
    },
    {
      "cell_type": "code",
      "source": [
        "import os\n",
        "import numpy as np\n",
        "import matplotlib.pyplot as plt\n",
        "\n",
        "import pandas as pd"
      ],
      "metadata": {
        "id": "62hcZF6wiBHK"
      },
      "execution_count": 1,
      "outputs": []
    },
    {
      "cell_type": "markdown",
      "source": [
        "# Loading Data from Google Drive\n",
        "Images in the original dataset have been converted into 256*256 .png format"
      ],
      "metadata": {
        "id": "hFKigpFJOnOG"
      }
    },
    {
      "cell_type": "code",
      "source": [
        "from google.colab import drive\n",
        "drive.mount('/content/gdrive')"
      ],
      "metadata": {
        "colab": {
          "base_uri": "https://localhost:8080/"
        },
        "id": "gABCpwFre-ed",
        "outputId": "1d0404f4-1b6c-49c0-b6ba-26e4e49fe04a"
      },
      "execution_count": 2,
      "outputs": [
        {
          "output_type": "stream",
          "name": "stdout",
          "text": [
            "Drive already mounted at /content/gdrive; to attempt to forcibly remount, call drive.mount(\"/content/gdrive\", force_remount=True).\n"
          ]
        }
      ]
    },
    {
      "cell_type": "code",
      "source": [
        "!ls \"/content/gdrive/My Drive\""
      ],
      "metadata": {
        "colab": {
          "base_uri": "https://localhost:8080/"
        },
        "id": "0LiCtfNOTkSe",
        "outputId": "9ed64a3e-4800-4678-c442-346c1cc7f8b1"
      },
      "execution_count": 3,
      "outputs": [
        {
          "output_type": "stream",
          "name": "stdout",
          "text": [
            "'Colab Notebooks'\t\t\t      RSNA_256.zip     train.csv\n",
            " DMML2_CA_Breast_Cancer_Detection_CNN.ipynb   test.csv\n",
            " RSNA_256\t\t\t\t      testing_images\n"
          ]
        }
      ]
    },
    {
      "cell_type": "code",
      "source": [
        "df_train = pd.read_csv('/content/gdrive/My Drive/train.csv')\n",
        "df_test = pd.read_csv('/content/gdrive/My Drive/test.csv')\n",
        "#df_train.info()\n",
        "#print(df_train.head())\n",
        "#df_test.info()\n",
        "#print(df_test.head())\n",
        "df_train['cancer'].unique()\n",
        "df_train['cancer'].value_counts()"
      ],
      "metadata": {
        "colab": {
          "base_uri": "https://localhost:8080/"
        },
        "id": "JDvEM67zlwPc",
        "outputId": "03bf8bf5-1738-471b-e3b1-a35241b8c57f"
      },
      "execution_count": 4,
      "outputs": [
        {
          "output_type": "execute_result",
          "data": {
            "text/plain": [
              "0    53548\n",
              "1     1158\n",
              "Name: cancer, dtype: int64"
            ]
          },
          "metadata": {},
          "execution_count": 4
        }
      ]
    },
    {
      "cell_type": "code",
      "source": [
        "import seaborn as sns # boxplot, histplot\n",
        "\n",
        "ax=sns.countplot(x='cancer', data=df_train, palette='hls')\n",
        "plt.bar_label(ax.containers[0])\n",
        "plt.show()\n",
        "count_positive = len(df_train[df_train['cancer']==0])\n",
        "count_malignant = len(df_train[df_train['cancer']==1])\n",
        "pct_of_positive = count_positive/(count_positive+count_malignant)\n",
        "print(\"Percentage of Positive is:\", pct_of_positive*100)\n",
        "pct_of_malignant = count_malignant/(count_positive+count_malignant)\n",
        "print(\"Percentage of Malignant is:\", pct_of_malignant*100)"
      ],
      "metadata": {
        "colab": {
          "base_uri": "https://localhost:8080/",
          "height": 483
        },
        "id": "wxHA37oimGNs",
        "outputId": "0db9cc70-078b-407c-b86e-1b24156a209d"
      },
      "execution_count": 5,
      "outputs": [
        {
          "output_type": "display_data",
          "data": {
            "text/plain": [
              "<Figure size 640x480 with 1 Axes>"
            ],
            "image/png": "[encoded data removed]"
          },
          "metadata": {}
        },
        {
          "output_type": "stream",
          "name": "stdout",
          "text": [
            "Percentage of Positive is: 97.8832303586444\n",
            "Percentage of Malignant is: 2.11676964135561\n"
          ]
        }
      ]
    },
    {
      "cell_type": "code",
      "source": [
        "# The latest keras-preprocessing\n",
        "# Source Code: https://vijayabhaskar96.medium.com/tutorial-on-keras-flow-from-dataframe-1fd4493d237c\n",
        "# Modified by Jia Lin\n",
        "!pip install git+https://github.com/keras-team/keras-preprocessing.git"
      ],
      "metadata": {
        "id": "iCBJYDN75xe3",
        "colab": {
          "base_uri": "https://localhost:8080/"
        },
        "outputId": "c69aab60-2401-409d-ccf8-8838cf729594"
      },
      "execution_count": 6,
      "outputs": [
        {
          "output_type": "stream",
          "name": "stdout",
          "text": [
            "Collecting git+https://github.com/keras-team/keras-preprocessing.git\n",
            "  Cloning https://github.com/keras-team/keras-preprocessing.git to /tmp/pip-req-build-o5y7yqoy\n",
            "  Running command git clone --filter=blob:none --quiet https://github.com/keras-team/keras-preprocessing.git /tmp/pip-req-build-o5y7yqoy\n",
            "  Resolved https://github.com/keras-team/keras-preprocessing.git to commit 3e380065d4afc7347aaee8d89325a16b22158438\n",
            "  Preparing metadata (setup.py) ... \u001b[?25l\u001b[?25hdone\n",
            "Requirement already satisfied: numpy>=1.9.1 in /usr/local/lib/python3.10/dist-packages (from Keras-Preprocessing==1.1.2) (1.22.4)\n"
          ]
        }
      ]
    },
    {
      "cell_type": "markdown",
      "source": [
        "# Keras ImageDataGenerator to map the images in the RSNA_256 directory to the class cancer in the corresponing train.csv file"
      ],
      "metadata": {
        "id": "sj54RsrYPSaR"
      }
    },
    {
      "cell_type": "code",
      "source": [
        "from keras.models import Sequential\n",
        "#Import from keras_preprocessing not from keras.preprocessing\n",
        "from keras_preprocessing.image import ImageDataGenerator\n",
        "from keras.layers import Dense, Activation, Flatten, Dropout, BatchNormalization\n",
        "from keras.layers import Conv2D, MaxPooling2D\n",
        "from keras import regularizers, optimizers"
      ],
      "metadata": {
        "id": "-1rw69MC6Vnp"
      },
      "execution_count": 7,
      "outputs": []
    },
    {
      "cell_type": "code",
      "source": [
        "# Create image_name matching the name in the image name directory by concatenating the patient_id and image_id\n",
        "df_train['image_name'] = df_train[\"patient_id\"].astype(str) + '_' + df_train[\"image_id\"].astype(str)\n",
        "df_test['image_name'] = df_test[\"patient_id\"].astype(str) + '_' + df_test[\"image_id\"].astype(str)\n",
        "\n",
        "print(df_train.head())\n",
        "print(df_test.head())"
      ],
      "metadata": {
        "colab": {
          "base_uri": "https://localhost:8080/"
        },
        "id": "Icc8GWX-72Fi",
        "outputId": "db40b391-ae14-4307-9cfc-d4465bb887cf"
      },
      "execution_count": 8,
      "outputs": [
        {
          "output_type": "stream",
          "name": "stdout",
          "text": [
            "   site_id  patient_id    image_id laterality view   age  cancer  biopsy  \\\n",
            "0        2       10006   462822612          L   CC  61.0       0       0   \n",
            "1        2       10006  1459541791          L  MLO  61.0       0       0   \n",
            "2        2       10006  1864590858          R  MLO  61.0       0       0   \n",
            "3        2       10006  1874946579          R   CC  61.0       0       0   \n",
            "4        2       10011   220375232          L   CC  55.0       0       0   \n",
            "\n",
            "   invasive  BIRADS  implant density  machine_id  difficult_negative_case  \\\n",
            "0         0     NaN        0     NaN          29                    False   \n",
            "1         0     NaN        0     NaN          29                    False   \n",
            "2         0     NaN        0     NaN          29                    False   \n",
            "3         0     NaN        0     NaN          29                    False   \n",
            "4         0     0.0        0     NaN          21                     True   \n",
            "\n",
            "         image_name  \n",
            "0   10006_462822612  \n",
            "1  10006_1459541791  \n",
            "2  10006_1864590858  \n",
            "3  10006_1874946579  \n",
            "4   10011_220375232  \n",
            "   site_id  patient_id    image_id laterality view  age  implant  machine_id  \\\n",
            "0        2       10008   736471439          L  MLO   81        0          21   \n",
            "1        2       10008  1591370361          L   CC   81        0          21   \n",
            "2        2       10008    68070693          R  MLO   81        0          21   \n",
            "3        2       10008   361203119          R   CC   81        0          21   \n",
            "\n",
            "  prediction_id        image_name  \n",
            "0       10008_L   10008_736471439  \n",
            "1       10008_L  10008_1591370361  \n",
            "2       10008_R    10008_68070693  \n",
            "3       10008_R   10008_361203119  \n"
          ]
        }
      ]
    },
    {
      "cell_type": "code",
      "source": [
        "# The append_ext function is defined to append extension to the image name\n",
        "def append_ext(fname):\n",
        "    return fname+'.png'\n",
        "df_train['image_name']=df_train['image_name'].apply(append_ext)\n",
        "df_test['image_name']=df_test['image_name'].apply(append_ext)\n",
        "\n",
        "print(df_train.head())\n",
        "print(df_test.head())"
      ],
      "metadata": {
        "colab": {
          "base_uri": "https://localhost:8080/"
        },
        "id": "navF2abD6lNV",
        "outputId": "af16703d-e231-4601-ef50-ef03917dabd8"
      },
      "execution_count": 9,
      "outputs": [
        {
          "output_type": "stream",
          "name": "stdout",
          "text": [
            "   site_id  patient_id    image_id laterality view   age  cancer  biopsy  \\\n",
            "0        2       10006   462822612          L   CC  61.0       0       0   \n",
            "1        2       10006  1459541791          L  MLO  61.0       0       0   \n",
            "2        2       10006  1864590858          R  MLO  61.0       0       0   \n",
            "3        2       10006  1874946579          R   CC  61.0       0       0   \n",
            "4        2       10011   220375232          L   CC  55.0       0       0   \n",
            "\n",
            "   invasive  BIRADS  implant density  machine_id  difficult_negative_case  \\\n",
            "0         0     NaN        0     NaN          29                    False   \n",
            "1         0     NaN        0     NaN          29                    False   \n",
            "2         0     NaN        0     NaN          29                    False   \n",
            "3         0     NaN        0     NaN          29                    False   \n",
            "4         0     0.0        0     NaN          21                     True   \n",
            "\n",
            "             image_name  \n",
            "0   10006_462822612.png  \n",
            "1  10006_1459541791.png  \n",
            "2  10006_1864590858.png  \n",
            "3  10006_1874946579.png  \n",
            "4   10011_220375232.png  \n",
            "   site_id  patient_id    image_id laterality view  age  implant  machine_id  \\\n",
            "0        2       10008   736471439          L  MLO   81        0          21   \n",
            "1        2       10008  1591370361          L   CC   81        0          21   \n",
            "2        2       10008    68070693          R  MLO   81        0          21   \n",
            "3        2       10008   361203119          R   CC   81        0          21   \n",
            "\n",
            "  prediction_id            image_name  \n",
            "0       10008_L   10008_736471439.png  \n",
            "1       10008_L  10008_1591370361.png  \n",
            "2       10008_R    10008_68070693.png  \n",
            "3       10008_R   10008_361203119.png  \n"
          ]
        }
      ]
    },
    {
      "cell_type": "code",
      "source": [
        "!ls \"/content/gdrive/My Drive/testing_images\""
      ],
      "metadata": {
        "colab": {
          "base_uri": "https://localhost:8080/"
        },
        "id": "3TbRff7aT-Gj",
        "outputId": "a0f2d995-bf26-4d61-a6c3-c1f76bf53998"
      },
      "execution_count": 10,
      "outputs": [
        {
          "output_type": "stream",
          "name": "stdout",
          "text": [
            "10008_1591370361.png  10008_68070693.png\n",
            "10008_361203119.png   10008_736471439.png\n"
          ]
        }
      ]
    },
    {
      "cell_type": "markdown",
      "source": [
        "# Split the RSNA_256 set into two dataset, one is training set, the other is validation set. The training set contains 75% of images, while the validation set is composed of 25% of images.\n",
        "\n",
        "The batch_size of the training set and the validation set has set as the number that divides the total number of images in the train set and valid respectively."
      ],
      "metadata": {
        "id": "lZewZYy1NwGB"
      }
    },
    {
      "cell_type": "code",
      "source": [
        "datagen=ImageDataGenerator(rescale=1./255.,validation_split=0.25)\n",
        "train_generator=datagen.flow_from_dataframe(dataframe=df_train,\n",
        "                                            directory=\"/content/gdrive/My Drive/RSNA_256/\",\n",
        "                                            x_col=\"image_name\",\n",
        "                                            y_col=\"cancer\",\n",
        "                                            subset=\"training\",\n",
        "                                            batch_size=373, # 41030 = 373*110\n",
        "                                            seed=42,\n",
        "                                            shuffle=True,\n",
        "                                            class_mode=\"raw\", # 'cancer' is numerical datatype\n",
        "                                            target_size=(256,256))\n",
        "valid_generator=datagen.flow_from_dataframe(dataframe=df_train,\n",
        "                                            directory=\"/content/gdrive/My Drive/RSNA_256/\",\n",
        "                                            x_col=\"image_name\",\n",
        "                                            y_col=\"cancer\",\n",
        "                                            subset=\"validation\",\n",
        "                                            batch_size=263, # 13676 = 263*52\n",
        "                                            seed=42,\n",
        "                                            shuffle=True,\n",
        "                                            class_mode=\"raw\", # 'cancer' is numerical datatype\n",
        "                                            target_size=(256,256))"
      ],
      "metadata": {
        "id": "1lKsU0sZ-VNm",
        "colab": {
          "base_uri": "https://localhost:8080/"
        },
        "outputId": "de17a77f-c48c-4eca-ac34-30f524f54e7d"
      },
      "execution_count": 11,
      "outputs": [
        {
          "output_type": "stream",
          "name": "stdout",
          "text": [
            "Found 41030 validated image filenames.\n",
            "Found 13676 validated image filenames.\n"
          ]
        }
      ]
    },
    {
      "cell_type": "code",
      "source": [
        "#print(df_test.head())\n",
        "test_datagen=ImageDataGenerator(rescale=1./255.)\n",
        "test_generator=test_datagen.flow_from_dataframe(dataframe=df_test,\n",
        "                                                directory=\"/content/gdrive/My Drive/testing_images/\",\n",
        "                                                x_col=\"image_name\",\n",
        "                                                y_col=None,\n",
        "                                                batch_size=4,\n",
        "                                                seed=42,\n",
        "                                                shuffle=False,\n",
        "                                                class_mode=None,\n",
        "                                                target_size=(256,256))"
      ],
      "metadata": {
        "id": "rpbBDEQzeKAV",
        "colab": {
          "base_uri": "https://localhost:8080/"
        },
        "outputId": "be0045e1-085d-422b-e72d-cad52fc8d195"
      },
      "execution_count": 12,
      "outputs": [
        {
          "output_type": "stream",
          "name": "stdout",
          "text": [
            "Found 4 validated image filenames.\n"
          ]
        }
      ]
    },
    {
      "cell_type": "markdown",
      "source": [
        "# Build the model:"
      ],
      "metadata": {
        "id": "__iQ0aTXFsdI"
      }
    },
    {
      "cell_type": "code",
      "source": [
        "# Define the CNN model\n",
        "model = Sequential()\n",
        "model.add(Conv2D(32, (3, 3), padding='same',input_shape=(256,256,3)))\n",
        "model.add(Activation('relu'))\n",
        "model.add(Conv2D(32, (3, 3)))\n",
        "model.add(Activation('relu'))\n",
        "model.add(MaxPooling2D(pool_size=(2, 2)))\n",
        "model.add(Dropout(0.25))\n",
        "model.add(Conv2D(64, (3, 3), padding='same'))\n",
        "model.add(Activation('relu'))\n",
        "model.add(Conv2D(64, (3, 3)))\n",
        "model.add(Activation('relu'))\n",
        "model.add(MaxPooling2D(pool_size=(2, 2)))\n",
        "model.add(Dropout(0.25))\n",
        "model.add(Flatten())\n",
        "model.add(Dense(512))\n",
        "model.add(Activation('relu'))\n",
        "model.add(Dropout(0.25))\n",
        "model.add(Dense(2, activation='softmax')) # Two classes output"
      ],
      "metadata": {
        "id": "9HljZDvxFkcn"
      },
      "execution_count": 13,
      "outputs": []
    },
    {
      "cell_type": "code",
      "source": [
        "model.summary()"
      ],
      "metadata": {
        "id": "zAkNiHDWQKdg",
        "colab": {
          "base_uri": "https://localhost:8080/"
        },
        "outputId": "8cdb6679-0acb-40e1-c245-b380a2e04339"
      },
      "execution_count": 14,
      "outputs": [
        {
          "output_type": "stream",
          "name": "stdout",
          "text": [
            "Model: \"sequential\"\n",
            "_________________________________________________________________\n",
            " Layer (type)                Output Shape              Param #   \n",
            "=================================================================\n",
            " conv2d (Conv2D)             (None, 256, 256, 32)      896       \n",
            "                                                                 \n",
            " activation (Activation)     (None, 256, 256, 32)      0         \n",
            "                                                                 \n",
            " conv2d_1 (Conv2D)           (None, 254, 254, 32)      9248      \n",
            "                                                                 \n",
            " activation_1 (Activation)   (None, 254, 254, 32)      0         \n",
            "                                                                 \n",
            " max_pooling2d (MaxPooling2D  (None, 127, 127, 32)     0         \n",
            " )                                                               \n",
            "                                                                 \n",
            " dropout (Dropout)           (None, 127, 127, 32)      0         \n",
            "                                                                 \n",
            " conv2d_2 (Conv2D)           (None, 127, 127, 64)      18496     \n",
            "                                                                 \n",
            " activation_2 (Activation)   (None, 127, 127, 64)      0         \n",
            "                                                                 \n",
            " conv2d_3 (Conv2D)           (None, 125, 125, 64)      36928     \n",
            "                                                                 \n",
            " activation_3 (Activation)   (None, 125, 125, 64)      0         \n",
            "                                                                 \n",
            " max_pooling2d_1 (MaxPooling  (None, 62, 62, 64)       0         \n",
            " 2D)                                                             \n",
            "                                                                 \n",
            " dropout_1 (Dropout)         (None, 62, 62, 64)        0         \n",
            "                                                                 \n",
            " flatten (Flatten)           (None, 246016)            0         \n",
            "                                                                 \n",
            " dense (Dense)               (None, 512)               125960704 \n",
            "                                                                 \n",
            " activation_4 (Activation)   (None, 512)               0         \n",
            "                                                                 \n",
            " dropout_2 (Dropout)         (None, 512)               0         \n",
            "                                                                 \n",
            " dense_1 (Dense)             (None, 2)                 1026      \n",
            "                                                                 \n",
            "=================================================================\n",
            "Total params: 126,027,298\n",
            "Trainable params: 126,027,298\n",
            "Non-trainable params: 0\n",
            "_________________________________________________________________\n"
          ]
        }
      ]
    },
    {
      "cell_type": "code",
      "source": [
        "# Compile the model\n",
        "model.compile(loss=\"sparse_categorical_crossentropy\", optimizer=\"adam\", metrics=[\"accuracy\"])"
      ],
      "metadata": {
        "id": "Yp1lFN_HOZCe"
      },
      "execution_count": 15,
      "outputs": []
    },
    {
      "cell_type": "markdown",
      "source": [
        "# Fitting/Training the model"
      ],
      "metadata": {
        "id": "wlkeLPpKVNIa"
      }
    },
    {
      "cell_type": "code",
      "source": [
        "model.fit(train_generator, validation_data=valid_generator, epochs=4)"
      ],
      "metadata": {
        "id": "miX1hDE7a0RZ",
        "colab": {
          "base_uri": "https://localhost:8080/",
          "height": 1000
        },
        "outputId": "cfd46829-22cb-4137-f7ce-1951dadd119a"
      },
      "execution_count": 16,
      "outputs": [
        {
          "output_type": "stream",
          "name": "stdout",
          "text": [
            "Epoch 1/4\n"
          ]
        },
        {
          "output_type": "error",
          "ename": "ResourceExhaustedError",
          "evalue": "ignored",
          "traceback": [
            "\u001b[0;31m---------------------------------------------------------------------------\u001b[0m",
            "\u001b[0;31mResourceExhaustedError\u001b[0m                    Traceback (most recent call last)",
            "\u001b[0;32m<ipython-input-16-d5643c7528e2>\u001b[0m in \u001b[0;36m<cell line: 1>\u001b[0;34m()\u001b[0m\n\u001b[0;32m----> 1\u001b[0;31m \u001b[0mmodel\u001b[0m\u001b[0;34m.\u001b[0m\u001b[0mfit\u001b[0m\u001b[0;34m(\u001b[0m\u001b[0mtrain_generator\u001b[0m\u001b[0;34m,\u001b[0m \u001b[0mvalidation_data\u001b[0m\u001b[0;34m=\u001b[0m\u001b[0mvalid_generator\u001b[0m\u001b[0;34m,\u001b[0m \u001b[0mepochs\u001b[0m\u001b[0;34m=\u001b[0m\u001b[0;36m4\u001b[0m\u001b[0;34m)\u001b[0m\u001b[0;34m\u001b[0m\u001b[0;34m\u001b[0m\u001b[0m\n\u001b[0m",
            "\u001b[0;32m/usr/local/lib/python3.10/dist-packages/keras/utils/traceback_utils.py\u001b[0m in \u001b[0;36merror_handler\u001b[0;34m(*args, **kwargs)\u001b[0m\n\u001b[1;32m     68\u001b[0m             \u001b[0;31m# To get the full stack trace, call:\u001b[0m\u001b[0;34m\u001b[0m\u001b[0;34m\u001b[0m\u001b[0m\n\u001b[1;32m     69\u001b[0m             \u001b[0;31m# `tf.debugging.disable_traceback_filtering()`\u001b[0m\u001b[0;34m\u001b[0m\u001b[0;34m\u001b[0m\u001b[0m\n\u001b[0;32m---> 70\u001b[0;31m             \u001b[0;32mraise\u001b[0m \u001b[0me\u001b[0m\u001b[0;34m.\u001b[0m\u001b[0mwith_traceback\u001b[0m\u001b[0;34m(\u001b[0m\u001b[0mfiltered_tb\u001b[0m\u001b[0;34m)\u001b[0m \u001b[0;32mfrom\u001b[0m \u001b[0;32mNone\u001b[0m\u001b[0;34m\u001b[0m\u001b[0;34m\u001b[0m\u001b[0m\n\u001b[0m\u001b[1;32m     71\u001b[0m         \u001b[0;32mfinally\u001b[0m\u001b[0;34m:\u001b[0m\u001b[0;34m\u001b[0m\u001b[0;34m\u001b[0m\u001b[0m\n\u001b[1;32m     72\u001b[0m             \u001b[0;32mdel\u001b[0m \u001b[0mfiltered_tb\u001b[0m\u001b[0;34m\u001b[0m\u001b[0;34m\u001b[0m\u001b[0m\n",
            "\u001b[0;32m/usr/local/lib/python3.10/dist-packages/tensorflow/python/eager/execute.py\u001b[0m in \u001b[0;36mquick_execute\u001b[0;34m(op_name, num_outputs, inputs, attrs, ctx, name)\u001b[0m\n\u001b[1;32m     50\u001b[0m   \u001b[0;32mtry\u001b[0m\u001b[0;34m:\u001b[0m\u001b[0;34m\u001b[0m\u001b[0;34m\u001b[0m\u001b[0m\n\u001b[1;32m     51\u001b[0m     \u001b[0mctx\u001b[0m\u001b[0;34m.\u001b[0m\u001b[0mensure_initialized\u001b[0m\u001b[0;34m(\u001b[0m\u001b[0;34m)\u001b[0m\u001b[0;34m\u001b[0m\u001b[0;34m\u001b[0m\u001b[0m\n\u001b[0;32m---> 52\u001b[0;31m     tensors = pywrap_tfe.TFE_Py_Execute(ctx._handle, device_name, op_name,\n\u001b[0m\u001b[1;32m     53\u001b[0m                                         inputs, attrs, num_outputs)\n\u001b[1;32m     54\u001b[0m   \u001b[0;32mexcept\u001b[0m \u001b[0mcore\u001b[0m\u001b[0;34m.\u001b[0m\u001b[0m_NotOkStatusException\u001b[0m \u001b[0;32mas\u001b[0m \u001b[0me\u001b[0m\u001b[0;34m:\u001b[0m\u001b[0;34m\u001b[0m\u001b[0;34m\u001b[0m\u001b[0m\n",
            "\u001b[0;31mResourceExhaustedError\u001b[0m: Graph execution error:\n\nDetected at node 'sequential/activation_1/Relu' defined at (most recent call last):\n    File \"/usr/lib/python3.10/runpy.py\", line 196, in _run_module_as_main\n      return _run_code(code, main_globals, None,\n    File \"/usr/lib/python3.10/runpy.py\", line 86, in _run_code\n      exec(code, run_globals)\n    File \"/usr/local/lib/python3.10/dist-packages/ipykernel_launcher.py\", line 16, in <module>\n      app.launch_new_instance()\n    File \"/usr/local/lib/python3.10/dist-packages/traitlets/config/application.py\", line 992, in launch_instance\n      app.start()\n    File \"/usr/local/lib/python3.10/dist-packages/ipykernel/kernelapp.py\", line 619, in start\n      self.io_loop.start()\n    File \"/usr/local/lib/python3.10/dist-packages/tornado/platform/asyncio.py\", line 195, in start\n      self.asyncio_loop.run_forever()\n    File \"/usr/lib/python3.10/asyncio/base_events.py\", line 603, in run_forever\n      self._run_once()\n    File \"/usr/lib/python3.10/asyncio/base_events.py\", line 1909, in _run_once\n      handle._run()\n    File \"/usr/lib/python3.10/asyncio/events.py\", line 80, in _run\n      self._context.run(self._callback, *self._args)\n    File \"/usr/local/lib/python3.10/dist-packages/tornado/ioloop.py\", line 685, in <lambda>\n      lambda f: self._run_callback(functools.partial(callback, future))\n    File \"/usr/local/lib/python3.10/dist-packages/tornado/ioloop.py\", line 738, in _run_callback\n      ret = callback()\n    File \"/usr/local/lib/python3.10/dist-packages/tornado/gen.py\", line 825, in inner\n      self.ctx_run(self.run)\n    File \"/usr/local/lib/python3.10/dist-packages/tornado/gen.py\", line 786, in run\n      yielded = self.gen.send(value)\n    File \"/usr/local/lib/python3.10/dist-packages/ipykernel/kernelbase.py\", line 377, in dispatch_queue\n      yield self.process_one()\n    File \"/usr/local/lib/python3.10/dist-packages/tornado/gen.py\", line 250, in wrapper\n      runner = Runner(ctx_run, result, future, yielded)\n    File \"/usr/local/lib/python3.10/dist-packages/tornado/gen.py\", line 748, in __init__\n      self.ctx_run(self.run)\n    File \"/usr/local/lib/python3.10/dist-packages/tornado/gen.py\", line 786, in run\n      yielded = self.gen.send(value)\n    File \"/usr/local/lib/python3.10/dist-packages/ipykernel/kernelbase.py\", line 361, in process_one\n      yield gen.maybe_future(dispatch(*args))\n    File \"/usr/local/lib/python3.10/dist-packages/tornado/gen.py\", line 234, in wrapper\n      yielded = ctx_run(next, result)\n    File \"/usr/local/lib/python3.10/dist-packages/ipykernel/kernelbase.py\", line 261, in dispatch_shell\n      yield gen.maybe_future(handler(stream, idents, msg))\n    File \"/usr/local/lib/python3.10/dist-packages/tornado/gen.py\", line 234, in wrapper\n      yielded = ctx_run(next, result)\n    File \"/usr/local/lib/python3.10/dist-packages/ipykernel/kernelbase.py\", line 539, in execute_request\n      self.do_execute(\n    File \"/usr/local/lib/python3.10/dist-packages/tornado/gen.py\", line 234, in wrapper\n      yielded = ctx_run(next, result)\n    File \"/usr/local/lib/python3.10/dist-packages/ipykernel/ipkernel.py\", line 302, in do_execute\n      res = shell.run_cell(code, store_history=store_history, silent=silent)\n    File \"/usr/local/lib/python3.10/dist-packages/ipykernel/zmqshell.py\", line 539, in run_cell\n      return super(ZMQInteractiveShell, self).run_cell(*args, **kwargs)\n    File \"/usr/local/lib/python3.10/dist-packages/IPython/core/interactiveshell.py\", line 2975, in run_cell\n      result = self._run_cell(\n    File \"/usr/local/lib/python3.10/dist-packages/IPython/core/interactiveshell.py\", line 3030, in _run_cell\n      return runner(coro)\n    File \"/usr/local/lib/python3.10/dist-packages/IPython/core/async_helpers.py\", line 78, in _pseudo_sync_runner\n      coro.send(None)\n    File \"/usr/local/lib/python3.10/dist-packages/IPython/core/interactiveshell.py\", line 3257, in run_cell_async\n      has_raised = await self.run_ast_nodes(code_ast.body, cell_name,\n    File \"/usr/local/lib/python3.10/dist-packages/IPython/core/interactiveshell.py\", line 3473, in run_ast_nodes\n      if (await self.run_code(code, result,  async_=asy)):\n    File \"/usr/local/lib/python3.10/dist-packages/IPython/core/interactiveshell.py\", line 3553, in run_code\n      exec(code_obj, self.user_global_ns, self.user_ns)\n    File \"<ipython-input-16-d5643c7528e2>\", line 1, in <cell line: 1>\n      model.fit(train_generator, validation_data=valid_generator, epochs=4)\n    File \"/usr/local/lib/python3.10/dist-packages/keras/utils/traceback_utils.py\", line 65, in error_handler\n      return fn(*args, **kwargs)\n    File \"/usr/local/lib/python3.10/dist-packages/keras/engine/training.py\", line 1685, in fit\n      tmp_logs = self.train_function(iterator)\n    File \"/usr/local/lib/python3.10/dist-packages/keras/engine/training.py\", line 1284, in train_function\n      return step_function(self, iterator)\n    File \"/usr/local/lib/python3.10/dist-packages/keras/engine/training.py\", line 1268, in step_function\n      outputs = model.distribute_strategy.run(run_step, args=(data,))\n    File \"/usr/local/lib/python3.10/dist-packages/keras/engine/training.py\", line 1249, in run_step\n      outputs = model.train_step(data)\n    File \"/usr/local/lib/python3.10/dist-packages/keras/engine/training.py\", line 1050, in train_step\n      y_pred = self(x, training=True)\n    File \"/usr/local/lib/python3.10/dist-packages/keras/utils/traceback_utils.py\", line 65, in error_handler\n      return fn(*args, **kwargs)\n    File \"/usr/local/lib/python3.10/dist-packages/keras/engine/training.py\", line 558, in __call__\n      return super().__call__(*args, **kwargs)\n    File \"/usr/local/lib/python3.10/dist-packages/keras/utils/traceback_utils.py\", line 65, in error_handler\n      return fn(*args, **kwargs)\n    File \"/usr/local/lib/python3.10/dist-packages/keras/engine/base_layer.py\", line 1145, in __call__\n      outputs = call_fn(inputs, *args, **kwargs)\n    File \"/usr/local/lib/python3.10/dist-packages/keras/utils/traceback_utils.py\", line 96, in error_handler\n      return fn(*args, **kwargs)\n    File \"/usr/local/lib/python3.10/dist-packages/keras/engine/sequential.py\", line 412, in call\n      return super().call(inputs, training=training, mask=mask)\n    File \"/usr/local/lib/python3.10/dist-packages/keras/engine/functional.py\", line 512, in call\n      return self._run_internal_graph(inputs, training=training, mask=mask)\n    File \"/usr/local/lib/python3.10/dist-packages/keras/engine/functional.py\", line 669, in _run_internal_graph\n      outputs = node.layer(*args, **kwargs)\n    File \"/usr/local/lib/python3.10/dist-packages/keras/utils/traceback_utils.py\", line 65, in error_handler\n      return fn(*args, **kwargs)\n    File \"/usr/local/lib/python3.10/dist-packages/keras/engine/base_layer.py\", line 1145, in __call__\n      outputs = call_fn(inputs, *args, **kwargs)\n    File \"/usr/local/lib/python3.10/dist-packages/keras/utils/traceback_utils.py\", line 96, in error_handler\n      return fn(*args, **kwargs)\n    File \"/usr/local/lib/python3.10/dist-packages/keras/layers/core/activation.py\", line 59, in call\n      return self.activation(inputs)\n    File \"/usr/local/lib/python3.10/dist-packages/keras/activations.py\", line 317, in relu\n      return backend.relu(\n    File \"/usr/local/lib/python3.10/dist-packages/keras/backend.py\", line 5396, in relu\n      x = tf.nn.relu(x)\nNode: 'sequential/activation_1/Relu'\nOOM when allocating tensor with shape[373,32,254,254] and type float on /job:localhost/replica:0/task:0/device:GPU:0 by allocator GPU_0_bfc\n\t [[{{node sequential/activation_1/Relu}}]]\nHint: If you want to see a list of allocated tensors when OOM happens, add report_tensor_allocations_upon_oom to RunOptions for current allocation info. This isn't available when running in Eager mode.\n [Op:__inference_train_function_1656]"
          ]
        }
      ]
    }
  ]
}