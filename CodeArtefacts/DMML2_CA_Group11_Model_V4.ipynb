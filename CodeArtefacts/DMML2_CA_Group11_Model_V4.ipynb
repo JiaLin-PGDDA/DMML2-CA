{
  "nbformat": 4,
  "nbformat_minor": 0,
  "metadata": {
    "colab": {
      "provenance": [],
      "gpuType": "A100"
    },
    "kernelspec": {
      "name": "python3",
      "display_name": "Python 3"
    },
    "language_info": {
      "name": "python"
    },
    "accelerator": "GPU"
  },
  "cells": [
    {
      "cell_type": "markdown",
      "source": [
        "# Import necessary packages"
      ],
      "metadata": {
        "id": "izh1uoOHOblT"
      }
    },
    {
      "cell_type": "code",
      "source": [
        "import os\n",
        "import numpy as np\n",
        "import pandas as pd\n",
        "import matplotlib.pyplot as plt\n",
        "import seaborn as sns # boxplot, histplot\n",
        "import cv2\n",
        "\n",
        "# The latest keras-preprocessing\n",
        "!pip install git+https://github.com/keras-team/keras-preprocessing.git\n",
        "\n",
        "from keras.models import Sequential\n",
        "#Import from keras_preprocessing not from keras.preprocessing\n",
        "import tensorflow as tf\n",
        "#from keras import backend as K\n",
        "from keras_preprocessing.image import ImageDataGenerator\n",
        "from keras.layers import Rescaling, Dense, Activation, Flatten, Dropout, BatchNormalization\n",
        "from keras.layers import Conv2D, MaxPooling2D\n",
        "from keras import regularizers, optimizers\n",
        "\n",
        "from sklearn import metrics\n",
        "from sklearn.metrics import classification_report, confusion_matrix\n"
      ],
      "metadata": {
        "id": "62hcZF6wiBHK",
        "colab": {
          "base_uri": "https://localhost:8080/"
        },
        "outputId": "5443bd25-a820-4e4d-eb33-bcb7865d0725"
      },
      "execution_count": 29,
      "outputs": [
        {
          "output_type": "stream",
          "name": "stdout",
          "text": [
            "Collecting git+https://github.com/keras-team/keras-preprocessing.git\n",
            "  Cloning https://github.com/keras-team/keras-preprocessing.git to /tmp/pip-req-build-38icwqh_\n",
            "  Running command git clone --filter=blob:none --quiet https://github.com/keras-team/keras-preprocessing.git /tmp/pip-req-build-38icwqh_\n",
            "  Resolved https://github.com/keras-team/keras-preprocessing.git to commit 3e380065d4afc7347aaee8d89325a16b22158438\n",
            "  Preparing metadata (setup.py) ... \u001b[?25l\u001b[?25hdone\n",
            "Requirement already satisfied: numpy>=1.9.1 in /usr/local/lib/python3.10/dist-packages (from Keras-Preprocessing==1.1.2) (1.23.5)\n"
          ]
        }
      ]
    },
    {
      "cell_type": "markdown",
      "source": [
        "# Loading Data from Google Drive\n",
        "Images in the original dataset have been converted into 256*256 .png format"
      ],
      "metadata": {
        "id": "hFKigpFJOnOG"
      }
    },
    {
      "cell_type": "code",
      "source": [
        "from google.colab import drive\n",
        "drive.mount('/content/gdrive')\n",
        "#!ls \"/content/gdrive/My Drive\""
      ],
      "metadata": {
        "colab": {
          "base_uri": "https://localhost:8080/"
        },
        "id": "gABCpwFre-ed",
        "outputId": "a87bb873-c6dd-4581-f948-36f86af27577"
      },
      "execution_count": 30,
      "outputs": [
        {
          "output_type": "stream",
          "name": "stdout",
          "text": [
            "Drive already mounted at /content/gdrive; to attempt to forcibly remount, call drive.mount(\"/content/gdrive\", force_remount=True).\n"
          ]
        }
      ]
    },
    {
      "cell_type": "code",
      "source": [
        "df_train = pd.read_csv('/content/gdrive/My Drive/train.csv')\n",
        "df_test = pd.read_csv('/content/gdrive/My Drive/test.csv')\n",
        "#df_train.info()\n",
        "#df_test.info()\n",
        "df_train['cancer'].unique()\n",
        "df_train['cancer'].value_counts()"
      ],
      "metadata": {
        "colab": {
          "base_uri": "https://localhost:8080/"
        },
        "id": "JDvEM67zlwPc",
        "outputId": "08bb4213-afc3-4f57-9789-95334d5e9f15"
      },
      "execution_count": 31,
      "outputs": [
        {
          "output_type": "execute_result",
          "data": {
            "text/plain": [
              "0    53548\n",
              "1     1158\n",
              "Name: cancer, dtype: int64"
            ]
          },
          "metadata": {},
          "execution_count": 31
        }
      ]
    },
    {
      "cell_type": "markdown",
      "source": [
        "# Data Preprocessing\n",
        "## Balance the data"
      ],
      "metadata": {
        "id": "2ivCrxz1wWA-"
      }
    },
    {
      "cell_type": "code",
      "source": [
        "df_benign = df_train[df_train['cancer'] == 0]\n",
        "df_malign = df_train[df_train['cancer'] == 1]\n",
        "\n",
        "df_benign = df_benign.sample(n=1202, random_state=1) # Make sure each time random the same samples.\n",
        "df_sample = pd.concat([df_benign, df_malign])\n",
        "# sort the value and mix the entries\n",
        "df_sample.sort_values(by = ['patient_id', 'image_id'], ascending = [True, True], na_position = 'first')"
      ],
      "metadata": {
        "id": "aTA4lZ-VtCxu",
        "colab": {
          "base_uri": "https://localhost:8080/",
          "height": 483
        },
        "outputId": "d10de9db-1959-423c-ec7a-b0f9b95f48dd"
      },
      "execution_count": 33,
      "outputs": [
        {
          "output_type": "execute_result",
          "data": {
            "text/plain": [
              "       site_id  patient_id    image_id laterality view   age  cancer  biopsy  \\\n",
              "582          2         106    76321767          L   CC  65.0       1       1   \n",
              "583          2         106  2018825992          L  MLO  65.0       1       1   \n",
              "1441         2         115   503361456          R   CC  55.0       0       0   \n",
              "7222         2         177  1110981332          R  MLO  71.0       0       0   \n",
              "9736         2         204   890985677          L   CC  60.0       0       0   \n",
              "...        ...         ...         ...        ...  ...   ...     ...     ...   \n",
              "51431        1       65456   694039741          R  MLO  54.0       0       0   \n",
              "51474        2       65492  1186509485          L  MLO  59.0       1       1   \n",
              "51475        2       65492  1306638994          L   CC  59.0       1       1   \n",
              "51480        2       65493   442293322          R  MLO  50.0       0       0   \n",
              "51506        1       65530   633167749          L  MLO  48.0       0       0   \n",
              "\n",
              "       invasive  BIRADS  implant density  machine_id  difficult_negative_case  \n",
              "582           1     NaN        0     NaN          21                    False  \n",
              "583           1     NaN        0     NaN          21                    False  \n",
              "1441          0     NaN        0     NaN          21                    False  \n",
              "7222          0     NaN        0     NaN          29                    False  \n",
              "9736          0     NaN        0     NaN          48                    False  \n",
              "...         ...     ...      ...     ...         ...                      ...  \n",
              "51431         0     1.0        1       B          49                    False  \n",
              "51474         1     NaN        0     NaN          48                    False  \n",
              "51475         1     NaN        0     NaN          48                    False  \n",
              "51480         0     NaN        0     NaN          21                    False  \n",
              "51506         0     NaN        0       C          49                    False  \n",
              "\n",
              "[2360 rows x 14 columns]"
            ],
            "text/html": [
              "\n",
              "\n",
              "  <div id=\"df-381bcd85-a5b1-48c1-802e-db33d7643e53\">\n",
              "    <div class=\"colab-df-container\">\n",
              "      <div>\n",
              "<style scoped>\n",
              "    .dataframe tbody tr th:only-of-type {\n",
              "        vertical-align: middle;\n",
              "    }\n",
              "\n",
              "    .dataframe tbody tr th {\n",
              "        vertical-align: top;\n",
              "    }\n",
              "\n",
              "    .dataframe thead th {\n",
              "        text-align: right;\n",
              "    }\n",
              "</style>\n",
              "<table border=\"1\" class=\"dataframe\">\n",
              "  <thead>\n",
              "    <tr style=\"text-align: right;\">\n",
              "      <th></th>\n",
              "      <th>site_id</th>\n",
              "      <th>patient_id</th>\n",
              "      <th>image_id</th>\n",
              "      <th>laterality</th>\n",
              "      <th>view</th>\n",
              "      <th>age</th>\n",
              "      <th>cancer</th>\n",
              "      <th>biopsy</th>\n",
              "      <th>invasive</th>\n",
              "      <th>BIRADS</th>\n",
              "      <th>implant</th>\n",
              "      <th>density</th>\n",
              "      <th>machine_id</th>\n",
              "      <th>difficult_negative_case</th>\n",
              "    </tr>\n",
              "  </thead>\n",
              "  <tbody>\n",
              "    <tr>\n",
              "      <th>582</th>\n",
              "      <td>2</td>\n",
              "      <td>106</td>\n",
              "      <td>76321767</td>\n",
              "      <td>L</td>\n",
              "      <td>CC</td>\n",
              "      <td>65.0</td>\n",
              "      <td>1</td>\n",
              "      <td>1</td>\n",
              "      <td>1</td>\n",
              "      <td>NaN</td>\n",
              "      <td>0</td>\n",
              "      <td>NaN</td>\n",
              "      <td>21</td>\n",
              "      <td>False</td>\n",
              "    </tr>\n",
              "    <tr>\n",
              "      <th>583</th>\n",
              "      <td>2</td>\n",
              "      <td>106</td>\n",
              "      <td>2018825992</td>\n",
              "      <td>L</td>\n",
              "      <td>MLO</td>\n",
              "      <td>65.0</td>\n",
              "      <td>1</td>\n",
              "      <td>1</td>\n",
              "      <td>1</td>\n",
              "      <td>NaN</td>\n",
              "      <td>0</td>\n",
              "      <td>NaN</td>\n",
              "      <td>21</td>\n",
              "      <td>False</td>\n",
              "    </tr>\n",
              "    <tr>\n",
              "      <th>1441</th>\n",
              "      <td>2</td>\n",
              "      <td>115</td>\n",
              "      <td>503361456</td>\n",
              "      <td>R</td>\n",
              "      <td>CC</td>\n",
              "      <td>55.0</td>\n",
              "      <td>0</td>\n",
              "      <td>0</td>\n",
              "      <td>0</td>\n",
              "      <td>NaN</td>\n",
              "      <td>0</td>\n",
              "      <td>NaN</td>\n",
              "      <td>21</td>\n",
              "      <td>False</td>\n",
              "    </tr>\n",
              "    <tr>\n",
              "      <th>7222</th>\n",
              "      <td>2</td>\n",
              "      <td>177</td>\n",
              "      <td>1110981332</td>\n",
              "      <td>R</td>\n",
              "      <td>MLO</td>\n",
              "      <td>71.0</td>\n",
              "      <td>0</td>\n",
              "      <td>0</td>\n",
              "      <td>0</td>\n",
              "      <td>NaN</td>\n",
              "      <td>0</td>\n",
              "      <td>NaN</td>\n",
              "      <td>29</td>\n",
              "      <td>False</td>\n",
              "    </tr>\n",
              "    <tr>\n",
              "      <th>9736</th>\n",
              "      <td>2</td>\n",
              "      <td>204</td>\n",
              "      <td>890985677</td>\n",
              "      <td>L</td>\n",
              "      <td>CC</td>\n",
              "      <td>60.0</td>\n",
              "      <td>0</td>\n",
              "      <td>0</td>\n",
              "      <td>0</td>\n",
              "      <td>NaN</td>\n",
              "      <td>0</td>\n",
              "      <td>NaN</td>\n",
              "      <td>48</td>\n",
              "      <td>False</td>\n",
              "    </tr>\n",
              "    <tr>\n",
              "      <th>...</th>\n",
              "      <td>...</td>\n",
              "      <td>...</td>\n",
              "      <td>...</td>\n",
              "      <td>...</td>\n",
              "      <td>...</td>\n",
              "      <td>...</td>\n",
              "      <td>...</td>\n",
              "      <td>...</td>\n",
              "      <td>...</td>\n",
              "      <td>...</td>\n",
              "      <td>...</td>\n",
              "      <td>...</td>\n",
              "      <td>...</td>\n",
              "      <td>...</td>\n",
              "    </tr>\n",
              "    <tr>\n",
              "      <th>51431</th>\n",
              "      <td>1</td>\n",
              "      <td>65456</td>\n",
              "      <td>694039741</td>\n",
              "      <td>R</td>\n",
              "      <td>MLO</td>\n",
              "      <td>54.0</td>\n",
              "      <td>0</td>\n",
              "      <td>0</td>\n",
              "      <td>0</td>\n",
              "      <td>1.0</td>\n",
              "      <td>1</td>\n",
              "      <td>B</td>\n",
              "      <td>49</td>\n",
              "      <td>False</td>\n",
              "    </tr>\n",
              "    <tr>\n",
              "      <th>51474</th>\n",
              "      <td>2</td>\n",
              "      <td>65492</td>\n",
              "      <td>1186509485</td>\n",
              "      <td>L</td>\n",
              "      <td>MLO</td>\n",
              "      <td>59.0</td>\n",
              "      <td>1</td>\n",
              "      <td>1</td>\n",
              "      <td>1</td>\n",
              "      <td>NaN</td>\n",
              "      <td>0</td>\n",
              "      <td>NaN</td>\n",
              "      <td>48</td>\n",
              "      <td>False</td>\n",
              "    </tr>\n",
              "    <tr>\n",
              "      <th>51475</th>\n",
              "      <td>2</td>\n",
              "      <td>65492</td>\n",
              "      <td>1306638994</td>\n",
              "      <td>L</td>\n",
              "      <td>CC</td>\n",
              "      <td>59.0</td>\n",
              "      <td>1</td>\n",
              "      <td>1</td>\n",
              "      <td>1</td>\n",
              "      <td>NaN</td>\n",
              "      <td>0</td>\n",
              "      <td>NaN</td>\n",
              "      <td>48</td>\n",
              "      <td>False</td>\n",
              "    </tr>\n",
              "    <tr>\n",
              "      <th>51480</th>\n",
              "      <td>2</td>\n",
              "      <td>65493</td>\n",
              "      <td>442293322</td>\n",
              "      <td>R</td>\n",
              "      <td>MLO</td>\n",
              "      <td>50.0</td>\n",
              "      <td>0</td>\n",
              "      <td>0</td>\n",
              "      <td>0</td>\n",
              "      <td>NaN</td>\n",
              "      <td>0</td>\n",
              "      <td>NaN</td>\n",
              "      <td>21</td>\n",
              "      <td>False</td>\n",
              "    </tr>\n",
              "    <tr>\n",
              "      <th>51506</th>\n",
              "      <td>1</td>\n",
              "      <td>65530</td>\n",
              "      <td>633167749</td>\n",
              "      <td>L</td>\n",
              "      <td>MLO</td>\n",
              "      <td>48.0</td>\n",
              "      <td>0</td>\n",
              "      <td>0</td>\n",
              "      <td>0</td>\n",
              "      <td>NaN</td>\n",
              "      <td>0</td>\n",
              "      <td>C</td>\n",
              "      <td>49</td>\n",
              "      <td>False</td>\n",
              "    </tr>\n",
              "  </tbody>\n",
              "</table>\n",
              "<p>2360 rows × 14 columns</p>\n",
              "</div>\n",
              "      <button class=\"colab-df-convert\" onclick=\"convertToInteractive('df-381bcd85-a5b1-48c1-802e-db33d7643e53')\"\n",
              "              title=\"Convert this dataframe to an interactive table.\"\n",
              "              style=\"display:none;\">\n",
              "\n",
              "  <svg xmlns=\"http://www.w3.org/2000/svg\" height=\"24px\"viewBox=\"0 0 24 24\"\n",
              "       width=\"24px\">\n",
              "    <path d=\"M0 0h24v24H0V0z\" fill=\"none\"/>\n",
              "    <path d=\"M18.56 5.44l.94 2.06.94-2.06 2.06-.94-2.06-.94-.94-2.06-.94 2.06-2.06.94zm-11 1L8.5 8.5l.94-2.06 2.06-.94-2.06-.94L8.5 2.5l-.94 2.06-2.06.94zm10 10l.94 2.06.94-2.06 2.06-.94-2.06-.94-.94-2.06-.94 2.06-2.06.94z\"/><path d=\"M17.41 7.96l-1.37-1.37c-.4-.4-.92-.59-1.43-.59-.52 0-1.04.2-1.43.59L10.3 9.45l-7.72 7.72c-.78.78-.78 2.05 0 2.83L4 21.41c.39.39.9.59 1.41.59.51 0 1.02-.2 1.41-.59l7.78-7.78 2.81-2.81c.8-.78.8-2.07 0-2.86zM5.41 20L4 18.59l7.72-7.72 1.47 1.35L5.41 20z\"/>\n",
              "  </svg>\n",
              "      </button>\n",
              "\n",
              "\n",
              "\n",
              "    <div id=\"df-33bb81aa-fb06-49d4-aca3-cf03182f708c\">\n",
              "      <button class=\"colab-df-quickchart\" onclick=\"quickchart('df-33bb81aa-fb06-49d4-aca3-cf03182f708c')\"\n",
              "              title=\"Suggest charts.\"\n",
              "              style=\"display:none;\">\n",
              "\n",
              "<svg xmlns=\"http://www.w3.org/2000/svg\" height=\"24px\"viewBox=\"0 0 24 24\"\n",
              "     width=\"24px\">\n",
              "    <g>\n",
              "        <path d=\"M19 3H5c-1.1 0-2 .9-2 2v14c0 1.1.9 2 2 2h14c1.1 0 2-.9 2-2V5c0-1.1-.9-2-2-2zM9 17H7v-7h2v7zm4 0h-2V7h2v10zm4 0h-2v-4h2v4z\"/>\n",
              "    </g>\n",
              "</svg>\n",
              "      </button>\n",
              "    </div>\n",
              "\n",
              "<style>\n",
              "  .colab-df-quickchart {\n",
              "    background-color: #E8F0FE;\n",
              "    border: none;\n",
              "    border-radius: 50%;\n",
              "    cursor: pointer;\n",
              "    display: none;\n",
              "    fill: #1967D2;\n",
              "    height: 32px;\n",
              "    padding: 0 0 0 0;\n",
              "    width: 32px;\n",
              "  }\n",
              "\n",
              "  .colab-df-quickchart:hover {\n",
              "    background-color: #E2EBFA;\n",
              "    box-shadow: 0px 1px 2px rgba(60, 64, 67, 0.3), 0px 1px 3px 1px rgba(60, 64, 67, 0.15);\n",
              "    fill: #174EA6;\n",
              "  }\n",
              "\n",
              "  [theme=dark] .colab-df-quickchart {\n",
              "    background-color: #3B4455;\n",
              "    fill: #D2E3FC;\n",
              "  }\n",
              "\n",
              "  [theme=dark] .colab-df-quickchart:hover {\n",
              "    background-color: #434B5C;\n",
              "    box-shadow: 0px 1px 3px 1px rgba(0, 0, 0, 0.15);\n",
              "    filter: drop-shadow(0px 1px 2px rgba(0, 0, 0, 0.3));\n",
              "    fill: #FFFFFF;\n",
              "  }\n",
              "</style>\n",
              "\n",
              "    <script>\n",
              "      async function quickchart(key) {\n",
              "        const containerElement = document.querySelector('#' + key);\n",
              "        const charts = await google.colab.kernel.invokeFunction(\n",
              "            'suggestCharts', [key], {});\n",
              "      }\n",
              "    </script>\n",
              "\n",
              "      <script>\n",
              "\n",
              "function displayQuickchartButton(domScope) {\n",
              "  let quickchartButtonEl =\n",
              "    domScope.querySelector('#df-33bb81aa-fb06-49d4-aca3-cf03182f708c button.colab-df-quickchart');\n",
              "  quickchartButtonEl.style.display =\n",
              "    google.colab.kernel.accessAllowed ? 'block' : 'none';\n",
              "}\n",
              "\n",
              "        displayQuickchartButton(document);\n",
              "      </script>\n",
              "      <style>\n",
              "    .colab-df-container {\n",
              "      display:flex;\n",
              "      flex-wrap:wrap;\n",
              "      gap: 12px;\n",
              "    }\n",
              "\n",
              "    .colab-df-convert {\n",
              "      background-color: #E8F0FE;\n",
              "      border: none;\n",
              "      border-radius: 50%;\n",
              "      cursor: pointer;\n",
              "      display: none;\n",
              "      fill: #1967D2;\n",
              "      height: 32px;\n",
              "      padding: 0 0 0 0;\n",
              "      width: 32px;\n",
              "    }\n",
              "\n",
              "    .colab-df-convert:hover {\n",
              "      background-color: #E2EBFA;\n",
              "      box-shadow: 0px 1px 2px rgba(60, 64, 67, 0.3), 0px 1px 3px 1px rgba(60, 64, 67, 0.15);\n",
              "      fill: #174EA6;\n",
              "    }\n",
              "\n",
              "    [theme=dark] .colab-df-convert {\n",
              "      background-color: #3B4455;\n",
              "      fill: #D2E3FC;\n",
              "    }\n",
              "\n",
              "    [theme=dark] .colab-df-convert:hover {\n",
              "      background-color: #434B5C;\n",
              "      box-shadow: 0px 1px 3px 1px rgba(0, 0, 0, 0.15);\n",
              "      filter: drop-shadow(0px 1px 2px rgba(0, 0, 0, 0.3));\n",
              "      fill: #FFFFFF;\n",
              "    }\n",
              "  </style>\n",
              "\n",
              "      <script>\n",
              "        const buttonEl =\n",
              "          document.querySelector('#df-381bcd85-a5b1-48c1-802e-db33d7643e53 button.colab-df-convert');\n",
              "        buttonEl.style.display =\n",
              "          google.colab.kernel.accessAllowed ? 'block' : 'none';\n",
              "\n",
              "        async function convertToInteractive(key) {\n",
              "          const element = document.querySelector('#df-381bcd85-a5b1-48c1-802e-db33d7643e53');\n",
              "          const dataTable =\n",
              "            await google.colab.kernel.invokeFunction('convertToInteractive',\n",
              "                                                     [key], {});\n",
              "          if (!dataTable) return;\n",
              "\n",
              "          const docLinkHtml = 'Like what you see? Visit the ' +\n",
              "            '<a target=\"_blank\" href=https://colab.research.google.com/notebooks/data_table.ipynb>data table notebook</a>'\n",
              "            + ' to learn more about interactive tables.';\n",
              "          element.innerHTML = '';\n",
              "          dataTable['output_type'] = 'display_data';\n",
              "          await google.colab.output.renderOutput(dataTable, element);\n",
              "          const docLink = document.createElement('div');\n",
              "          docLink.innerHTML = docLinkHtml;\n",
              "          element.appendChild(docLink);\n",
              "        }\n",
              "      </script>\n",
              "    </div>\n",
              "  </div>\n"
            ]
          },
          "metadata": {},
          "execution_count": 33
        }
      ]
    },
    {
      "cell_type": "markdown",
      "source": [
        "Observation: Now we have a almost perfect balanced sample dataset!"
      ],
      "metadata": {
        "id": "SozyWeOXvbch"
      }
    },
    {
      "cell_type": "code",
      "source": [
        "# Create image_name matching the name in the image name directory by concatenating the patient_id and image_id\n",
        "df_sample['image_name'] = df_sample[\"patient_id\"].astype(str) + '_' + df_sample[\"image_id\"].astype(str)\n",
        "df_test['image_name'] = df_test[\"patient_id\"].astype(str) + '_' + df_test[\"image_id\"].astype(str)"
      ],
      "metadata": {
        "id": "Icc8GWX-72Fi"
      },
      "execution_count": 34,
      "outputs": []
    },
    {
      "cell_type": "code",
      "source": [
        "# The append_ext function is defined to append extension to the image name\n",
        "# Note\n",
        "def append_ext(fname):\n",
        "  if fname.endswith('.png'):\n",
        "    print('Silly code: Do not add suffix twice.')\n",
        "  else: return fname+'.png'\n",
        "\n",
        "df_sample['image_name']=df_sample['image_name'].apply(append_ext)\n",
        "print(df_sample.head())\n",
        "\n",
        "df_test['image_name']=df_test['image_name'].apply(append_ext)\n",
        "print(df_test.head())"
      ],
      "metadata": {
        "colab": {
          "base_uri": "https://localhost:8080/"
        },
        "id": "navF2abD6lNV",
        "outputId": "ad849fe7-bad1-4301-dfdd-86f00a61b3e1"
      },
      "execution_count": 35,
      "outputs": [
        {
          "output_type": "stream",
          "name": "stdout",
          "text": [
            "       site_id  patient_id    image_id laterality view   age  cancer  biopsy  \\\n",
            "38182        2       50994   799654229          R   CC  55.0       0       0   \n",
            "11895        2       22706  1838448164          L   CC  63.0       0       0   \n",
            "38810        2       51875  1763503482          R   CC  57.0       0       0   \n",
            "12636        1       23467  1009349413          L  MLO  45.0       0       0   \n",
            "39664        1       52873   457185009          R  MLO  59.0       0       0   \n",
            "\n",
            "       invasive  BIRADS  implant density  machine_id  difficult_negative_case  \\\n",
            "38182         0     NaN        0     NaN          21                    False   \n",
            "11895         0     NaN        0     NaN          21                    False   \n",
            "38810         0     NaN        0     NaN          29                    False   \n",
            "12636         0     1.0        0       A          49                    False   \n",
            "39664         0     1.0        0       A          49                    False   \n",
            "\n",
            "                 image_name  \n",
            "38182   50994_799654229.png  \n",
            "11895  22706_1838448164.png  \n",
            "38810  51875_1763503482.png  \n",
            "12636  23467_1009349413.png  \n",
            "39664   52873_457185009.png  \n",
            "   site_id  patient_id    image_id laterality view  age  implant  machine_id  \\\n",
            "0        2       10008   736471439          L  MLO   81        0          21   \n",
            "1        2       10008  1591370361          L   CC   81        0          21   \n",
            "2        2       10008    68070693          R  MLO   81        0          21   \n",
            "3        2       10008   361203119          R   CC   81        0          21   \n",
            "\n",
            "  prediction_id            image_name  \n",
            "0       10008_L   10008_736471439.png  \n",
            "1       10008_L  10008_1591370361.png  \n",
            "2       10008_R    10008_68070693.png  \n",
            "3       10008_R   10008_361203119.png  \n"
          ]
        }
      ]
    },
    {
      "cell_type": "markdown",
      "source": [
        "# Split the sample dataset into training set and validation set:\n",
        "   \n",
        "\n",
        "*   training set contains 80% records, and validation set has the rest 20% instances.\n",
        "*   Keras ImageDataGenerator to map the images in the RSNA_256 directory to the class cancer in the corresponing df_sample.\n",
        "*   The batch_size of the training set and the validation set has set as the number that divides the total number of images in the train set and valid respectively.\n",
        "\n",
        "\n",
        "\n",
        "\n"
      ],
      "metadata": {
        "id": "sj54RsrYPSaR"
      }
    },
    {
      "cell_type": "code",
      "source": [
        "# Source Code: https://vijayabhaskar96.medium.com/tutorial-on-keras-flow-from-dataframe-1fd4493d237c\n",
        "# Modified by Jia Lin\n",
        "datagen=ImageDataGenerator(validation_split =0.2)\n",
        "train_generator=datagen.flow_from_dataframe(dataframe=df_sample,\n",
        "                                            directory=\"/content/gdrive/My Drive/RSNA_256/\",\n",
        "                                            x_col=\"image_name\",\n",
        "                                            y_col=\"cancer\",\n",
        "                                            subset=\"training\",\n",
        "                                            batch_size=32, # 1888 = 8*4*59\n",
        "                                            seed=0,\n",
        "                                            shuffle=True,\n",
        "                                            color_mode=\"grayscale\", # the original dataset only gray\n",
        "                                            class_mode=\"raw\", # 'cancer' is numerical datatype\n",
        "                                            target_size=(256,256))\n",
        "valid_generator=datagen.flow_from_dataframe(dataframe=df_sample,\n",
        "                                            directory=\"/content/gdrive/My Drive/RSNA_256/\",\n",
        "                                            x_col=\"image_name\",\n",
        "                                            y_col=\"cancer\",\n",
        "                                            subset=\"validation\",\n",
        "                                            batch_size=8, # 472 = 8*59\n",
        "                                            seed=0,\n",
        "                                            shuffle=True,\n",
        "                                            color_mode=\"grayscale\",\n",
        "                                            class_mode=\"raw\", # 'cancer' is numerical datatype\n",
        "                                            target_size=(256,256))"
      ],
      "metadata": {
        "id": "1lKsU0sZ-VNm",
        "colab": {
          "base_uri": "https://localhost:8080/"
        },
        "outputId": "c450cde6-5f5e-4de7-c0e7-a90a61b75139"
      },
      "execution_count": 36,
      "outputs": [
        {
          "output_type": "stream",
          "name": "stdout",
          "text": [
            "Found 1888 validated image filenames.\n",
            "Found 472 validated image filenames.\n"
          ]
        }
      ]
    },
    {
      "cell_type": "code",
      "source": [
        "test_datagen=ImageDataGenerator()\n",
        "test_generator=test_datagen.flow_from_dataframe(dataframe=df_test,\n",
        "                                                directory=\"/content/gdrive/My Drive/testing_images/\",\n",
        "                                                x_col=\"image_name\",\n",
        "                                                y_col=None,\n",
        "                                                batch_size=1,\n",
        "                                                seed=0,\n",
        "                                                shuffle=False,\n",
        "                                                color_mode=\"grayscale\",\n",
        "                                                class_mode=None,\n",
        "                                                target_size=(256,256))"
      ],
      "metadata": {
        "id": "rpbBDEQzeKAV",
        "colab": {
          "base_uri": "https://localhost:8080/"
        },
        "outputId": "59a04404-2cb2-4606-9a6d-cb4d0255600c"
      },
      "execution_count": 37,
      "outputs": [
        {
          "output_type": "stream",
          "name": "stdout",
          "text": [
            "Found 4 validated image filenames.\n"
          ]
        }
      ]
    },
    {
      "cell_type": "markdown",
      "source": [
        "# Build the model:"
      ],
      "metadata": {
        "id": "__iQ0aTXFsdI"
      }
    },
    {
      "cell_type": "code",
      "source": [
        "# Define the CNN model\n",
        "model = Sequential()\n",
        "\n",
        "model.add(Rescaling(1./255, offset=0.0, input_shape=(256,256,1)))\n",
        "\n",
        "model.add(Conv2D(64, (3, 3), padding='same'))\n",
        "model.add(Activation('relu'))\n",
        "model.add(Conv2D(128, (3, 3)))\n",
        "model.add(Activation('relu'))\n",
        "model.add(MaxPooling2D(pool_size=(2, 2)))\n",
        "\n",
        "model.add(Conv2D(128, (3, 3), padding='same'))\n",
        "model.add(Activation('relu'))\n",
        "model.add(Conv2D(256, (3, 3)))\n",
        "model.add(Activation('relu'))\n",
        "model.add(MaxPooling2D(pool_size=(2, 2)))\n",
        "\n",
        "model.add(Flatten())\n",
        "model.add(Dense(512))\n",
        "model.add(Activation('relu'))\n",
        "\n",
        "model.add(Dense(2, activation='softmax')) # Two classes output"
      ],
      "metadata": {
        "id": "9HljZDvxFkcn"
      },
      "execution_count": 38,
      "outputs": []
    },
    {
      "cell_type": "code",
      "source": [
        "model.summary()"
      ],
      "metadata": {
        "id": "zAkNiHDWQKdg",
        "colab": {
          "base_uri": "https://localhost:8080/"
        },
        "outputId": "4c35703b-b8d9-4e4e-93b4-18bc3c475098"
      },
      "execution_count": 10,
      "outputs": [
        {
          "output_type": "stream",
          "name": "stdout",
          "text": [
            "Model: \"sequential\"\n",
            "_________________________________________________________________\n",
            " Layer (type)                Output Shape              Param #   \n",
            "=================================================================\n",
            " rescaling (Rescaling)       (None, 256, 256, 1)       0         \n",
            "                                                                 \n",
            " conv2d (Conv2D)             (None, 256, 256, 64)      640       \n",
            "                                                                 \n",
            " activation (Activation)     (None, 256, 256, 64)      0         \n",
            "                                                                 \n",
            " conv2d_1 (Conv2D)           (None, 254, 254, 128)     73856     \n",
            "                                                                 \n",
            " activation_1 (Activation)   (None, 254, 254, 128)     0         \n",
            "                                                                 \n",
            " max_pooling2d (MaxPooling2D  (None, 127, 127, 128)    0         \n",
            " )                                                               \n",
            "                                                                 \n",
            " conv2d_2 (Conv2D)           (None, 127, 127, 128)     147584    \n",
            "                                                                 \n",
            " activation_2 (Activation)   (None, 127, 127, 128)     0         \n",
            "                                                                 \n",
            " conv2d_3 (Conv2D)           (None, 125, 125, 256)     295168    \n",
            "                                                                 \n",
            " activation_3 (Activation)   (None, 125, 125, 256)     0         \n",
            "                                                                 \n",
            " max_pooling2d_1 (MaxPooling  (None, 62, 62, 256)      0         \n",
            " 2D)                                                             \n",
            "                                                                 \n",
            " flatten (Flatten)           (None, 984064)            0         \n",
            "                                                                 \n",
            " dense (Dense)               (None, 512)               503841280 \n",
            "                                                                 \n",
            " activation_4 (Activation)   (None, 512)               0         \n",
            "                                                                 \n",
            " dense_1 (Dense)             (None, 2)                 1026      \n",
            "                                                                 \n",
            "=================================================================\n",
            "Total params: 504,359,554\n",
            "Trainable params: 504,359,554\n",
            "Non-trainable params: 0\n",
            "_________________________________________________________________\n"
          ]
        }
      ]
    },
    {
      "cell_type": "code",
      "source": [
        "# Compile the model\n",
        "model.compile(loss=\"sparse_categorical_crossentropy\", optimizer=\"adam\", metrics=[\"accuracy\"])"
      ],
      "metadata": {
        "id": "Yp1lFN_HOZCe"
      },
      "execution_count": 39,
      "outputs": []
    },
    {
      "cell_type": "code",
      "source": [
        "STEP_SIZE_TRAIN=train_generator.n//train_generator.batch_size\n",
        "print(STEP_SIZE_TRAIN)\n",
        "STEP_SIZE_VALID=valid_generator.n//valid_generator.batch_size\n",
        "print(STEP_SIZE_VALID)\n",
        "STEP_SIZE_TEST=test_generator.n//test_generator.batch_size\n",
        "print(STEP_SIZE_TEST)"
      ],
      "metadata": {
        "colab": {
          "base_uri": "https://localhost:8080/"
        },
        "id": "fLlot3vhxhRr",
        "outputId": "4acc96c8-bbcd-498a-b347-140362a7fc13"
      },
      "execution_count": 40,
      "outputs": [
        {
          "output_type": "stream",
          "name": "stdout",
          "text": [
            "59\n",
            "59\n",
            "4\n"
          ]
        }
      ]
    },
    {
      "cell_type": "markdown",
      "source": [
        "# Fitting/Training the model"
      ],
      "metadata": {
        "id": "wlkeLPpKVNIa"
      }
    },
    {
      "cell_type": "code",
      "source": [
        "model.fit(train_generator,  validation_data=valid_generator, epochs=32)"
      ],
      "metadata": {
        "id": "miX1hDE7a0RZ",
        "colab": {
          "base_uri": "https://localhost:8080/"
        },
        "outputId": "24d5522f-f4f5-497b-92e7-26643c8a3f33"
      },
      "execution_count": 41,
      "outputs": [
        {
          "output_type": "stream",
          "name": "stdout",
          "text": [
            "Epoch 1/32\n",
            "59/59 [==============================] - 7s 87ms/step - loss: 0.8738 - accuracy: 0.5980 - val_loss: 1.1023 - val_accuracy: 0.0000e+00\n",
            "Epoch 2/32\n",
            "59/59 [==============================] - 5s 82ms/step - loss: 0.6731 - accuracy: 0.6139 - val_loss: 1.0872 - val_accuracy: 0.0000e+00\n",
            "Epoch 3/32\n",
            "59/59 [==============================] - 5s 83ms/step - loss: 0.6721 - accuracy: 0.6081 - val_loss: 0.9678 - val_accuracy: 0.0000e+00\n",
            "Epoch 4/32\n",
            "59/59 [==============================] - 5s 82ms/step - loss: 0.6619 - accuracy: 0.6086 - val_loss: 0.8569 - val_accuracy: 0.1165\n",
            "Epoch 5/32\n",
            "59/59 [==============================] - 5s 83ms/step - loss: 0.6454 - accuracy: 0.6287 - val_loss: 0.7538 - val_accuracy: 0.2775\n",
            "Epoch 6/32\n",
            "59/59 [==============================] - 5s 82ms/step - loss: 0.6143 - accuracy: 0.6621 - val_loss: 0.9946 - val_accuracy: 0.2119\n",
            "Epoch 7/32\n",
            "59/59 [==============================] - 5s 83ms/step - loss: 0.5116 - accuracy: 0.7383 - val_loss: 1.0143 - val_accuracy: 0.2331\n",
            "Epoch 8/32\n",
            "59/59 [==============================] - 5s 83ms/step - loss: 0.3389 - accuracy: 0.8369 - val_loss: 2.1970 - val_accuracy: 0.3411\n",
            "Epoch 9/32\n",
            "59/59 [==============================] - 5s 84ms/step - loss: 0.1698 - accuracy: 0.9269 - val_loss: 2.4653 - val_accuracy: 0.3729\n",
            "Epoch 10/32\n",
            "59/59 [==============================] - 5s 83ms/step - loss: 0.0766 - accuracy: 0.9735 - val_loss: 4.0916 - val_accuracy: 0.3559\n",
            "Epoch 11/32\n",
            "59/59 [==============================] - 5s 82ms/step - loss: 0.0211 - accuracy: 0.9947 - val_loss: 7.9406 - val_accuracy: 0.3114\n",
            "Epoch 12/32\n",
            "59/59 [==============================] - 5s 83ms/step - loss: 0.0308 - accuracy: 0.9926 - val_loss: 3.3588 - val_accuracy: 0.4703\n",
            "Epoch 13/32\n",
            "59/59 [==============================] - 5s 83ms/step - loss: 0.0326 - accuracy: 0.9894 - val_loss: 5.8883 - val_accuracy: 0.3411\n",
            "Epoch 14/32\n",
            "59/59 [==============================] - 5s 83ms/step - loss: 0.0182 - accuracy: 0.9963 - val_loss: 4.5000 - val_accuracy: 0.4640\n",
            "Epoch 15/32\n",
            "59/59 [==============================] - 5s 83ms/step - loss: 0.0055 - accuracy: 0.9984 - val_loss: 8.0774 - val_accuracy: 0.3157\n",
            "Epoch 16/32\n",
            "59/59 [==============================] - 5s 82ms/step - loss: 6.0114e-04 - accuracy: 0.9995 - val_loss: 7.7850 - val_accuracy: 0.3347\n",
            "Epoch 17/32\n",
            "59/59 [==============================] - 5s 83ms/step - loss: 2.9850e-04 - accuracy: 1.0000 - val_loss: 8.7400 - val_accuracy: 0.2966\n",
            "Epoch 18/32\n",
            "59/59 [==============================] - 5s 83ms/step - loss: 6.7188e-05 - accuracy: 1.0000 - val_loss: 8.7964 - val_accuracy: 0.2987\n",
            "Epoch 19/32\n",
            "59/59 [==============================] - 5s 83ms/step - loss: 3.8719e-05 - accuracy: 1.0000 - val_loss: 9.1298 - val_accuracy: 0.2903\n",
            "Epoch 20/32\n",
            "59/59 [==============================] - 5s 83ms/step - loss: 2.8314e-05 - accuracy: 1.0000 - val_loss: 9.2755 - val_accuracy: 0.2903\n",
            "Epoch 21/32\n",
            "59/59 [==============================] - 5s 83ms/step - loss: 2.2643e-05 - accuracy: 1.0000 - val_loss: 9.4018 - val_accuracy: 0.2860\n",
            "Epoch 22/32\n",
            "59/59 [==============================] - 5s 83ms/step - loss: 1.8711e-05 - accuracy: 1.0000 - val_loss: 9.5054 - val_accuracy: 0.2839\n",
            "Epoch 23/32\n",
            "59/59 [==============================] - 5s 83ms/step - loss: 1.5810e-05 - accuracy: 1.0000 - val_loss: 9.6299 - val_accuracy: 0.2818\n",
            "Epoch 24/32\n",
            "59/59 [==============================] - 5s 83ms/step - loss: 1.3672e-05 - accuracy: 1.0000 - val_loss: 9.6843 - val_accuracy: 0.2818\n",
            "Epoch 25/32\n",
            "59/59 [==============================] - 5s 83ms/step - loss: 1.1927e-05 - accuracy: 1.0000 - val_loss: 9.7707 - val_accuracy: 0.2818\n",
            "Epoch 26/32\n",
            "59/59 [==============================] - 5s 83ms/step - loss: 1.0502e-05 - accuracy: 1.0000 - val_loss: 9.8165 - val_accuracy: 0.2860\n",
            "Epoch 27/32\n",
            "59/59 [==============================] - 5s 83ms/step - loss: 9.3403e-06 - accuracy: 1.0000 - val_loss: 9.9138 - val_accuracy: 0.2797\n",
            "Epoch 28/32\n",
            "59/59 [==============================] - 5s 83ms/step - loss: 8.3618e-06 - accuracy: 1.0000 - val_loss: 9.9552 - val_accuracy: 0.2839\n",
            "Epoch 29/32\n",
            "59/59 [==============================] - 5s 83ms/step - loss: 7.5206e-06 - accuracy: 1.0000 - val_loss: 9.9935 - val_accuracy: 0.2839\n",
            "Epoch 30/32\n",
            "59/59 [==============================] - 5s 83ms/step - loss: 6.8328e-06 - accuracy: 1.0000 - val_loss: 10.0441 - val_accuracy: 0.2839\n",
            "Epoch 31/32\n",
            "59/59 [==============================] - 5s 83ms/step - loss: 6.2178e-06 - accuracy: 1.0000 - val_loss: 10.0881 - val_accuracy: 0.2818\n",
            "Epoch 32/32\n",
            "59/59 [==============================] - 5s 84ms/step - loss: 5.6909e-06 - accuracy: 1.0000 - val_loss: 10.1217 - val_accuracy: 0.2818\n"
          ]
        },
        {
          "output_type": "execute_result",
          "data": {
            "text/plain": [
              "<keras.callbacks.History at 0x7a2205172bf0>"
            ]
          },
          "metadata": {},
          "execution_count": 41
        }
      ]
    },
    {
      "cell_type": "markdown",
      "source": [
        "# Evaluate the model\n"
      ],
      "metadata": {
        "id": "Z0EKexFJF-aF"
      }
    },
    {
      "cell_type": "code",
      "source": [
        "model.evaluate(valid_generator, steps = STEP_SIZE_VALID)"
      ],
      "metadata": {
        "id": "RB2F1SvZEZpl",
        "colab": {
          "base_uri": "https://localhost:8080/"
        },
        "outputId": "98ae2985-e249-4d26-8948-f9fda71fd9cf"
      },
      "execution_count": 42,
      "outputs": [
        {
          "output_type": "stream",
          "name": "stdout",
          "text": [
            "59/59 [==============================] - 1s 14ms/step - loss: 10.1217 - accuracy: 0.2818\n"
          ]
        },
        {
          "output_type": "execute_result",
          "data": {
            "text/plain": [
              "[10.121707916259766, 0.2817796468734741]"
            ]
          },
          "metadata": {},
          "execution_count": 42
        }
      ]
    },
    {
      "cell_type": "code",
      "source": [
        "from sklearn.metrics import classification_report, confusion_matrix\n",
        "\n",
        "#Confution Matrix and Classification Report\n",
        "pred = model.predict(valid_generator)\n",
        "pred = np.argmax(pred, axis=1)\n",
        "print('Confusion Matrix')\n",
        "confusion_matrix = confusion_matrix(valid_generator.labels, pred)\n",
        "print(confusion_matrix)\n",
        "\n",
        "target_names = ['Benign','Malign']\n",
        "print(classification_report(valid_generator.labels, pred, target_names=target_names, zero_division=0))"
      ],
      "metadata": {
        "id": "oGm7pVXrYfcQ",
        "colab": {
          "base_uri": "https://localhost:8080/"
        },
        "outputId": "e154aa30-6901-43a1-dea4-da83c8464f0c"
      },
      "execution_count": 43,
      "outputs": [
        {
          "output_type": "stream",
          "name": "stdout",
          "text": [
            "59/59 [==============================] - 1s 14ms/step\n",
            "Confusion Matrix\n",
            "[[133 339]\n",
            " [  0   0]]\n",
            "              precision    recall  f1-score   support\n",
            "\n",
            "      Benign       1.00      0.28      0.44       472\n",
            "      Malign       0.00      0.00      0.00         0\n",
            "\n",
            "    accuracy                           0.28       472\n",
            "   macro avg       0.50      0.14      0.22       472\n",
            "weighted avg       1.00      0.28      0.44       472\n",
            "\n"
          ]
        }
      ]
    },
    {
      "cell_type": "markdown",
      "source": [
        "# Predict the output"
      ],
      "metadata": {
        "id": "kbfd4ituGPtj"
      }
    },
    {
      "cell_type": "code",
      "source": [
        "filenames = test_generator.filenames\n",
        "number_test_samples = len(filenames)\n",
        "test_generator.reset()\n",
        "pred = model.predict(test_generator, number_test_samples)\n",
        "pred = np.argmax(pred, axis = 1)\n",
        "print(pred)"
      ],
      "metadata": {
        "id": "PzpH9MxBGIxB",
        "colab": {
          "base_uri": "https://localhost:8080/"
        },
        "outputId": "0c31c16d-0386-41ad-e7c0-f66955eb2004"
      },
      "execution_count": 44,
      "outputs": [
        {
          "output_type": "stream",
          "name": "stdout",
          "text": [
            "4/4 [==============================] - 0s 9ms/step\n",
            "[1 1 1 1]\n"
          ]
        }
      ]
    }
  ]
}