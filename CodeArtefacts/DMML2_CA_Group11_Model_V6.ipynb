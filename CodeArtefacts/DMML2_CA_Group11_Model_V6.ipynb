{
  "nbformat": 4,
  "nbformat_minor": 0,
  "metadata": {
    "colab": {
      "provenance": [],
      "gpuType": "V100"
    },
    "kernelspec": {
      "name": "python3",
      "display_name": "Python 3"
    },
    "language_info": {
      "name": "python"
    },
    "accelerator": "GPU"
  },
  "cells": [
    {
      "cell_type": "markdown",
      "source": [
        "# Import necessary packages"
      ],
      "metadata": {
        "id": "izh1uoOHOblT"
      }
    },
    {
      "cell_type": "code",
      "source": [
        "import os\n",
        "import numpy as np\n",
        "import pandas as pd\n",
        "import matplotlib.pyplot as plt\n",
        "import seaborn as sns # boxplot, histplot\n",
        "import cv2\n",
        "\n",
        "# The latest keras-preprocessing\n",
        "!pip install git+https://github.com/keras-team/keras-preprocessing.git\n",
        "\n",
        "from keras.models import Sequential\n",
        "#Import from keras_preprocessing not from keras.preprocessing\n",
        "import tensorflow as tf\n",
        "#from keras import backend as K\n",
        "from keras_preprocessing.image import ImageDataGenerator\n",
        "from keras.layers import Rescaling, Dense, Activation, Flatten, Dropout, BatchNormalization\n",
        "from keras.layers import Conv2D, MaxPooling2D\n",
        "from keras import regularizers, optimizers\n",
        "\n",
        "from sklearn import metrics\n",
        "from sklearn.metrics import classification_report, confusion_matrix\n"
      ],
      "metadata": {
        "id": "62hcZF6wiBHK",
        "colab": {
          "base_uri": "https://localhost:8080/"
        },
        "outputId": "e3d3706d-2996-44f3-b3f3-d47cee4c98a4"
      },
      "execution_count": 1,
      "outputs": [
        {
          "output_type": "stream",
          "name": "stdout",
          "text": [
            "Collecting git+https://github.com/keras-team/keras-preprocessing.git\n",
            "  Cloning https://github.com/keras-team/keras-preprocessing.git to /tmp/pip-req-build-a0wbjzkv\n",
            "  Running command git clone --filter=blob:none --quiet https://github.com/keras-team/keras-preprocessing.git /tmp/pip-req-build-a0wbjzkv\n",
            "  Resolved https://github.com/keras-team/keras-preprocessing.git to commit 3e380065d4afc7347aaee8d89325a16b22158438\n",
            "  Preparing metadata (setup.py) ... \u001b[?25l\u001b[?25hdone\n",
            "Requirement already satisfied: numpy>=1.9.1 in /usr/local/lib/python3.10/dist-packages (from Keras-Preprocessing==1.1.2) (1.23.5)\n"
          ]
        }
      ]
    },
    {
      "cell_type": "markdown",
      "source": [
        "# Loading Data from Google Drive\n",
        "Images in the original dataset have been converted into 256*256 .png format"
      ],
      "metadata": {
        "id": "hFKigpFJOnOG"
      }
    },
    {
      "cell_type": "code",
      "source": [
        "from google.colab import drive\n",
        "drive.mount('/content/gdrive')\n",
        "#!ls \"/content/gdrive/My Drive\""
      ],
      "metadata": {
        "colab": {
          "base_uri": "https://localhost:8080/"
        },
        "id": "gABCpwFre-ed",
        "outputId": "363a6808-4912-4942-8998-7cd83ee65589"
      },
      "execution_count": 2,
      "outputs": [
        {
          "output_type": "stream",
          "name": "stdout",
          "text": [
            "Drive already mounted at /content/gdrive; to attempt to forcibly remount, call drive.mount(\"/content/gdrive\", force_remount=True).\n"
          ]
        }
      ]
    },
    {
      "cell_type": "code",
      "source": [
        "df_train = pd.read_csv('/content/gdrive/My Drive/train.csv')\n",
        "df_test = pd.read_csv('/content/gdrive/My Drive/test.csv')\n",
        "#df_train.info()\n",
        "#df_test.info()\n",
        "df_train['cancer'].unique()\n",
        "df_train['cancer'].value_counts()"
      ],
      "metadata": {
        "colab": {
          "base_uri": "https://localhost:8080/"
        },
        "id": "JDvEM67zlwPc",
        "outputId": "b6cfba18-e955-446c-fbb4-a72fefede795"
      },
      "execution_count": 3,
      "outputs": [
        {
          "output_type": "execute_result",
          "data": {
            "text/plain": [
              "0    53548\n",
              "1     1158\n",
              "Name: cancer, dtype: int64"
            ]
          },
          "metadata": {},
          "execution_count": 3
        }
      ]
    },
    {
      "cell_type": "markdown",
      "source": [
        "# Data Preprocessing\n",
        "## Balance the data"
      ],
      "metadata": {
        "id": "2ivCrxz1wWA-"
      }
    },
    {
      "cell_type": "code",
      "source": [
        "df_benign = df_train[df_train['cancer'] == 0]\n",
        "df_malign = df_train[df_train['cancer'] == 1]\n",
        "\n",
        "df_benign = df_benign.sample(n=1202, random_state=1) # Make sure each time random the same samples.\n",
        "\n",
        "df_benign = df_benign.reset_index()\n",
        "df_malign = df_malign.reset_index()\n",
        "\n",
        "# interleave these two dataframes\n",
        "df_sample = pd.concat([df_benign,df_malign]).sort_index().set_index('index')\n",
        "\n",
        "#print(df_sample['cancer'].to_string(index=False))"
      ],
      "metadata": {
        "id": "aTA4lZ-VtCxu"
      },
      "execution_count": 4,
      "outputs": []
    },
    {
      "cell_type": "markdown",
      "source": [
        "Observation: Now we have a almost perfect balanced sample dataset!"
      ],
      "metadata": {
        "id": "SozyWeOXvbch"
      }
    },
    {
      "cell_type": "code",
      "source": [
        "# Create image_name matching the name in the image name directory by concatenating the patient_id and image_id\n",
        "df_sample['image_name'] = df_sample[\"patient_id\"].astype(str) + '_' + df_sample[\"image_id\"].astype(str)\n",
        "df_test['image_name'] = df_test[\"patient_id\"].astype(str) + '_' + df_test[\"image_id\"].astype(str)"
      ],
      "metadata": {
        "id": "Icc8GWX-72Fi"
      },
      "execution_count": 5,
      "outputs": []
    },
    {
      "cell_type": "code",
      "source": [
        "# The append_ext function is defined to append extension to the image name\n",
        "# Note\n",
        "def append_ext(fname):\n",
        "  if fname.endswith('.png'):\n",
        "    print('Silly code: Do not add suffix twice.')\n",
        "  else: return fname+'.png'\n",
        "\n",
        "df_sample['image_name']=df_sample['image_name'].apply(append_ext)\n",
        "print(df_sample.head())\n",
        "\n",
        "df_test['image_name']=df_test['image_name'].apply(append_ext)\n",
        "print(df_test.head())"
      ],
      "metadata": {
        "colab": {
          "base_uri": "https://localhost:8080/"
        },
        "id": "navF2abD6lNV",
        "outputId": "248ffdfa-d30c-4016-bbb0-281e32e01074"
      },
      "execution_count": 6,
      "outputs": [
        {
          "output_type": "stream",
          "name": "stdout",
          "text": [
            "       site_id  patient_id    image_id laterality view   age  cancer  biopsy  \\\n",
            "index                                                                          \n",
            "38182        2       50994   799654229          R   CC  55.0       0       0   \n",
            "87           1       10130   388811999          L  MLO  71.0       1       1   \n",
            "11895        2       22706  1838448164          L   CC  63.0       0       0   \n",
            "88           1       10130   613462606          L   CC  71.0       1       1   \n",
            "38810        2       51875  1763503482          R   CC  57.0       0       0   \n",
            "\n",
            "       invasive  BIRADS  implant density  machine_id  difficult_negative_case  \\\n",
            "index                                                                           \n",
            "38182         0     NaN        0     NaN          21                    False   \n",
            "87            1     0.0        0       B          49                    False   \n",
            "11895         0     NaN        0     NaN          21                    False   \n",
            "88            1     0.0        0       B          49                    False   \n",
            "38810         0     NaN        0     NaN          29                    False   \n",
            "\n",
            "                 image_name  \n",
            "index                        \n",
            "38182   50994_799654229.png  \n",
            "87      10130_388811999.png  \n",
            "11895  22706_1838448164.png  \n",
            "88      10130_613462606.png  \n",
            "38810  51875_1763503482.png  \n",
            "   site_id  patient_id    image_id laterality view  age  implant  machine_id  \\\n",
            "0        2       10008   736471439          L  MLO   81        0          21   \n",
            "1        2       10008  1591370361          L   CC   81        0          21   \n",
            "2        2       10008    68070693          R  MLO   81        0          21   \n",
            "3        2       10008   361203119          R   CC   81        0          21   \n",
            "\n",
            "  prediction_id            image_name  \n",
            "0       10008_L   10008_736471439.png  \n",
            "1       10008_L  10008_1591370361.png  \n",
            "2       10008_R    10008_68070693.png  \n",
            "3       10008_R   10008_361203119.png  \n"
          ]
        }
      ]
    },
    {
      "cell_type": "markdown",
      "source": [
        "# Split the sample dataset into training set and validation set:\n",
        "   \n",
        "\n",
        "*   training set contains 80% records, and validation set has the rest 20% instances.\n",
        "*   Keras ImageDataGenerator to map the images in the RSNA_256 directory to the class cancer in the corresponing df_sample.\n",
        "*   The batch_size of the training set and the validation set has set as the number that divides the total number of images in the train set and valid respectively.\n",
        "\n",
        "\n",
        "\n",
        "\n"
      ],
      "metadata": {
        "id": "sj54RsrYPSaR"
      }
    },
    {
      "cell_type": "code",
      "source": [
        "# Source Code: https://vijayabhaskar96.medium.com/tutorial-on-keras-flow-from-dataframe-1fd4493d237c\n",
        "# Modified by Jia Lin\n",
        "datagen=ImageDataGenerator(validation_split =0.2)\n",
        "train_generator=datagen.flow_from_dataframe(dataframe=df_sample,\n",
        "                                            directory=\"/content/gdrive/My Drive/RSNA_256/\",\n",
        "                                            x_col=\"image_name\",\n",
        "                                            y_col=\"cancer\",\n",
        "                                            subset=\"training\",\n",
        "                                            batch_size=32, # 1888 = 8*4*59\n",
        "                                            seed=0,\n",
        "                                            shuffle=True,\n",
        "                                            color_mode=\"grayscale\", # the original dataset only gray\n",
        "                                            class_mode=\"raw\", # 'cancer' is numerical datatype\n",
        "                                            target_size=(256,256))\n"
      ],
      "metadata": {
        "id": "1lKsU0sZ-VNm",
        "colab": {
          "base_uri": "https://localhost:8080/"
        },
        "outputId": "2bb3b7ef-adb5-40e5-91a2-747d8bb48822"
      },
      "execution_count": 7,
      "outputs": [
        {
          "output_type": "stream",
          "name": "stdout",
          "text": [
            "Found 1888 validated image filenames.\n"
          ]
        }
      ]
    },
    {
      "cell_type": "code",
      "source": [
        "valid_generator=datagen.flow_from_dataframe(dataframe=df_sample,\n",
        "                                            directory=\"/content/gdrive/My Drive/RSNA_256/\",\n",
        "                                            x_col=\"image_name\",\n",
        "                                            y_col=\"cancer\",\n",
        "                                            subset=\"validation\",\n",
        "                                            batch_size=8, # 472 = 8*59\n",
        "                                            seed=0,\n",
        "                                            shuffle=True,\n",
        "                                            color_mode=\"grayscale\",\n",
        "                                            class_mode=\"raw\", # 'cancer' is numerical datatype\n",
        "                                            target_size=(256,256))\n"
      ],
      "metadata": {
        "colab": {
          "base_uri": "https://localhost:8080/"
        },
        "id": "7Nm449A75FaC",
        "outputId": "7d06eb24-e14a-4586-f887-08bdac49a57f"
      },
      "execution_count": 8,
      "outputs": [
        {
          "output_type": "stream",
          "name": "stdout",
          "text": [
            "Found 472 validated image filenames.\n"
          ]
        }
      ]
    },
    {
      "cell_type": "code",
      "source": [
        "from collections import Counter\n",
        "count = Counter(train_generator.labels)[1]\n",
        "print(count)\n",
        "#print(train_generator.labels)\n",
        "#print(valid_generator.labels)"
      ],
      "metadata": {
        "id": "hFQD9Vo757SN",
        "colab": {
          "base_uri": "https://localhost:8080/"
        },
        "outputId": "8afd1c0f-bc86-4b32-a7ea-e018856aadc8"
      },
      "execution_count": 9,
      "outputs": [
        {
          "output_type": "stream",
          "name": "stdout",
          "text": [
            "922\n"
          ]
        }
      ]
    },
    {
      "cell_type": "code",
      "source": [
        "test_datagen=ImageDataGenerator()\n",
        "test_generator=test_datagen.flow_from_dataframe(dataframe=df_test,\n",
        "                                                directory=\"/content/gdrive/My Drive/testing_images/\",\n",
        "                                                x_col=\"image_name\",\n",
        "                                                y_col=None,\n",
        "                                                batch_size=1,\n",
        "                                                seed=0,\n",
        "                                                shuffle=False,\n",
        "                                                color_mode=\"grayscale\",\n",
        "                                                class_mode=None,\n",
        "                                                target_size=(256,256))"
      ],
      "metadata": {
        "id": "rpbBDEQzeKAV",
        "colab": {
          "base_uri": "https://localhost:8080/"
        },
        "outputId": "bbe87623-67cb-4668-88ea-7f7ef7e55800"
      },
      "execution_count": 10,
      "outputs": [
        {
          "output_type": "stream",
          "name": "stdout",
          "text": [
            "Found 4 validated image filenames.\n"
          ]
        }
      ]
    },
    {
      "cell_type": "markdown",
      "source": [
        "# Build the model:"
      ],
      "metadata": {
        "id": "__iQ0aTXFsdI"
      }
    },
    {
      "cell_type": "code",
      "source": [
        "# Define the CNN model\n",
        "model = Sequential()\n",
        "\n",
        "model.add(Rescaling(1./255, offset=0.0, input_shape=(256,256,1)))\n",
        "\n",
        "model.add(Conv2D(32, (3, 3), padding='same'))\n",
        "model.add(Activation('relu'))\n",
        "model.add(Conv2D(64, (3, 3)))\n",
        "model.add(Activation('relu'))\n",
        "model.add(MaxPooling2D(pool_size=(2, 2)))\n",
        "model.add(Dropout(0.2))\n",
        "\n",
        "model.add(Conv2D(128, (3, 3), padding='same'))\n",
        "model.add(Activation('relu'))\n",
        "model.add(Conv2D(256, (3, 3)))\n",
        "model.add(Activation('relu'))\n",
        "model.add(MaxPooling2D(pool_size=(2, 2)))\n",
        "model.add(Dropout(0.2))\n",
        "\n",
        "model.add(Flatten())\n",
        "model.add(Dense(512))\n",
        "model.add(Activation('relu'))\n",
        "\n",
        "model.add(Dense(2, activation='softmax')) # Two classes output"
      ],
      "metadata": {
        "id": "9HljZDvxFkcn"
      },
      "execution_count": 11,
      "outputs": []
    },
    {
      "cell_type": "code",
      "source": [
        "model.summary()"
      ],
      "metadata": {
        "id": "zAkNiHDWQKdg",
        "colab": {
          "base_uri": "https://localhost:8080/"
        },
        "outputId": "75543dea-2c12-4837-d40a-df35021795af"
      },
      "execution_count": 12,
      "outputs": [
        {
          "output_type": "stream",
          "name": "stdout",
          "text": [
            "Model: \"sequential\"\n",
            "_________________________________________________________________\n",
            " Layer (type)                Output Shape              Param #   \n",
            "=================================================================\n",
            " rescaling (Rescaling)       (None, 256, 256, 1)       0         \n",
            "                                                                 \n",
            " conv2d (Conv2D)             (None, 256, 256, 32)      320       \n",
            "                                                                 \n",
            " activation (Activation)     (None, 256, 256, 32)      0         \n",
            "                                                                 \n",
            " conv2d_1 (Conv2D)           (None, 254, 254, 64)      18496     \n",
            "                                                                 \n",
            " activation_1 (Activation)   (None, 254, 254, 64)      0         \n",
            "                                                                 \n",
            " max_pooling2d (MaxPooling2D  (None, 127, 127, 64)     0         \n",
            " )                                                               \n",
            "                                                                 \n",
            " dropout (Dropout)           (None, 127, 127, 64)      0         \n",
            "                                                                 \n",
            " conv2d_2 (Conv2D)           (None, 127, 127, 128)     73856     \n",
            "                                                                 \n",
            " activation_2 (Activation)   (None, 127, 127, 128)     0         \n",
            "                                                                 \n",
            " conv2d_3 (Conv2D)           (None, 125, 125, 256)     295168    \n",
            "                                                                 \n",
            " activation_3 (Activation)   (None, 125, 125, 256)     0         \n",
            "                                                                 \n",
            " max_pooling2d_1 (MaxPooling  (None, 62, 62, 256)      0         \n",
            " 2D)                                                             \n",
            "                                                                 \n",
            " dropout_1 (Dropout)         (None, 62, 62, 256)       0         \n",
            "                                                                 \n",
            " flatten (Flatten)           (None, 984064)            0         \n",
            "                                                                 \n",
            " dense (Dense)               (None, 512)               503841280 \n",
            "                                                                 \n",
            " activation_4 (Activation)   (None, 512)               0         \n",
            "                                                                 \n",
            " dense_1 (Dense)             (None, 2)                 1026      \n",
            "                                                                 \n",
            "=================================================================\n",
            "Total params: 504,230,146\n",
            "Trainable params: 504,230,146\n",
            "Non-trainable params: 0\n",
            "_________________________________________________________________\n"
          ]
        }
      ]
    },
    {
      "cell_type": "code",
      "source": [
        "# Compile the model\n",
        "model.compile(loss=\"sparse_categorical_crossentropy\", optimizer=\"adam\", metrics=[\"accuracy\"])"
      ],
      "metadata": {
        "id": "Yp1lFN_HOZCe"
      },
      "execution_count": 13,
      "outputs": []
    },
    {
      "cell_type": "code",
      "source": [
        "STEP_SIZE_TRAIN=train_generator.n//train_generator.batch_size\n",
        "print(STEP_SIZE_TRAIN)\n",
        "STEP_SIZE_VALID=valid_generator.n//valid_generator.batch_size\n",
        "print(STEP_SIZE_VALID)\n",
        "STEP_SIZE_TEST=test_generator.n//test_generator.batch_size\n",
        "print(STEP_SIZE_TEST)"
      ],
      "metadata": {
        "id": "fLlot3vhxhRr",
        "colab": {
          "base_uri": "https://localhost:8080/"
        },
        "outputId": "ac255b60-f60c-4c39-97fc-97dbcf05f3d5"
      },
      "execution_count": 14,
      "outputs": [
        {
          "output_type": "stream",
          "name": "stdout",
          "text": [
            "59\n",
            "59\n",
            "4\n"
          ]
        }
      ]
    },
    {
      "cell_type": "markdown",
      "source": [
        "# Fitting/Training the model"
      ],
      "metadata": {
        "id": "wlkeLPpKVNIa"
      }
    },
    {
      "cell_type": "code",
      "source": [
        "model.fit(train_generator,  validation_data=valid_generator, epochs=12)"
      ],
      "metadata": {
        "id": "miX1hDE7a0RZ",
        "colab": {
          "base_uri": "https://localhost:8080/"
        },
        "outputId": "d950896a-d078-4910-8eae-aff66a6ba453"
      },
      "execution_count": 15,
      "outputs": [
        {
          "output_type": "stream",
          "name": "stdout",
          "text": [
            "Epoch 1/12\n",
            "59/59 [==============================] - 997s 17s/step - loss: 1.0929 - accuracy: 0.5159 - val_loss: 0.6929 - val_accuracy: 0.5000\n",
            "Epoch 2/12\n",
            "59/59 [==============================] - 11s 188ms/step - loss: 0.6884 - accuracy: 0.5540 - val_loss: 0.6894 - val_accuracy: 0.5869\n",
            "Epoch 3/12\n",
            "59/59 [==============================] - 10s 163ms/step - loss: 0.6804 - accuracy: 0.5683 - val_loss: 0.6958 - val_accuracy: 0.5742\n",
            "Epoch 4/12\n",
            "59/59 [==============================] - 10s 165ms/step - loss: 0.6289 - accuracy: 0.6298 - val_loss: 0.8621 - val_accuracy: 0.5233\n",
            "Epoch 5/12\n",
            "59/59 [==============================] - 10s 166ms/step - loss: 0.5192 - accuracy: 0.7188 - val_loss: 0.8514 - val_accuracy: 0.4936\n",
            "Epoch 6/12\n",
            "59/59 [==============================] - 10s 167ms/step - loss: 0.3406 - accuracy: 0.8369 - val_loss: 1.3790 - val_accuracy: 0.4746\n",
            "Epoch 7/12\n",
            "59/59 [==============================] - 10s 167ms/step - loss: 0.1724 - accuracy: 0.9290 - val_loss: 1.7881 - val_accuracy: 0.4703\n",
            "Epoch 8/12\n",
            "59/59 [==============================] - 10s 165ms/step - loss: 0.0818 - accuracy: 0.9719 - val_loss: 2.6013 - val_accuracy: 0.4661\n",
            "Epoch 9/12\n",
            "59/59 [==============================] - 10s 166ms/step - loss: 0.0614 - accuracy: 0.9825 - val_loss: 3.5042 - val_accuracy: 0.4682\n",
            "Epoch 10/12\n",
            "59/59 [==============================] - 10s 167ms/step - loss: 0.0288 - accuracy: 0.9915 - val_loss: 3.2132 - val_accuracy: 0.4831\n",
            "Epoch 11/12\n",
            "59/59 [==============================] - 10s 166ms/step - loss: 0.0302 - accuracy: 0.9952 - val_loss: 3.2382 - val_accuracy: 0.4470\n",
            "Epoch 12/12\n",
            "59/59 [==============================] - 10s 172ms/step - loss: 0.0147 - accuracy: 0.9979 - val_loss: 4.3576 - val_accuracy: 0.4915\n"
          ]
        },
        {
          "output_type": "execute_result",
          "data": {
            "text/plain": [
              "<keras.callbacks.History at 0x7be2413007f0>"
            ]
          },
          "metadata": {},
          "execution_count": 15
        }
      ]
    },
    {
      "cell_type": "markdown",
      "source": [
        "# Evaluate the model\n"
      ],
      "metadata": {
        "id": "Z0EKexFJF-aF"
      }
    },
    {
      "cell_type": "code",
      "source": [
        "model.evaluate(valid_generator, steps = STEP_SIZE_VALID)"
      ],
      "metadata": {
        "id": "RB2F1SvZEZpl",
        "colab": {
          "base_uri": "https://localhost:8080/"
        },
        "outputId": "ecb1f1ce-f3ec-498a-d934-151dcfbdf047"
      },
      "execution_count": 16,
      "outputs": [
        {
          "output_type": "stream",
          "name": "stdout",
          "text": [
            "59/59 [==============================] - 1s 21ms/step - loss: 4.3576 - accuracy: 0.4915\n"
          ]
        },
        {
          "output_type": "execute_result",
          "data": {
            "text/plain": [
              "[4.35762357711792, 0.49152541160583496]"
            ]
          },
          "metadata": {},
          "execution_count": 16
        }
      ]
    },
    {
      "cell_type": "code",
      "source": [
        "from sklearn.metrics import classification_report, confusion_matrix\n",
        "\n",
        "#Confution Matrix and Classification Report\n",
        "pred = model.predict(valid_generator)\n",
        "pred = np.argmax(pred, axis=1)\n",
        "print('Confusion Matrix:')\n",
        "confusion_matrix = confusion_matrix(valid_generator.labels, pred)\n",
        "print(confusion_matrix)\n",
        "\n",
        "# Print the confusion matrix using Matplotlib\n",
        "fig, ax = plt.subplots(figsize=(7.5, 7.5))\n",
        "ax.matshow(confusion_matrix, cmap=plt.cm.Blues, alpha=0.3)\n",
        "for i in range(confusion_matrix.shape[0]):\n",
        "    for j in range(confusion_matrix.shape[1]):\n",
        "        ax.text(x=j, y=i,s=confusion_matrix[i, j], va='center', ha='center', size='small')\n",
        "\n",
        "plt.xlabel('Predictions', fontsize=18)\n",
        "plt.ylabel('Actuals', fontsize=18)\n",
        "plt.title('Confusion Matrix', fontsize=18)\n",
        "plt.show()\n",
        "\n",
        "target_names = ['Benign','Malign']\n",
        "print(classification_report(valid_generator.labels, pred, target_names=target_names, zero_division=0))"
      ],
      "metadata": {
        "id": "oGm7pVXrYfcQ",
        "colab": {
          "base_uri": "https://localhost:8080/",
          "height": 920
        },
        "outputId": "19d1b463-2768-47f6-94e7-c9f5fb6a2434"
      },
      "execution_count": 17,
      "outputs": [
        {
          "output_type": "stream",
          "name": "stdout",
          "text": [
            "59/59 [==============================] - 1s 20ms/step\n",
            "Confusion Matrix:\n",
            "[[157  79]\n",
            " [153  83]]\n"
          ]
        },
        {
          "output_type": "display_data",
          "data": {
            "text/plain": [
              "<Figure size 750x750 with 1 Axes>"
            ],
            "image/png": "[encoded data removed]"
          },
          "metadata": {}
        },
        {
          "output_type": "stream",
          "name": "stdout",
          "text": [
            "              precision    recall  f1-score   support\n",
            "\n",
            "      Benign       0.51      0.67      0.58       236\n",
            "      Malign       0.51      0.35      0.42       236\n",
            "\n",
            "    accuracy                           0.51       472\n",
            "   macro avg       0.51      0.51      0.50       472\n",
            "weighted avg       0.51      0.51      0.50       472\n",
            "\n"
          ]
        }
      ]
    },
    {
      "cell_type": "markdown",
      "source": [
        "# Predict the output"
      ],
      "metadata": {
        "id": "kbfd4ituGPtj"
      }
    },
    {
      "cell_type": "code",
      "source": [
        "filenames = test_generator.filenames\n",
        "number_test_samples = len(filenames)\n",
        "test_generator.reset()\n",
        "pred = model.predict(test_generator, number_test_samples)\n",
        "pred = np.argmax(pred, axis = 1)\n",
        "print(pred)"
      ],
      "metadata": {
        "id": "PzpH9MxBGIxB",
        "colab": {
          "base_uri": "https://localhost:8080/"
        },
        "outputId": "333601cc-8200-4bc3-fbf4-2d064ab574e9"
      },
      "execution_count": 19,
      "outputs": [
        {
          "output_type": "stream",
          "name": "stdout",
          "text": [
            "4/4 [==============================] - 0s 21ms/step\n",
            "[0 0 0 0]\n"
          ]
        }
      ]
    }
  ]
}