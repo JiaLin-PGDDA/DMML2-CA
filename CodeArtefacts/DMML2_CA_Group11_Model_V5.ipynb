{
  "nbformat": 4,
  "nbformat_minor": 0,
  "metadata": {
    "colab": {
      "provenance": [],
      "gpuType": "V100"
    },
    "kernelspec": {
      "name": "python3",
      "display_name": "Python 3"
    },
    "language_info": {
      "name": "python"
    },
    "accelerator": "GPU"
  },
  "cells": [
    {
      "cell_type": "markdown",
      "source": [
        "# Import necessary packages"
      ],
      "metadata": {
        "id": "izh1uoOHOblT"
      }
    },
    {
      "cell_type": "code",
      "source": [
        "import os\n",
        "import numpy as np\n",
        "import pandas as pd\n",
        "import matplotlib.pyplot as plt\n",
        "import seaborn as sns # boxplot, histplot\n",
        "import cv2\n",
        "\n",
        "# The latest keras-preprocessing\n",
        "!pip install git+https://github.com/keras-team/keras-preprocessing.git\n",
        "\n",
        "from keras.models import Sequential\n",
        "#Import from keras_preprocessing not from keras.preprocessing\n",
        "import tensorflow as tf\n",
        "#from keras import backend as K\n",
        "from keras_preprocessing.image import ImageDataGenerator\n",
        "from keras.layers import Rescaling, Dense, Activation, Flatten, Dropout, BatchNormalization\n",
        "from keras.layers import Conv2D, MaxPooling2D\n",
        "from keras import regularizers, optimizers\n",
        "\n",
        "from sklearn import metrics\n",
        "from sklearn.metrics import classification_report, confusion_matrix\n"
      ],
      "metadata": {
        "id": "62hcZF6wiBHK",
        "colab": {
          "base_uri": "https://localhost:8080/"
        },
        "outputId": "d9c4ed7b-34c2-4faf-d06d-d9b51b779c94"
      },
      "execution_count": 2,
      "outputs": [
        {
          "output_type": "stream",
          "name": "stdout",
          "text": [
            "Collecting git+https://github.com/keras-team/keras-preprocessing.git\n",
            "  Cloning https://github.com/keras-team/keras-preprocessing.git to /tmp/pip-req-build-kknuy1us\n",
            "  Running command git clone --filter=blob:none --quiet https://github.com/keras-team/keras-preprocessing.git /tmp/pip-req-build-kknuy1us\n",
            "  Resolved https://github.com/keras-team/keras-preprocessing.git to commit 3e380065d4afc7347aaee8d89325a16b22158438\n",
            "  Preparing metadata (setup.py) ... \u001b[?25l\u001b[?25hdone\n",
            "Requirement already satisfied: numpy>=1.9.1 in /usr/local/lib/python3.10/dist-packages (from Keras-Preprocessing==1.1.2) (1.23.5)\n"
          ]
        }
      ]
    },
    {
      "cell_type": "markdown",
      "source": [
        "# Loading Data from Google Drive\n",
        "Images in the original dataset have been converted into 256*256 .png format"
      ],
      "metadata": {
        "id": "hFKigpFJOnOG"
      }
    },
    {
      "cell_type": "code",
      "source": [
        "from google.colab import drive\n",
        "drive.mount('/content/gdrive')\n",
        "#!ls \"/content/gdrive/My Drive\""
      ],
      "metadata": {
        "colab": {
          "base_uri": "https://localhost:8080/"
        },
        "id": "gABCpwFre-ed",
        "outputId": "1e894b5d-d516-4e9e-fafd-303dd36ffd9a"
      },
      "execution_count": 3,
      "outputs": [
        {
          "output_type": "stream",
          "name": "stdout",
          "text": [
            "Drive already mounted at /content/gdrive; to attempt to forcibly remount, call drive.mount(\"/content/gdrive\", force_remount=True).\n"
          ]
        }
      ]
    },
    {
      "cell_type": "code",
      "source": [
        "df_train = pd.read_csv('/content/gdrive/My Drive/train.csv')\n",
        "df_test = pd.read_csv('/content/gdrive/My Drive/test.csv')\n",
        "#df_train.info()\n",
        "#df_test.info()\n",
        "df_train['cancer'].unique()\n",
        "df_train['cancer'].value_counts()"
      ],
      "metadata": {
        "colab": {
          "base_uri": "https://localhost:8080/"
        },
        "id": "JDvEM67zlwPc",
        "outputId": "bda90358-d042-4b87-ee22-f848316d31b4"
      },
      "execution_count": 4,
      "outputs": [
        {
          "output_type": "execute_result",
          "data": {
            "text/plain": [
              "0    53548\n",
              "1     1158\n",
              "Name: cancer, dtype: int64"
            ]
          },
          "metadata": {},
          "execution_count": 4
        }
      ]
    },
    {
      "cell_type": "markdown",
      "source": [
        "# Data Preprocessing\n",
        "## Balance the data"
      ],
      "metadata": {
        "id": "2ivCrxz1wWA-"
      }
    },
    {
      "cell_type": "code",
      "source": [
        "df_benign = df_train[df_train['cancer'] == 0]\n",
        "df_malign = df_train[df_train['cancer'] == 1]\n",
        "\n",
        "df_benign = df_benign.sample(n=1202, random_state=1) # Make sure each time random the same samples.\n",
        "\n",
        "df_benign = df_benign.reset_index()\n",
        "df_malign = df_malign.reset_index()\n",
        "\n",
        "# interleave these two dataframes\n",
        "df_sample = pd.concat([df_benign,df_malign]).sort_index().set_index('index')\n",
        "\n",
        "#print(df_sample['cancer'].to_string(index=False))"
      ],
      "metadata": {
        "id": "aTA4lZ-VtCxu"
      },
      "execution_count": 5,
      "outputs": []
    },
    {
      "cell_type": "markdown",
      "source": [
        "Observation: Now we have a almost perfect balanced sample dataset!"
      ],
      "metadata": {
        "id": "SozyWeOXvbch"
      }
    },
    {
      "cell_type": "code",
      "source": [
        "# Create image_name matching the name in the image name directory by concatenating the patient_id and image_id\n",
        "df_sample['image_name'] = df_sample[\"patient_id\"].astype(str) + '_' + df_sample[\"image_id\"].astype(str)\n",
        "df_test['image_name'] = df_test[\"patient_id\"].astype(str) + '_' + df_test[\"image_id\"].astype(str)"
      ],
      "metadata": {
        "id": "Icc8GWX-72Fi"
      },
      "execution_count": 6,
      "outputs": []
    },
    {
      "cell_type": "code",
      "source": [
        "# The append_ext function is defined to append extension to the image name\n",
        "# Note\n",
        "def append_ext(fname):\n",
        "  if fname.endswith('.png'):\n",
        "    print('Silly code: Do not add suffix twice.')\n",
        "  else: return fname+'.png'\n",
        "\n",
        "df_sample['image_name']=df_sample['image_name'].apply(append_ext)\n",
        "print(df_sample.head())\n",
        "\n",
        "df_test['image_name']=df_test['image_name'].apply(append_ext)\n",
        "print(df_test.head())"
      ],
      "metadata": {
        "colab": {
          "base_uri": "https://localhost:8080/"
        },
        "id": "navF2abD6lNV",
        "outputId": "6494306e-b257-4279-cd61-a922084bfb81"
      },
      "execution_count": 7,
      "outputs": [
        {
          "output_type": "stream",
          "name": "stdout",
          "text": [
            "       site_id  patient_id    image_id laterality view   age  cancer  biopsy  \\\n",
            "index                                                                          \n",
            "38182        2       50994   799654229          R   CC  55.0       0       0   \n",
            "87           1       10130   388811999          L  MLO  71.0       1       1   \n",
            "11895        2       22706  1838448164          L   CC  63.0       0       0   \n",
            "88           1       10130   613462606          L   CC  71.0       1       1   \n",
            "38810        2       51875  1763503482          R   CC  57.0       0       0   \n",
            "\n",
            "       invasive  BIRADS  implant density  machine_id  difficult_negative_case  \\\n",
            "index                                                                           \n",
            "38182         0     NaN        0     NaN          21                    False   \n",
            "87            1     0.0        0       B          49                    False   \n",
            "11895         0     NaN        0     NaN          21                    False   \n",
            "88            1     0.0        0       B          49                    False   \n",
            "38810         0     NaN        0     NaN          29                    False   \n",
            "\n",
            "                 image_name  \n",
            "index                        \n",
            "38182   50994_799654229.png  \n",
            "87      10130_388811999.png  \n",
            "11895  22706_1838448164.png  \n",
            "88      10130_613462606.png  \n",
            "38810  51875_1763503482.png  \n",
            "   site_id  patient_id    image_id laterality view  age  implant  machine_id  \\\n",
            "0        2       10008   736471439          L  MLO   81        0          21   \n",
            "1        2       10008  1591370361          L   CC   81        0          21   \n",
            "2        2       10008    68070693          R  MLO   81        0          21   \n",
            "3        2       10008   361203119          R   CC   81        0          21   \n",
            "\n",
            "  prediction_id            image_name  \n",
            "0       10008_L   10008_736471439.png  \n",
            "1       10008_L  10008_1591370361.png  \n",
            "2       10008_R    10008_68070693.png  \n",
            "3       10008_R   10008_361203119.png  \n"
          ]
        }
      ]
    },
    {
      "cell_type": "markdown",
      "source": [
        "# Split the sample dataset into training set and validation set:\n",
        "   \n",
        "\n",
        "*   training set contains 80% records, and validation set has the rest 20% instances.\n",
        "*   Keras ImageDataGenerator to map the images in the RSNA_256 directory to the class cancer in the corresponing df_sample.\n",
        "*   The batch_size of the training set and the validation set has set as the number that divides the total number of images in the train set and valid respectively.\n",
        "\n",
        "\n",
        "\n",
        "\n"
      ],
      "metadata": {
        "id": "sj54RsrYPSaR"
      }
    },
    {
      "cell_type": "code",
      "source": [
        "# Source Code: https://vijayabhaskar96.medium.com/tutorial-on-keras-flow-from-dataframe-1fd4493d237c\n",
        "# Modified by Jia Lin\n",
        "datagen=ImageDataGenerator(validation_split =0.2)\n",
        "train_generator=datagen.flow_from_dataframe(dataframe=df_sample,\n",
        "                                            directory=\"/content/gdrive/My Drive/RSNA_256/\",\n",
        "                                            x_col=\"image_name\",\n",
        "                                            y_col=\"cancer\",\n",
        "                                            subset=\"training\",\n",
        "                                            batch_size=32, # 1888 = 8*4*59\n",
        "                                            seed=0,\n",
        "                                            shuffle=True,\n",
        "                                            color_mode=\"grayscale\", # the original dataset only gray\n",
        "                                            class_mode=\"raw\", # 'cancer' is numerical datatype\n",
        "                                            target_size=(256,256))\n"
      ],
      "metadata": {
        "id": "1lKsU0sZ-VNm",
        "colab": {
          "base_uri": "https://localhost:8080/"
        },
        "outputId": "16b751e3-8627-4490-de14-d3a4bf70dcbd"
      },
      "execution_count": 8,
      "outputs": [
        {
          "output_type": "stream",
          "name": "stdout",
          "text": [
            "Found 1888 validated image filenames.\n"
          ]
        }
      ]
    },
    {
      "cell_type": "code",
      "source": [
        "valid_generator=datagen.flow_from_dataframe(dataframe=df_sample,\n",
        "                                            directory=\"/content/gdrive/My Drive/RSNA_256/\",\n",
        "                                            x_col=\"image_name\",\n",
        "                                            y_col=\"cancer\",\n",
        "                                            subset=\"validation\",\n",
        "                                            batch_size=8, # 472 = 8*59\n",
        "                                            seed=0,\n",
        "                                            shuffle=True,\n",
        "                                            color_mode=\"grayscale\",\n",
        "                                            class_mode=\"raw\", # 'cancer' is numerical datatype\n",
        "                                            target_size=(256,256))\n"
      ],
      "metadata": {
        "colab": {
          "base_uri": "https://localhost:8080/"
        },
        "id": "7Nm449A75FaC",
        "outputId": "cf97671b-574c-41fd-ac74-51938614081f"
      },
      "execution_count": 9,
      "outputs": [
        {
          "output_type": "stream",
          "name": "stdout",
          "text": [
            "Found 472 validated image filenames.\n"
          ]
        }
      ]
    },
    {
      "cell_type": "code",
      "source": [
        "from collections import Counter\n",
        "count = Counter(train_generator.labels)[1]\n",
        "print(count)\n",
        "#print(train_generator.labels)\n",
        "#print(valid_generator.labels)"
      ],
      "metadata": {
        "id": "hFQD9Vo757SN",
        "colab": {
          "base_uri": "https://localhost:8080/"
        },
        "outputId": "30c1c82d-f08a-4dc2-c22a-8de553b8a9f8"
      },
      "execution_count": 10,
      "outputs": [
        {
          "output_type": "stream",
          "name": "stdout",
          "text": [
            "922\n"
          ]
        }
      ]
    },
    {
      "cell_type": "code",
      "source": [
        "test_datagen=ImageDataGenerator()\n",
        "test_generator=test_datagen.flow_from_dataframe(dataframe=df_test,\n",
        "                                                directory=\"/content/gdrive/My Drive/testing_images/\",\n",
        "                                                x_col=\"image_name\",\n",
        "                                                y_col=None,\n",
        "                                                batch_size=1,\n",
        "                                                seed=0,\n",
        "                                                shuffle=False,\n",
        "                                                color_mode=\"grayscale\",\n",
        "                                                class_mode=None,\n",
        "                                                target_size=(256,256))"
      ],
      "metadata": {
        "id": "rpbBDEQzeKAV",
        "colab": {
          "base_uri": "https://localhost:8080/"
        },
        "outputId": "0d129bbe-4318-4ba2-bf5f-ef425c068101"
      },
      "execution_count": 11,
      "outputs": [
        {
          "output_type": "stream",
          "name": "stdout",
          "text": [
            "Found 4 validated image filenames.\n"
          ]
        }
      ]
    },
    {
      "cell_type": "markdown",
      "source": [
        "# Build the model:"
      ],
      "metadata": {
        "id": "__iQ0aTXFsdI"
      }
    },
    {
      "cell_type": "code",
      "source": [
        "# Define the CNN model\n",
        "model = Sequential()\n",
        "\n",
        "model.add(Rescaling(1./255, offset=0.0, input_shape=(256,256,1)))\n",
        "\n",
        "model.add(Conv2D(32, (3, 3), padding='same'))\n",
        "model.add(Activation('relu'))\n",
        "model.add(Conv2D(64, (3, 3)))\n",
        "model.add(Activation('relu'))\n",
        "model.add(MaxPooling2D(pool_size=(2, 2)))\n",
        "\n",
        "model.add(Conv2D(128, (3, 3), padding='same'))\n",
        "model.add(Activation('relu'))\n",
        "model.add(Conv2D(256, (3, 3)))\n",
        "model.add(Activation('relu'))\n",
        "model.add(MaxPooling2D(pool_size=(2, 2)))\n",
        "\n",
        "model.add(Flatten())\n",
        "model.add(Dense(512))\n",
        "model.add(Activation('relu'))\n",
        "\n",
        "model.add(Dense(2, activation='softmax')) # Two classes output"
      ],
      "metadata": {
        "id": "9HljZDvxFkcn"
      },
      "execution_count": 12,
      "outputs": []
    },
    {
      "cell_type": "code",
      "source": [
        "model.summary()"
      ],
      "metadata": {
        "id": "zAkNiHDWQKdg",
        "colab": {
          "base_uri": "https://localhost:8080/"
        },
        "outputId": "49c98f8b-424b-44be-b1a5-626c3f43e718"
      },
      "execution_count": 13,
      "outputs": [
        {
          "output_type": "stream",
          "name": "stdout",
          "text": [
            "Model: \"sequential\"\n",
            "_________________________________________________________________\n",
            " Layer (type)                Output Shape              Param #   \n",
            "=================================================================\n",
            " rescaling (Rescaling)       (None, 256, 256, 1)       0         \n",
            "                                                                 \n",
            " conv2d (Conv2D)             (None, 256, 256, 32)      320       \n",
            "                                                                 \n",
            " activation (Activation)     (None, 256, 256, 32)      0         \n",
            "                                                                 \n",
            " conv2d_1 (Conv2D)           (None, 254, 254, 64)      18496     \n",
            "                                                                 \n",
            " activation_1 (Activation)   (None, 254, 254, 64)      0         \n",
            "                                                                 \n",
            " max_pooling2d (MaxPooling2D  (None, 127, 127, 64)     0         \n",
            " )                                                               \n",
            "                                                                 \n",
            " conv2d_2 (Conv2D)           (None, 127, 127, 128)     73856     \n",
            "                                                                 \n",
            " activation_2 (Activation)   (None, 127, 127, 128)     0         \n",
            "                                                                 \n",
            " conv2d_3 (Conv2D)           (None, 125, 125, 256)     295168    \n",
            "                                                                 \n",
            " activation_3 (Activation)   (None, 125, 125, 256)     0         \n",
            "                                                                 \n",
            " max_pooling2d_1 (MaxPooling  (None, 62, 62, 256)      0         \n",
            " 2D)                                                             \n",
            "                                                                 \n",
            " flatten (Flatten)           (None, 984064)            0         \n",
            "                                                                 \n",
            " dense (Dense)               (None, 512)               503841280 \n",
            "                                                                 \n",
            " activation_4 (Activation)   (None, 512)               0         \n",
            "                                                                 \n",
            " dense_1 (Dense)             (None, 2)                 1026      \n",
            "                                                                 \n",
            "=================================================================\n",
            "Total params: 504,230,146\n",
            "Trainable params: 504,230,146\n",
            "Non-trainable params: 0\n",
            "_________________________________________________________________\n"
          ]
        }
      ]
    },
    {
      "cell_type": "code",
      "source": [
        "# Compile the model\n",
        "model.compile(loss=\"sparse_categorical_crossentropy\", optimizer=\"adam\", metrics=[\"accuracy\"])"
      ],
      "metadata": {
        "id": "Yp1lFN_HOZCe"
      },
      "execution_count": 14,
      "outputs": []
    },
    {
      "cell_type": "code",
      "source": [
        "STEP_SIZE_TRAIN=train_generator.n//train_generator.batch_size\n",
        "print(STEP_SIZE_TRAIN)\n",
        "STEP_SIZE_VALID=valid_generator.n//valid_generator.batch_size\n",
        "print(STEP_SIZE_VALID)\n",
        "STEP_SIZE_TEST=test_generator.n//test_generator.batch_size\n",
        "print(STEP_SIZE_TEST)"
      ],
      "metadata": {
        "id": "fLlot3vhxhRr",
        "colab": {
          "base_uri": "https://localhost:8080/"
        },
        "outputId": "fd425625-829a-4ebd-f6fa-16dbbb99bda6"
      },
      "execution_count": 15,
      "outputs": [
        {
          "output_type": "stream",
          "name": "stdout",
          "text": [
            "59\n",
            "59\n",
            "4\n"
          ]
        }
      ]
    },
    {
      "cell_type": "markdown",
      "source": [
        "# Fitting/Training the model"
      ],
      "metadata": {
        "id": "wlkeLPpKVNIa"
      }
    },
    {
      "cell_type": "code",
      "source": [
        "model.fit(train_generator,  validation_data=valid_generator, epochs=32)"
      ],
      "metadata": {
        "id": "miX1hDE7a0RZ",
        "colab": {
          "base_uri": "https://localhost:8080/"
        },
        "outputId": "4750f7e5-bfe5-4f74-90d2-dff76381e779"
      },
      "execution_count": 16,
      "outputs": [
        {
          "output_type": "stream",
          "name": "stdout",
          "text": [
            "Epoch 1/32\n",
            "59/59 [==============================] - 1079s 18s/step - loss: 1.1345 - accuracy: 0.5090 - val_loss: 0.6926 - val_accuracy: 0.5000\n",
            "Epoch 2/32\n",
            "59/59 [==============================] - 8s 136ms/step - loss: 0.6918 - accuracy: 0.5191 - val_loss: 0.6862 - val_accuracy: 0.5932\n",
            "Epoch 3/32\n",
            "59/59 [==============================] - 8s 130ms/step - loss: 0.6844 - accuracy: 0.5662 - val_loss: 0.6898 - val_accuracy: 0.5614\n",
            "Epoch 4/32\n",
            "59/59 [==============================] - 8s 129ms/step - loss: 0.6526 - accuracy: 0.5953 - val_loss: 0.7554 - val_accuracy: 0.5297\n",
            "Epoch 5/32\n",
            "59/59 [==============================] - 8s 136ms/step - loss: 0.5711 - accuracy: 0.6811 - val_loss: 0.8081 - val_accuracy: 0.5064\n",
            "Epoch 6/32\n",
            "59/59 [==============================] - 8s 129ms/step - loss: 0.3901 - accuracy: 0.8136 - val_loss: 1.1611 - val_accuracy: 0.5064\n",
            "Epoch 7/32\n",
            "59/59 [==============================] - 8s 138ms/step - loss: 0.2217 - accuracy: 0.8925 - val_loss: 1.8122 - val_accuracy: 0.5000\n",
            "Epoch 8/32\n",
            "59/59 [==============================] - 8s 133ms/step - loss: 0.1574 - accuracy: 0.9253 - val_loss: 2.2765 - val_accuracy: 0.4915\n",
            "Epoch 9/32\n",
            "59/59 [==============================] - 8s 132ms/step - loss: 0.0999 - accuracy: 0.9597 - val_loss: 2.7232 - val_accuracy: 0.4894\n",
            "Epoch 10/32\n",
            "59/59 [==============================] - 8s 137ms/step - loss: 0.0567 - accuracy: 0.9793 - val_loss: 3.8648 - val_accuracy: 0.5148\n",
            "Epoch 11/32\n",
            "59/59 [==============================] - 8s 129ms/step - loss: 0.0314 - accuracy: 0.9883 - val_loss: 4.1315 - val_accuracy: 0.4809\n",
            "Epoch 12/32\n",
            "59/59 [==============================] - 8s 135ms/step - loss: 0.0340 - accuracy: 0.9873 - val_loss: 5.0236 - val_accuracy: 0.4576\n",
            "Epoch 13/32\n",
            "59/59 [==============================] - 8s 130ms/step - loss: 0.0401 - accuracy: 0.9889 - val_loss: 4.7384 - val_accuracy: 0.4555\n",
            "Epoch 14/32\n",
            "59/59 [==============================] - 8s 138ms/step - loss: 0.0199 - accuracy: 0.9952 - val_loss: 4.8201 - val_accuracy: 0.4640\n",
            "Epoch 15/32\n",
            "59/59 [==============================] - 9s 154ms/step - loss: 0.0077 - accuracy: 0.9979 - val_loss: 5.6125 - val_accuracy: 0.4767\n",
            "Epoch 16/32\n",
            "59/59 [==============================] - 8s 128ms/step - loss: 0.0053 - accuracy: 0.9989 - val_loss: 5.6116 - val_accuracy: 0.4767\n",
            "Epoch 17/32\n",
            "59/59 [==============================] - 8s 136ms/step - loss: 0.0016 - accuracy: 1.0000 - val_loss: 6.4045 - val_accuracy: 0.4661\n",
            "Epoch 18/32\n",
            "59/59 [==============================] - 8s 128ms/step - loss: 6.6865e-04 - accuracy: 1.0000 - val_loss: 6.8732 - val_accuracy: 0.4661\n",
            "Epoch 19/32\n",
            "59/59 [==============================] - 8s 135ms/step - loss: 1.2139e-04 - accuracy: 1.0000 - val_loss: 7.0539 - val_accuracy: 0.4661\n",
            "Epoch 20/32\n",
            "59/59 [==============================] - 9s 154ms/step - loss: 6.8951e-05 - accuracy: 1.0000 - val_loss: 7.1548 - val_accuracy: 0.4661\n",
            "Epoch 21/32\n",
            "59/59 [==============================] - 8s 129ms/step - loss: 5.1525e-05 - accuracy: 1.0000 - val_loss: 7.2641 - val_accuracy: 0.4682\n",
            "Epoch 22/32\n",
            "59/59 [==============================] - 8s 134ms/step - loss: 4.0308e-05 - accuracy: 1.0000 - val_loss: 7.3735 - val_accuracy: 0.4619\n",
            "Epoch 23/32\n",
            "59/59 [==============================] - 8s 130ms/step - loss: 3.2437e-05 - accuracy: 1.0000 - val_loss: 7.4900 - val_accuracy: 0.4619\n",
            "Epoch 24/32\n",
            "59/59 [==============================] - 9s 146ms/step - loss: 2.6467e-05 - accuracy: 1.0000 - val_loss: 7.5880 - val_accuracy: 0.4619\n",
            "Epoch 25/32\n",
            "59/59 [==============================] - 9s 153ms/step - loss: 2.2225e-05 - accuracy: 1.0000 - val_loss: 7.6797 - val_accuracy: 0.4619\n",
            "Epoch 26/32\n",
            "59/59 [==============================] - 8s 129ms/step - loss: 1.8706e-05 - accuracy: 1.0000 - val_loss: 7.7714 - val_accuracy: 0.4661\n",
            "Epoch 27/32\n",
            "59/59 [==============================] - 8s 136ms/step - loss: 1.5865e-05 - accuracy: 1.0000 - val_loss: 7.8600 - val_accuracy: 0.4661\n",
            "Epoch 28/32\n",
            "59/59 [==============================] - 8s 128ms/step - loss: 1.3746e-05 - accuracy: 1.0000 - val_loss: 7.9467 - val_accuracy: 0.4682\n",
            "Epoch 29/32\n",
            "59/59 [==============================] - 8s 135ms/step - loss: 1.1943e-05 - accuracy: 1.0000 - val_loss: 8.0298 - val_accuracy: 0.4682\n",
            "Epoch 30/32\n",
            "59/59 [==============================] - 8s 130ms/step - loss: 1.0440e-05 - accuracy: 1.0000 - val_loss: 8.1133 - val_accuracy: 0.4682\n",
            "Epoch 31/32\n",
            "59/59 [==============================] - 8s 127ms/step - loss: 9.2488e-06 - accuracy: 1.0000 - val_loss: 8.1923 - val_accuracy: 0.4682\n",
            "Epoch 32/32\n",
            "59/59 [==============================] - 8s 135ms/step - loss: 8.1934e-06 - accuracy: 1.0000 - val_loss: 8.2589 - val_accuracy: 0.4682\n"
          ]
        },
        {
          "output_type": "execute_result",
          "data": {
            "text/plain": [
              "<keras.callbacks.History at 0x7efba0586440>"
            ]
          },
          "metadata": {},
          "execution_count": 16
        }
      ]
    },
    {
      "cell_type": "markdown",
      "source": [
        "# Evaluate the model\n"
      ],
      "metadata": {
        "id": "Z0EKexFJF-aF"
      }
    },
    {
      "cell_type": "code",
      "source": [
        "model.evaluate(valid_generator, steps = STEP_SIZE_VALID)"
      ],
      "metadata": {
        "id": "RB2F1SvZEZpl",
        "colab": {
          "base_uri": "https://localhost:8080/"
        },
        "outputId": "19ff8f1d-35bb-42e7-e426-6a57dbea2379"
      },
      "execution_count": 17,
      "outputs": [
        {
          "output_type": "stream",
          "name": "stdout",
          "text": [
            "59/59 [==============================] - 2s 25ms/step - loss: 8.2589 - accuracy: 0.4682\n"
          ]
        },
        {
          "output_type": "execute_result",
          "data": {
            "text/plain": [
              "[8.258935928344727, 0.4682203531265259]"
            ]
          },
          "metadata": {},
          "execution_count": 17
        }
      ]
    },
    {
      "cell_type": "code",
      "source": [
        "from sklearn.metrics import classification_report, confusion_matrix\n",
        "\n",
        "#Confution Matrix and Classification Report\n",
        "pred = model.predict(valid_generator)\n",
        "pred = np.argmax(pred, axis=1)\n",
        "print('Confusion Matrix:')\n",
        "confusion_matrix = confusion_matrix(valid_generator.labels, pred)\n",
        "print(confusion_matrix)\n",
        "\n",
        "# Print the confusion matrix using Matplotlib\n",
        "fig, ax = plt.subplots(figsize=(7.5, 7.5))\n",
        "ax.matshow(confusion_matrix, cmap=plt.cm.Blues, alpha=0.3)\n",
        "for i in range(confusion_matrix.shape[0]):\n",
        "    for j in range(confusion_matrix.shape[1]):\n",
        "        ax.text(x=j, y=i,s=confusion_matrix[i, j], va='center', ha='center', size='xx-large')\n",
        "\n",
        "plt.xlabel('Predictions', fontsize=18)\n",
        "plt.ylabel('Actuals', fontsize=18)\n",
        "plt.title('Confusion Matrix', fontsize=18)\n",
        "plt.show()\n",
        "\n",
        "target_names = ['Benign','Malign']\n",
        "print(classification_report(valid_generator.labels, pred, target_names=target_names, zero_division=0))"
      ],
      "metadata": {
        "id": "oGm7pVXrYfcQ",
        "colab": {
          "base_uri": "https://localhost:8080/",
          "height": 920
        },
        "outputId": "c9ff538f-51d0-4542-d5bd-5e84d848cb60"
      },
      "execution_count": 18,
      "outputs": [
        {
          "output_type": "stream",
          "name": "stdout",
          "text": [
            "59/59 [==============================] - 1s 20ms/step\n",
            "Confusion Matrix:\n",
            "[[120 116]\n",
            " [141  95]]\n"
          ]
        },
        {
          "output_type": "display_data",
          "data": {
            "text/plain": [
              "<Figure size 750x750 with 1 Axes>"
            ],
            "image/png": "[encoded data removed]"
          },
          "metadata": {}
        },
        {
          "output_type": "stream",
          "name": "stdout",
          "text": [
            "              precision    recall  f1-score   support\n",
            "\n",
            "      Benign       0.46      0.51      0.48       236\n",
            "      Malign       0.45      0.40      0.43       236\n",
            "\n",
            "    accuracy                           0.46       472\n",
            "   macro avg       0.46      0.46      0.45       472\n",
            "weighted avg       0.46      0.46      0.45       472\n",
            "\n"
          ]
        }
      ]
    },
    {
      "cell_type": "markdown",
      "source": [
        "# Predict the output"
      ],
      "metadata": {
        "id": "kbfd4ituGPtj"
      }
    },
    {
      "cell_type": "code",
      "source": [
        "filenames = test_generator.filenames\n",
        "number_test_samples = len(filenames)\n",
        "test_generator.reset()\n",
        "pred = model.predict(test_generator, number_test_samples)\n",
        "pred = np.argmax(pred, axis = 1)\n",
        "print(pred)"
      ],
      "metadata": {
        "id": "PzpH9MxBGIxB",
        "colab": {
          "base_uri": "https://localhost:8080/"
        },
        "outputId": "6cd233b2-3727-48c6-c807-dc00a61787d0"
      },
      "execution_count": 20,
      "outputs": [
        {
          "output_type": "stream",
          "name": "stdout",
          "text": [
            "4/4 [==============================] - 0s 11ms/step\n",
            "[0 0 0 0]\n"
          ]
        }
      ]
    }
  ]
}