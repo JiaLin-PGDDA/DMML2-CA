{
  "nbformat": 4,
  "nbformat_minor": 0,
  "metadata": {
    "colab": {
      "provenance": []
    },
    "kernelspec": {
      "name": "python3",
      "display_name": "Python 3"
    },
    "language_info": {
      "name": "python"
    }
  },
  "cells": [
    {
      "cell_type": "markdown",
      "source": [
        "# Import necessary packages"
      ],
      "metadata": {
        "id": "izh1uoOHOblT"
      }
    },
    {
      "cell_type": "code",
      "source": [
        "import os\n",
        "import numpy as np\n",
        "import pandas as pd\n",
        "import matplotlib.pyplot as plt\n",
        "import seaborn as sns # boxplot, histplot\n",
        "\n",
        "# The latest keras-preprocessing\n",
        "!pip install git+https://github.com/keras-team/keras-preprocessing.git\n",
        "\n",
        "from keras.models import Sequential\n",
        "#Import from keras_preprocessing not from keras.preprocessing\n",
        "import tensorflow as tf\n",
        "#from keras import backend as K\n",
        "from keras_preprocessing.image import ImageDataGenerator\n",
        "from keras.layers import Rescaling, Dense, Activation, Flatten, Dropout, BatchNormalization\n",
        "from keras.layers import Conv2D, MaxPooling2D\n",
        "from keras import regularizers, optimizers\n",
        "\n",
        "from sklearn import metrics\n",
        "from sklearn.metrics import classification_report, confusion_matrix\n"
      ],
      "metadata": {
        "id": "62hcZF6wiBHK",
        "colab": {
          "base_uri": "https://localhost:8080/"
        },
        "outputId": "2aca8bcf-9888-43f9-d568-51245ba1448b"
      },
      "execution_count": 1,
      "outputs": [
        {
          "output_type": "stream",
          "name": "stdout",
          "text": [
            "Collecting git+https://github.com/keras-team/keras-preprocessing.git\n",
            "  Cloning https://github.com/keras-team/keras-preprocessing.git to /tmp/pip-req-build-y222fb63\n",
            "  Running command git clone --filter=blob:none --quiet https://github.com/keras-team/keras-preprocessing.git /tmp/pip-req-build-y222fb63\n",
            "  Resolved https://github.com/keras-team/keras-preprocessing.git to commit 3e380065d4afc7347aaee8d89325a16b22158438\n",
            "  Preparing metadata (setup.py) ... \u001b[?25l\u001b[?25hdone\n",
            "Requirement already satisfied: numpy>=1.9.1 in /usr/local/lib/python3.10/dist-packages (from Keras-Preprocessing==1.1.2) (1.22.4)\n"
          ]
        }
      ]
    },
    {
      "cell_type": "markdown",
      "source": [
        "# Loading Data from Google Drive\n",
        "Images in the original dataset have been converted into 256*256 .png format"
      ],
      "metadata": {
        "id": "hFKigpFJOnOG"
      }
    },
    {
      "cell_type": "code",
      "source": [
        "from google.colab import drive\n",
        "drive.mount('/content/gdrive')\n",
        "#!ls \"/content/gdrive/My Drive\""
      ],
      "metadata": {
        "colab": {
          "base_uri": "https://localhost:8080/"
        },
        "id": "gABCpwFre-ed",
        "outputId": "b6797802-3034-4add-c8e1-06f9267da8f8"
      },
      "execution_count": 2,
      "outputs": [
        {
          "output_type": "stream",
          "name": "stdout",
          "text": [
            "Drive already mounted at /content/gdrive; to attempt to forcibly remount, call drive.mount(\"/content/gdrive\", force_remount=True).\n"
          ]
        }
      ]
    },
    {
      "cell_type": "code",
      "source": [
        "df_train = pd.read_csv('/content/gdrive/My Drive/train.csv')\n",
        "df_test = pd.read_csv('/content/gdrive/My Drive/test.csv')\n",
        "#df_train.info()\n",
        "#df_test.info()\n",
        "df_train['cancer'].unique()\n",
        "df_train['cancer'].value_counts()"
      ],
      "metadata": {
        "colab": {
          "base_uri": "https://localhost:8080/"
        },
        "id": "JDvEM67zlwPc",
        "outputId": "28c4f25c-1e85-4469-eab3-4c061361b8d4"
      },
      "execution_count": 3,
      "outputs": [
        {
          "output_type": "execute_result",
          "data": {
            "text/plain": [
              "0    53548\n",
              "1     1158\n",
              "Name: cancer, dtype: int64"
            ]
          },
          "metadata": {},
          "execution_count": 3
        }
      ]
    },
    {
      "cell_type": "markdown",
      "source": [
        "# Data Exploration"
      ],
      "metadata": {
        "id": "Qt9K8a27wP7D"
      }
    },
    {
      "cell_type": "code",
      "source": [
        "def plot_precentage(df):\n",
        "  ax=sns.countplot(x='cancer', data=df, palette='hls')\n",
        "  plt.bar_label(ax.containers[0])\n",
        "  plt.show()\n",
        "  count_benign = len(df[df['cancer']==0])\n",
        "  count_malign = len(df[df['cancer']==1])\n",
        "  pct_of_benign = count_benign/(count_benign+count_malign)\n",
        "  print(\"Percentage of benign class is:\", pct_of_benign*100)\n",
        "  pct_of_malign = count_malign/(count_benign+count_malign)\n",
        "  print(\"Percentage of Malign class is:\", pct_of_malign*100)\n",
        "\n",
        "plot_precentage(df_train)"
      ],
      "metadata": {
        "colab": {
          "base_uri": "https://localhost:8080/",
          "height": 483
        },
        "id": "wxHA37oimGNs",
        "outputId": "a814ae1c-291e-4792-95f2-395d1e8c4722"
      },
      "execution_count": 4,
      "outputs": [
        {
          "output_type": "display_data",
          "data": {
            "text/plain": [
              "<Figure size 640x480 with 1 Axes>"
            ],
            "image/png": "[encoded data removed]"
          },
          "metadata": {}
        },
        {
          "output_type": "stream",
          "name": "stdout",
          "text": [
            "Percentage of benign class is: 97.8832303586444\n",
            "Percentage of Malign class is: 2.11676964135561\n"
          ]
        }
      ]
    },
    {
      "cell_type": "markdown",
      "source": [
        "Observation: The original dataset is extremely imbalance. If build model based on this original dataset, the result will be overfitted as the majority class, i.e. the positive result. We must balance the data before creating the model. In this case, we decided to reduce the number of the majority class, the benign.\n"
      ],
      "metadata": {
        "id": "2z15QSGqrx13"
      }
    },
    {
      "cell_type": "markdown",
      "source": [
        "# Data Preprocessing\n",
        "## Balance the data"
      ],
      "metadata": {
        "id": "2ivCrxz1wWA-"
      }
    },
    {
      "cell_type": "code",
      "source": [
        "df_benign = df_train[df_train['cancer'] == 0]\n",
        "df_malign = df_train[df_train['cancer'] == 1]\n",
        "\n",
        "df_benign = df_benign.sample(n=1202)\n",
        "\n",
        "df_sample = pd.concat([df_benign, df_malign])\n",
        "\n",
        "plot_precentage(df_sample)"
      ],
      "metadata": {
        "colab": {
          "base_uri": "https://localhost:8080/",
          "height": 483
        },
        "id": "aTA4lZ-VtCxu",
        "outputId": "5f2d7aaa-d081-4b67-839e-b2a79f12e61b"
      },
      "execution_count": 5,
      "outputs": [
        {
          "output_type": "display_data",
          "data": {
            "text/plain": [
              "<Figure size 640x480 with 1 Axes>"
            ],
            "image/png": "[encoded data removed]"
          },
          "metadata": {}
        },
        {
          "output_type": "stream",
          "name": "stdout",
          "text": [
            "Percentage of benign class is: 50.93220338983051\n",
            "Percentage of Malign class is: 49.06779661016949\n"
          ]
        }
      ]
    },
    {
      "cell_type": "markdown",
      "source": [
        "Observation: Now we have a almost perfect balanced sample dataset!"
      ],
      "metadata": {
        "id": "SozyWeOXvbch"
      }
    },
    {
      "cell_type": "code",
      "source": [
        "# Create image_name matching the name in the image name directory by concatenating the patient_id and image_id\n",
        "df_sample['image_name'] = df_sample[\"patient_id\"].astype(str) + '_' + df_sample[\"image_id\"].astype(str)\n",
        "df_test['image_name'] = df_test[\"patient_id\"].astype(str) + '_' + df_test[\"image_id\"].astype(str)"
      ],
      "metadata": {
        "id": "Icc8GWX-72Fi"
      },
      "execution_count": 6,
      "outputs": []
    },
    {
      "cell_type": "code",
      "source": [
        "# The append_ext function is defined to append extension to the image name\n",
        "# Note\n",
        "def append_ext(fname):\n",
        "  if fname.endswith('.png'):\n",
        "    print('Silly code: Do not add suffix twice.')\n",
        "  else: return fname+'.png'\n",
        "\n",
        "df_sample['image_name']=df_sample['image_name'].apply(append_ext)\n",
        "print(df_sample.head())\n",
        "\n",
        "df_test['image_name']=df_test['image_name'].apply(append_ext)\n",
        "print(df_test.head())"
      ],
      "metadata": {
        "colab": {
          "base_uri": "https://localhost:8080/"
        },
        "id": "navF2abD6lNV",
        "outputId": "bfd470c9-71fa-4b4a-e8b7-816c782a490a"
      },
      "execution_count": 7,
      "outputs": [
        {
          "output_type": "stream",
          "name": "stdout",
          "text": [
            "       site_id  patient_id    image_id laterality view   age  cancer  biopsy  \\\n",
            "45861        1       59359  1508868957          L   CC  73.0       0       0   \n",
            "9785         2       20442  2042846732          L  MLO  52.0       0       0   \n",
            "1132         1       11175  1220333988          R   CC  40.0       0       0   \n",
            "40450        2        5369  1122696711          L  MLO  52.0       0       0   \n",
            "42763        1       56100  2123185983          L  MLO  57.0       0       1   \n",
            "\n",
            "       invasive  BIRADS  implant density  machine_id  difficult_negative_case  \\\n",
            "45861         0     2.0        0       B          49                    False   \n",
            "9785          0     NaN        0     NaN          29                    False   \n",
            "1132          0     1.0        0       D          49                    False   \n",
            "40450         0     NaN        0     NaN          29                    False   \n",
            "42763         0     0.0        0       B          49                     True   \n",
            "\n",
            "                 image_name  \n",
            "45861  59359_1508868957.png  \n",
            "9785   20442_2042846732.png  \n",
            "1132   11175_1220333988.png  \n",
            "40450   5369_1122696711.png  \n",
            "42763  56100_2123185983.png  \n",
            "   site_id  patient_id    image_id laterality view  age  implant  machine_id  \\\n",
            "0        2       10008   736471439          L  MLO   81        0          21   \n",
            "1        2       10008  1591370361          L   CC   81        0          21   \n",
            "2        2       10008    68070693          R  MLO   81        0          21   \n",
            "3        2       10008   361203119          R   CC   81        0          21   \n",
            "\n",
            "  prediction_id            image_name  \n",
            "0       10008_L   10008_736471439.png  \n",
            "1       10008_L  10008_1591370361.png  \n",
            "2       10008_R    10008_68070693.png  \n",
            "3       10008_R   10008_361203119.png  \n"
          ]
        }
      ]
    },
    {
      "cell_type": "markdown",
      "source": [
        "# Split the sample dataset into training set and validation set:\n",
        "   \n",
        "\n",
        "*   training set contains 80% records, and validation set has the rest 20% instances.\n",
        "*   Keras ImageDataGenerator to map the images in the RSNA_256 directory to the class cancer in the corresponing df_sample.\n",
        "*   The batch_size of the training set and the validation set has set as the number that divides the total number of images in the train set and valid respectively.\n",
        "\n",
        "\n",
        "\n",
        "\n"
      ],
      "metadata": {
        "id": "sj54RsrYPSaR"
      }
    },
    {
      "cell_type": "code",
      "source": [
        "# Source Code: https://vijayabhaskar96.medium.com/tutorial-on-keras-flow-from-dataframe-1fd4493d237c\n",
        "# Modified by Jia Lin\n",
        "datagen=ImageDataGenerator(validation_split =0.2)#(rescale=1./255.,validation_split=0.2)\n",
        "train_generator=datagen.flow_from_dataframe(dataframe=df_sample,\n",
        "                                            directory=\"/content/gdrive/My Drive/RSNA_256/\",\n",
        "                                            x_col=\"image_name\",\n",
        "                                            y_col=\"cancer\",\n",
        "                                            subset=\"training\",\n",
        "                                            batch_size=59, # 1888 = 32*59\n",
        "                                            seed=42,\n",
        "                                            shuffle=True,\n",
        "                                            class_mode=\"raw\", # 'cancer' is numerical datatype\n",
        "                                            target_size=(256,256))\n",
        "valid_generator=datagen.flow_from_dataframe(dataframe=df_sample,\n",
        "                                            directory=\"/content/gdrive/My Drive/RSNA_256/\",\n",
        "                                            x_col=\"image_name\",\n",
        "                                            y_col=\"cancer\",\n",
        "                                            subset=\"validation\",\n",
        "                                            batch_size=59, # 472 = 8*59\n",
        "                                            seed=42,\n",
        "                                            shuffle=True,\n",
        "                                            class_mode=\"raw\", # 'cancer' is numerical datatype\n",
        "                                            target_size=(256,256))"
      ],
      "metadata": {
        "id": "1lKsU0sZ-VNm",
        "colab": {
          "base_uri": "https://localhost:8080/"
        },
        "outputId": "b713918f-3a0e-497d-bbd4-08baedf50ff3"
      },
      "execution_count": 8,
      "outputs": [
        {
          "output_type": "stream",
          "name": "stdout",
          "text": [
            "Found 1888 validated image filenames.\n",
            "Found 472 validated image filenames.\n"
          ]
        }
      ]
    },
    {
      "cell_type": "code",
      "source": [
        "test_datagen=ImageDataGenerator(rescale=1./255.)\n",
        "test_generator=test_datagen.flow_from_dataframe(dataframe=df_test,\n",
        "                                                directory=\"/content/gdrive/My Drive/testing_images/\",\n",
        "                                                x_col=\"image_name\",\n",
        "                                                y_col=None,\n",
        "                                                batch_size=1,\n",
        "                                                seed=42,\n",
        "                                                shuffle=False,\n",
        "                                                class_mode=None,\n",
        "                                                target_size=(256,256))"
      ],
      "metadata": {
        "id": "rpbBDEQzeKAV",
        "colab": {
          "base_uri": "https://localhost:8080/"
        },
        "outputId": "a4f3fd54-9f83-4405-ef5d-914ed191b135"
      },
      "execution_count": 9,
      "outputs": [
        {
          "output_type": "stream",
          "name": "stdout",
          "text": [
            "Found 4 validated image filenames.\n"
          ]
        }
      ]
    },
    {
      "cell_type": "markdown",
      "source": [
        "# Build the model:"
      ],
      "metadata": {
        "id": "__iQ0aTXFsdI"
      }
    },
    {
      "cell_type": "code",
      "source": [
        "# Define the CNN model\n",
        "model = Sequential()\n",
        "\n",
        "model.add(Rescaling(1./255, offset=0.0, input_shape=(256,256,3)))\n",
        "\n",
        "model.add(Conv2D(16, (3, 3), padding='same'))\n",
        "model.add(Activation('relu'))\n",
        "model.add(Conv2D(32, (3, 3)))\n",
        "model.add(Activation('relu'))\n",
        "model.add(MaxPooling2D(pool_size=(2, 2)))\n",
        "#model.add(Dropout(0.2)) #Dropout Regularization\n",
        "\n",
        "model.add(Conv2D(64, (3, 3), padding='same'))\n",
        "model.add(Activation('relu'))\n",
        "model.add(Conv2D(128, (3, 3)))\n",
        "model.add(Activation('relu'))\n",
        "model.add(MaxPooling2D(pool_size=(2, 2)))\n",
        "#model.add(Dropout(0.2))\n",
        "\n",
        "model.add(Flatten())\n",
        "model.add(Dense(256))\n",
        "model.add(Activation('relu'))\n",
        "#model.add(Dropout(0.2))\n",
        "\n",
        "model.add(Dense(2, activation='softmax')) # Two classes output"
      ],
      "metadata": {
        "id": "9HljZDvxFkcn"
      },
      "execution_count": 10,
      "outputs": []
    },
    {
      "cell_type": "code",
      "source": [
        "model.summary()"
      ],
      "metadata": {
        "id": "zAkNiHDWQKdg",
        "colab": {
          "base_uri": "https://localhost:8080/"
        },
        "outputId": "a453b450-ba39-4c01-e16d-a57449444ca6"
      },
      "execution_count": 11,
      "outputs": [
        {
          "output_type": "stream",
          "name": "stdout",
          "text": [
            "Model: \"sequential\"\n",
            "_________________________________________________________________\n",
            " Layer (type)                Output Shape              Param #   \n",
            "=================================================================\n",
            " rescaling (Rescaling)       (None, 256, 256, 3)       0         \n",
            "                                                                 \n",
            " conv2d (Conv2D)             (None, 256, 256, 16)      448       \n",
            "                                                                 \n",
            " activation (Activation)     (None, 256, 256, 16)      0         \n",
            "                                                                 \n",
            " conv2d_1 (Conv2D)           (None, 254, 254, 32)      4640      \n",
            "                                                                 \n",
            " activation_1 (Activation)   (None, 254, 254, 32)      0         \n",
            "                                                                 \n",
            " max_pooling2d (MaxPooling2D  (None, 127, 127, 32)     0         \n",
            " )                                                               \n",
            "                                                                 \n",
            " conv2d_2 (Conv2D)           (None, 127, 127, 64)      18496     \n",
            "                                                                 \n",
            " activation_2 (Activation)   (None, 127, 127, 64)      0         \n",
            "                                                                 \n",
            " conv2d_3 (Conv2D)           (None, 125, 125, 128)     73856     \n",
            "                                                                 \n",
            " activation_3 (Activation)   (None, 125, 125, 128)     0         \n",
            "                                                                 \n",
            " max_pooling2d_1 (MaxPooling  (None, 62, 62, 128)      0         \n",
            " 2D)                                                             \n",
            "                                                                 \n",
            " flatten (Flatten)           (None, 492032)            0         \n",
            "                                                                 \n",
            " dense (Dense)               (None, 256)               125960448 \n",
            "                                                                 \n",
            " activation_4 (Activation)   (None, 256)               0         \n",
            "                                                                 \n",
            " dense_1 (Dense)             (None, 2)                 514       \n",
            "                                                                 \n",
            "=================================================================\n",
            "Total params: 126,058,402\n",
            "Trainable params: 126,058,402\n",
            "Non-trainable params: 0\n",
            "_________________________________________________________________\n"
          ]
        }
      ]
    },
    {
      "cell_type": "code",
      "source": [
        "# Compile the model\n",
        "model.compile(loss=\"sparse_categorical_crossentropy\", optimizer=\"adam\", metrics=[\"accuracy\"])"
      ],
      "metadata": {
        "id": "Yp1lFN_HOZCe"
      },
      "execution_count": 12,
      "outputs": []
    },
    {
      "cell_type": "markdown",
      "source": [
        "# Fitting/Training the model"
      ],
      "metadata": {
        "id": "wlkeLPpKVNIa"
      }
    },
    {
      "cell_type": "code",
      "source": [
        "model.fit(train_generator, validation_data=valid_generator, epochs=10)"
      ],
      "metadata": {
        "id": "miX1hDE7a0RZ",
        "colab": {
          "base_uri": "https://localhost:8080/"
        },
        "outputId": "a30328e4-bc29-4ae6-b4eb-eb199d3d4bc8"
      },
      "execution_count": 13,
      "outputs": [
        {
          "output_type": "stream",
          "name": "stdout",
          "text": [
            "Epoch 1/10\n",
            "32/32 [==============================] - 961s 30s/step - loss: 1.6590 - accuracy: 0.5842 - val_loss: 0.9529 - val_accuracy: 0.0000e+00\n",
            "Epoch 2/10\n",
            "32/32 [==============================] - 843s 26s/step - loss: 0.6526 - accuracy: 0.6096 - val_loss: 1.4523 - val_accuracy: 0.0021\n",
            "Epoch 3/10\n",
            "32/32 [==============================] - 899s 28s/step - loss: 0.6113 - accuracy: 0.6541 - val_loss: 0.9059 - val_accuracy: 0.3030\n",
            "Epoch 4/10\n",
            "32/32 [==============================] - 903s 28s/step - loss: 0.5367 - accuracy: 0.7103 - val_loss: 1.2666 - val_accuracy: 0.2797\n",
            "Epoch 5/10\n",
            "32/32 [==============================] - 899s 28s/step - loss: 0.3950 - accuracy: 0.8125 - val_loss: 1.4022 - val_accuracy: 0.3835\n",
            "Epoch 6/10\n",
            "32/32 [==============================] - 902s 28s/step - loss: 0.2376 - accuracy: 0.8925 - val_loss: 2.4961 - val_accuracy: 0.3729\n",
            "Epoch 7/10\n",
            "32/32 [==============================] - 863s 27s/step - loss: 0.1265 - accuracy: 0.9502 - val_loss: 3.5836 - val_accuracy: 0.3983\n",
            "Epoch 8/10\n",
            "32/32 [==============================] - 896s 28s/step - loss: 0.0582 - accuracy: 0.9841 - val_loss: 5.1939 - val_accuracy: 0.3453\n",
            "Epoch 9/10\n",
            "32/32 [==============================] - 899s 28s/step - loss: 0.0564 - accuracy: 0.9825 - val_loss: 5.7558 - val_accuracy: 0.3263\n",
            "Epoch 10/10\n",
            "32/32 [==============================] - 903s 28s/step - loss: 0.0259 - accuracy: 0.9942 - val_loss: 6.0637 - val_accuracy: 0.3856\n"
          ]
        },
        {
          "output_type": "execute_result",
          "data": {
            "text/plain": [
              "<keras.callbacks.History at 0x7ffad92add80>"
            ]
          },
          "metadata": {},
          "execution_count": 13
        }
      ]
    },
    {
      "cell_type": "markdown",
      "source": [
        "# Evaluate the model\n"
      ],
      "metadata": {
        "id": "Z0EKexFJF-aF"
      }
    },
    {
      "cell_type": "code",
      "source": [
        "model.evaluate(valid_generator)"
      ],
      "metadata": {
        "colab": {
          "base_uri": "https://localhost:8080/"
        },
        "id": "RB2F1SvZEZpl",
        "outputId": "287bca75-2613-4d86-ef2b-50f5fdd527f7"
      },
      "execution_count": 14,
      "outputs": [
        {
          "output_type": "stream",
          "name": "stdout",
          "text": [
            "8/8 [==============================] - 54s 7s/step - loss: 6.0637 - accuracy: 0.3856\n"
          ]
        },
        {
          "output_type": "execute_result",
          "data": {
            "text/plain": [
              "[6.063676357269287, 0.3855932056903839]"
            ]
          },
          "metadata": {},
          "execution_count": 14
        }
      ]
    },
    {
      "cell_type": "code",
      "source": [
        "from sklearn.metrics import classification_report, confusion_matrix\n",
        "\n",
        "#Confution Matrix and Classification Report\n",
        "pred = model.predict(valid_generator)\n",
        "pred = np.argmax(pred, axis=1)\n",
        "print('Confusion Matrix')\n",
        "confusion_matrix = confusion_matrix(valid_generator.labels, pred)\n",
        "print(confusion_matrix)\n",
        "\n",
        "target_names = ['Benign','Malign']\n",
        "print(classification_report(valid_generator.labels, pred, target_names=target_names, zero_division=0))"
      ],
      "metadata": {
        "colab": {
          "base_uri": "https://localhost:8080/"
        },
        "id": "oGm7pVXrYfcQ",
        "outputId": "9aaa1ce4-f753-42b1-da28-a274fa95d462"
      },
      "execution_count": 15,
      "outputs": [
        {
          "output_type": "stream",
          "name": "stdout",
          "text": [
            "8/8 [==============================] - 51s 6s/step\n",
            "Confusion Matrix\n",
            "[[182 290]\n",
            " [  0   0]]\n",
            "              precision    recall  f1-score   support\n",
            "\n",
            "      Benign       1.00      0.39      0.56       472\n",
            "      Malign       0.00      0.00      0.00         0\n",
            "\n",
            "    accuracy                           0.39       472\n",
            "   macro avg       0.50      0.19      0.28       472\n",
            "weighted avg       1.00      0.39      0.56       472\n",
            "\n"
          ]
        }
      ]
    },
    {
      "cell_type": "markdown",
      "source": [
        "# Predict the output"
      ],
      "metadata": {
        "id": "kbfd4ituGPtj"
      }
    },
    {
      "cell_type": "code",
      "source": [
        "filenames = test_generator.filenames\n",
        "number_test_samples = len(filenames)\n",
        "pred = model.predict(test_generator, number_test_samples)\n",
        "pred = np.argmax(pred, axis = 1)\n",
        "print(pred)"
      ],
      "metadata": {
        "colab": {
          "base_uri": "https://localhost:8080/"
        },
        "id": "PzpH9MxBGIxB",
        "outputId": "a0af494c-295f-4002-bc97-58278cde1c45"
      },
      "execution_count": 16,
      "outputs": [
        {
          "output_type": "stream",
          "name": "stdout",
          "text": [
            "4/4 [==============================] - 2s 547ms/step\n",
            "[0 0 0 0]\n"
          ]
        }
      ]
    }
  ]
}