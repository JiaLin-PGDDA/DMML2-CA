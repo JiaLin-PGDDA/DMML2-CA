{
 "cells": [
  {
   "cell_type": "markdown",
   "id": "d064ec3b",
   "metadata": {},
   "source": [
    "# DMML2 CA Breast Cancer Detection\n",
    "## Import necessary packages"
   ]
  },
  {
   "cell_type": "code",
   "execution_count": null,
   "id": "e3a7fc6e",
   "metadata": {
    "ExecuteTime": {
     "end_time": "2023-08-01T12:39:17.042025Z",
     "start_time": "2023-08-01T12:39:16.295366Z"
    }
   },
   "outputs": [],
   "source": [
    "import shutil\n",
    "import os\n",
    "\n",
    "#!pip install pydicom\n",
    "#!pip install scikit-image\n",
    "import pydicom as dicom\n",
    "import matplotlib.pylab as plt\n",
    "from skimage.transform import resize\n",
    "\n",
    "#!pip install --upgrade pip\n",
    "#!pip install pylibjpeg pylibjpeg-libjpeg pylibjpeg-openjpeg pydicom\n",
    "#!pip install python-gdcm\n",
    "from pydicom import dcmread\n",
    "import pylibjpeg"
   ]
  },
  {
   "cell_type": "markdown",
   "id": "3c7cbbb1",
   "metadata": {},
   "source": [
    "## Loading Data - Original \n",
    "The original dataset is downloaded from https://www.kaggle.com/competitions/rsna-breast-cancer-detection/data.\n",
    "The size of the original dataset is large, 314.83GB, and these DICOM images are distributed under different folders, the title of directory is the patient ID.\n",
    "\n",
    "### First step move these images out of their folder and put them together."
   ]
  },
  {
   "cell_type": "code",
   "execution_count": null,
   "id": "c9afe441",
   "metadata": {
    "ExecuteTime": {
     "end_time": "2023-08-01T12:39:18.170689Z",
     "start_time": "2023-08-01T12:39:17.043702Z"
    }
   },
   "outputs": [],
   "source": [
    "source = 'train_images'\n",
    "# This recursive_copy function is used to copy all .dcm files in the subdirectory \n",
    "# of train_images to train_set\n",
    "\n",
    "def recursive_copy(path):\n",
    "    for f in sorted(os.listdir(os.path.join(os.getcwd(), path))):\n",
    "        file = os.path.join(path, f)\n",
    "        if os.path.isfile(file):\n",
    "            file_name = 'train_set/'+f\n",
    "            shutil.move(file, file_name)\n",
    "        else:\n",
    "            recursive_copy(file)\n",
    "            \n",
    "recursive_copy(source)"
   ]
  },
  {
   "cell_type": "markdown",
   "id": "35c3f2f7",
   "metadata": {},
   "source": [
    "## Data Preprocessing\n",
    "### Convert .dcm to .jpg and Reduce image pixels"
   ]
  },
  {
   "cell_type": "code",
   "execution_count": null,
   "id": "c1a53cf9",
   "metadata": {
    "ExecuteTime": {
     "end_time": "2023-08-01T12:39:19.012325Z",
     "start_time": "2023-08-01T12:39:18.172943Z"
    }
   },
   "outputs": [],
   "source": [
    "# specify your image path\n",
    "image_path = 'train_set/1000066573.dcm'\n",
    "ds = dicom.dcmread(image_path)\n",
    "print(type(ds))\n",
    "ds.PhotometricInterpretation = 'YBR_FULL'\n",
    "plt.imshow(ds.pixel_array)\n",
    "#plt.show()\n",
    "print(ds)\n",
    "ds.file_meta\n",
    "# convert to RGB image\n",
    "#image = ds.pixel_array\n",
    "#image.shape\n",
    "# configure the pixel size\n",
    "#IMG_PX_SIZE = 256\n",
    "#resized_img = resize(image, (IMG_PX_SIZE, IMG_PX_SIZE), anti_aliasing=True)\n",
    "#resized_img.shape\n",
    "#plt.imshow(resized_img)\n",
    "#plt.savefig(\"training/saved_image.jpg\")\n",
    "\n"
   ]
  },
  {
   "cell_type": "code",
   "execution_count": null,
   "id": "27ebeab6",
   "metadata": {
    "ExecuteTime": {
     "start_time": "2023-08-01T12:39:16.296Z"
    }
   },
   "outputs": [],
   "source": [
    "image_path = 'train_set'\n",
    "def convert_reduce(path):\n",
    "    for dcm in sorted(os.listdir(os.path.join(os.getcwd(), path))):\n",
    "        split_tuple = os.path.splitext(dcm)\n",
    "        file_suffix = split_tuple[1]\n",
    "        # print(file_suffix)\n",
    "        if file_suffix != '.dcm':\n",
    "            continue\n",
    "        else:\n",
    "            dcm_image_path = os.path.join(path, dcm)\n",
    "            print(dcm_image_path)\n",
    "            name = os.path.split(dcm_image_path)[1].removesuffix('.dcm')\n",
    "            #print(name)\n",
    "            if os.path.isfile(dcm_image_path):\n",
    "                ds = dicom.dcmread(dcm_image_path) # FileDataset\n",
    "                dcm_image = ds.pixel_array\n",
    "                #print(dcm_image.shape)\n",
    "                IMG_PX_SIZE = 128 # 256\n",
    "                resized_image = resize(dcm_image, (IMG_PX_SIZE, IMG_PX_SIZE), anti_aliasing=True)\n",
    "                #print(resized_image.shape) \n",
    "                plt.imshow(resized_image)\n",
    "                plt.savefig('training_images/'+name+'.jpg')\n",
    "            else: \n",
    "                print('This is an error, this item is not in the target directory.')\n",
    "            \n",
    "convert_reduce(image_path)       "
   ]
  },
  {
   "cell_type": "code",
   "execution_count": null,
   "id": "9170d5de",
   "metadata": {},
   "outputs": [],
   "source": []
  }
 ],
 "metadata": {
  "kernelspec": {
   "display_name": "Python 3 (ipykernel)",
   "language": "python",
   "name": "python3"
  },
  "language_info": {
   "codemirror_mode": {
    "name": "ipython",
    "version": 3
   },
   "file_extension": ".py",
   "mimetype": "text/x-python",
   "name": "python",
   "nbconvert_exporter": "python",
   "pygments_lexer": "ipython3",
   "version": "3.10.9"
  },
  "toc": {
   "base_numbering": 1,
   "nav_menu": {},
   "number_sections": true,
   "sideBar": true,
   "skip_h1_title": false,
   "title_cell": "Table of Contents",
   "title_sidebar": "Contents",
   "toc_cell": false,
   "toc_position": {},
   "toc_section_display": true,
   "toc_window_display": false
  }
 },
 "nbformat": 4,
 "nbformat_minor": 5
}
