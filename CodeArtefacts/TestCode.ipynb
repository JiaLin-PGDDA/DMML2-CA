{
  "nbformat": 4,
  "nbformat_minor": 0,
  "metadata": {
    "colab": {
      "provenance": []
    },
    "kernelspec": {
      "name": "python3",
      "display_name": "Python 3"
    },
    "language_info": {
      "name": "python"
    }
  },
  "cells": [
    {
      "cell_type": "markdown",
      "source": [
        "# Import necessary packages"
      ],
      "metadata": {
        "id": "izh1uoOHOblT"
      }
    },
    {
      "cell_type": "code",
      "source": [
        "import os\n",
        "import numpy as np\n",
        "import matplotlib.pyplot as plt\n",
        "\n",
        "import pandas as pd"
      ],
      "metadata": {
        "id": "62hcZF6wiBHK"
      },
      "execution_count": 1,
      "outputs": []
    },
    {
      "cell_type": "markdown",
      "source": [
        "# Loading Data from Google Drive\n",
        "Images in the original dataset have been converted into 256*256 .png format"
      ],
      "metadata": {
        "id": "hFKigpFJOnOG"
      }
    },
    {
      "cell_type": "code",
      "source": [
        "from google.colab import drive\n",
        "drive.mount('/content/gdrive')"
      ],
      "metadata": {
        "colab": {
          "base_uri": "https://localhost:8080/"
        },
        "id": "gABCpwFre-ed",
        "outputId": "e1f80f53-1b8b-4369-c5b4-624538cc8612"
      },
      "execution_count": 2,
      "outputs": [
        {
          "output_type": "stream",
          "name": "stdout",
          "text": [
            "Drive already mounted at /content/gdrive; to attempt to forcibly remount, call drive.mount(\"/content/gdrive\", force_remount=True).\n"
          ]
        }
      ]
    },
    {
      "cell_type": "code",
      "source": [
        "!ls \"/content/gdrive/My Drive\""
      ],
      "metadata": {
        "colab": {
          "base_uri": "https://localhost:8080/"
        },
        "id": "0LiCtfNOTkSe",
        "outputId": "96336d0d-18a5-4bf3-afc7-00fef56f1eaa"
      },
      "execution_count": 3,
      "outputs": [
        {
          "output_type": "stream",
          "name": "stdout",
          "text": [
            "'Colab Notebooks'\t\t\t      test.csv\n",
            " DMML2_CA_Breast_Cancer_Detection_CNN.ipynb   testing_images\n",
            " RSNA_256\t\t\t\t      testing_images.zip\n",
            " RSNA_256_2000\t\t\t\t      train_2000.csv\n",
            " RSNA_256_2000.zip\t\t\t      train.csv\n",
            " RSNA_256.zip\n"
          ]
        }
      ]
    },
    {
      "cell_type": "code",
      "source": [
        "#!unzip \"/content/gdrive/My Drive/RSNA_256_2000.zip\" -d \"/content/gdrive/My Drive/RSNA_256_2000/\""
      ],
      "metadata": {
        "id": "fm_f24J-LuD6"
      },
      "execution_count": 4,
      "outputs": []
    },
    {
      "cell_type": "code",
      "source": [
        "!ls \"/content/gdrive/My Drive\""
      ],
      "metadata": {
        "colab": {
          "base_uri": "https://localhost:8080/"
        },
        "id": "sPkcI6KFMLSd",
        "outputId": "ae084bca-80ba-42b1-988b-d2af5678968f"
      },
      "execution_count": 5,
      "outputs": [
        {
          "output_type": "stream",
          "name": "stdout",
          "text": [
            "'Colab Notebooks'\t\t\t      test.csv\n",
            " DMML2_CA_Breast_Cancer_Detection_CNN.ipynb   testing_images\n",
            " RSNA_256\t\t\t\t      testing_images.zip\n",
            " RSNA_256_2000\t\t\t\t      train_2000.csv\n",
            " RSNA_256_2000.zip\t\t\t      train.csv\n",
            " RSNA_256.zip\n"
          ]
        }
      ]
    },
    {
      "cell_type": "code",
      "source": [
        "df_train = pd.read_csv('/content/gdrive/My Drive/train.csv')\n",
        "df_test = pd.read_csv('/content/gdrive/My Drive/test.csv')\n",
        "#df_train.info()\n",
        "print(df_train.head())\n",
        "#df_test.info()\n",
        "#print(df_test.head())\n",
        "df_train['cancer'].unique()\n",
        "df_train['cancer'].value_counts()"
      ],
      "metadata": {
        "colab": {
          "base_uri": "https://localhost:8080/"
        },
        "id": "JDvEM67zlwPc",
        "outputId": "f3321897-4732-4e0e-d23a-d2c71790dd03"
      },
      "execution_count": 6,
      "outputs": [
        {
          "output_type": "stream",
          "name": "stdout",
          "text": [
            "   site_id  patient_id    image_id laterality view   age  cancer  biopsy  \\\n",
            "0        2       10006   462822612          L   CC  61.0       0       0   \n",
            "1        2       10006  1459541791          L  MLO  61.0       0       0   \n",
            "2        2       10006  1864590858          R  MLO  61.0       0       0   \n",
            "3        2       10006  1874946579          R   CC  61.0       0       0   \n",
            "4        2       10011   220375232          L   CC  55.0       0       0   \n",
            "\n",
            "   invasive  BIRADS  implant density  machine_id  difficult_negative_case  \n",
            "0         0     NaN        0     NaN          29                    False  \n",
            "1         0     NaN        0     NaN          29                    False  \n",
            "2         0     NaN        0     NaN          29                    False  \n",
            "3         0     NaN        0     NaN          29                    False  \n",
            "4         0     0.0        0     NaN          21                     True  \n"
          ]
        },
        {
          "output_type": "execute_result",
          "data": {
            "text/plain": [
              "0    53548\n",
              "1     1158\n",
              "Name: cancer, dtype: int64"
            ]
          },
          "metadata": {},
          "execution_count": 6
        }
      ]
    },
    {
      "cell_type": "code",
      "source": [
        "sorted_df_train = df_train.sort_values(by =['patient_id'], ascending=True)\n",
        "#print(sorted_df_train.head())\n",
        "df_train_2000 = sorted_df_train.iloc[:2000]"
      ],
      "metadata": {
        "id": "_ZyH4AUYOSpm"
      },
      "execution_count": 7,
      "outputs": []
    },
    {
      "cell_type": "code",
      "source": [
        "import seaborn as sns # boxplot, histplot\n",
        "\n",
        "def plot_precentage(df):\n",
        "  ax=sns.countplot(x='cancer', data=df, palette='hls')\n",
        "  plt.bar_label(ax.containers[0])\n",
        "  plt.show()\n",
        "  count_positive = len(df_train[df_train['cancer']==0])\n",
        "  count_malignant = len(df_train[df_train['cancer']==1])\n",
        "  pct_of_positive = count_positive/(count_positive+count_malignant)\n",
        "  print(\"Percentage of Positive is:\", pct_of_positive*100)\n",
        "  pct_of_malignant = count_malignant/(count_positive+count_malignant)\n",
        "  print(\"Percentage of Malignant is:\", pct_of_malignant*100)\n",
        "\n",
        "plot_precentage(df_train)\n",
        "plot_precentage(df_train_2000)"
      ],
      "metadata": {
        "colab": {
          "base_uri": "https://localhost:8080/",
          "height": 949
        },
        "id": "wxHA37oimGNs",
        "outputId": "2512a1b4-f058-44b4-da9f-84711d4da95f"
      },
      "execution_count": 8,
      "outputs": [
        {
          "output_type": "display_data",
          "data": {
            "text/plain": [
              "<Figure size 640x480 with 1 Axes>"
            ],
            "image/png": "[encoded data removed]"
          },
          "metadata": {}
        },
        {
          "output_type": "stream",
          "name": "stdout",
          "text": [
            "Percentage of Positive is: 97.8832303586444\n",
            "Percentage of Malignant is: 2.11676964135561\n"
          ]
        },
        {
          "output_type": "display_data",
          "data": {
            "text/plain": [
              "<Figure size 640x480 with 1 Axes>"
            ],
            "image/png": "[encoded data removed]"
          },
          "metadata": {}
        },
        {
          "output_type": "stream",
          "name": "stdout",
          "text": [
            "Percentage of Positive is: 97.8832303586444\n",
            "Percentage of Malignant is: 2.11676964135561\n"
          ]
        }
      ]
    },
    {
      "cell_type": "code",
      "source": [
        "# The latest keras-preprocessing\n",
        "# Source Code: https://vijayabhaskar96.medium.com/tutorial-on-keras-flow-from-dataframe-1fd4493d237c\n",
        "# Modified by Jia Lin\n",
        "!pip install git+https://github.com/keras-team/keras-preprocessing.git"
      ],
      "metadata": {
        "id": "iCBJYDN75xe3",
        "colab": {
          "base_uri": "https://localhost:8080/"
        },
        "outputId": "56c80554-4719-4a03-d092-b661bd2591da"
      },
      "execution_count": 9,
      "outputs": [
        {
          "output_type": "stream",
          "name": "stdout",
          "text": [
            "Collecting git+https://github.com/keras-team/keras-preprocessing.git\n",
            "  Cloning https://github.com/keras-team/keras-preprocessing.git to /tmp/pip-req-build-_60x53bw\n",
            "  Running command git clone --filter=blob:none --quiet https://github.com/keras-team/keras-preprocessing.git /tmp/pip-req-build-_60x53bw\n",
            "  Resolved https://github.com/keras-team/keras-preprocessing.git to commit 3e380065d4afc7347aaee8d89325a16b22158438\n",
            "  Preparing metadata (setup.py) ... \u001b[?25l\u001b[?25hdone\n",
            "Requirement already satisfied: numpy>=1.9.1 in /usr/local/lib/python3.10/dist-packages (from Keras-Preprocessing==1.1.2) (1.22.4)\n"
          ]
        }
      ]
    },
    {
      "cell_type": "markdown",
      "source": [
        "# Keras ImageDataGenerator to map the images in the RSNA_256 directory to the class cancer in the corresponing train.csv file"
      ],
      "metadata": {
        "id": "sj54RsrYPSaR"
      }
    },
    {
      "cell_type": "code",
      "source": [
        "from keras.models import Sequential\n",
        "#Import from keras_preprocessing not from keras.preprocessing\n",
        "from keras_preprocessing.image import ImageDataGenerator\n",
        "from keras.layers import Dense, Activation, Flatten, Dropout, BatchNormalization\n",
        "from keras.layers import Conv2D, MaxPooling2D\n",
        "from keras import regularizers, optimizers"
      ],
      "metadata": {
        "id": "-1rw69MC6Vnp"
      },
      "execution_count": 10,
      "outputs": []
    },
    {
      "cell_type": "code",
      "source": [
        "# Create image_name matching the name in the image name directory by concatenating the patient_id and image_id\n",
        "#df_train['image_name'] = df_train[\"patient_id\"].astype(str) + '_' + df_train[\"image_id\"].astype(str)\n",
        "df_test['image_name'] = df_test[\"patient_id\"].astype(str) + '_' + df_test[\"image_id\"].astype(str)\n",
        "\n",
        "#print(df_train.head())\n",
        "#print(df_test.head())\n",
        "\n",
        "df_train_2000['image_name'] = df_train_2000[\"patient_id\"].astype(str) + '_' + df_train_2000[\"image_id\"].astype(str)\n",
        "print(df_train_2000.head())\n",
        "#df_train_2000.loc[df_train_2000['patient_id']+'_'+df_train_2000['image_id']]=df_train_2000['image_name']"
      ],
      "metadata": {
        "colab": {
          "base_uri": "https://localhost:8080/"
        },
        "id": "Icc8GWX-72Fi",
        "outputId": "a5ee4fd8-5873-438d-940a-b19b9d02e575"
      },
      "execution_count": 11,
      "outputs": [
        {
          "output_type": "stream",
          "name": "stdout",
          "text": [
            "       site_id  patient_id    image_id laterality view   age  cancer  biopsy  \\\n",
            "37282        2           5   640805896          L  MLO  68.0       0       0   \n",
            "37283        2           5  1351088028          L   CC  68.0       0       0   \n",
            "37284        2           5   940388076          R   CC  68.0       0       0   \n",
            "37285        2           5  1633417959          R  MLO  68.0       0       0   \n",
            "14042        1          25  1962456803          R  MLO  62.0       0       0   \n",
            "\n",
            "       invasive  BIRADS  implant density  machine_id  difficult_negative_case  \\\n",
            "37282         0     0.0        0     NaN          21                     True   \n",
            "37283         0     0.0        0     NaN          21                     True   \n",
            "37284         0     NaN        0     NaN          21                    False   \n",
            "37285         0     NaN        0     NaN          21                    False   \n",
            "14042         0     1.0        0       B          49                    False   \n",
            "\n",
            "          image_name  \n",
            "37282    5_640805896  \n",
            "37283   5_1351088028  \n",
            "37284    5_940388076  \n",
            "37285   5_1633417959  \n",
            "14042  25_1962456803  \n"
          ]
        },
        {
          "output_type": "stream",
          "name": "stderr",
          "text": [
            "<ipython-input-11-3fe73e358244>:8: SettingWithCopyWarning: \n",
            "A value is trying to be set on a copy of a slice from a DataFrame.\n",
            "Try using .loc[row_indexer,col_indexer] = value instead\n",
            "\n",
            "See the caveats in the documentation: https://pandas.pydata.org/pandas-docs/stable/user_guide/indexing.html#returning-a-view-versus-a-copy\n",
            "  df_train_2000['image_name'] = df_train_2000[\"patient_id\"].astype(str) + '_' + df_train_2000[\"image_id\"].astype(str)\n"
          ]
        }
      ]
    },
    {
      "cell_type": "code",
      "source": [
        "# The append_ext function is defined to append extension to the image name\n",
        "def append_ext(fname):\n",
        "    return fname+'.png'\n",
        "#df_train['image_name']=df_train['image_name'].apply(append_ext)\n",
        "df_test['image_name']=df_test['image_name'].apply(append_ext)\n",
        "\n",
        "#print(df_train.head())\n",
        "print(df_test.head())\n",
        "\n",
        "df_train_2000['image_name']=df_train_2000['image_name'].apply(append_ext)\n",
        "print(df_train_2000.head())"
      ],
      "metadata": {
        "colab": {
          "base_uri": "https://localhost:8080/"
        },
        "id": "navF2abD6lNV",
        "outputId": "4852736a-130d-4369-f3fc-04d6be6c035e"
      },
      "execution_count": 12,
      "outputs": [
        {
          "output_type": "stream",
          "name": "stdout",
          "text": [
            "   site_id  patient_id    image_id laterality view  age  implant  machine_id  \\\n",
            "0        2       10008   736471439          L  MLO   81        0          21   \n",
            "1        2       10008  1591370361          L   CC   81        0          21   \n",
            "2        2       10008    68070693          R  MLO   81        0          21   \n",
            "3        2       10008   361203119          R   CC   81        0          21   \n",
            "\n",
            "  prediction_id            image_name  \n",
            "0       10008_L   10008_736471439.png  \n",
            "1       10008_L  10008_1591370361.png  \n",
            "2       10008_R    10008_68070693.png  \n",
            "3       10008_R   10008_361203119.png  \n",
            "       site_id  patient_id    image_id laterality view   age  cancer  biopsy  \\\n",
            "37282        2           5   640805896          L  MLO  68.0       0       0   \n",
            "37283        2           5  1351088028          L   CC  68.0       0       0   \n",
            "37284        2           5   940388076          R   CC  68.0       0       0   \n",
            "37285        2           5  1633417959          R  MLO  68.0       0       0   \n",
            "14042        1          25  1962456803          R  MLO  62.0       0       0   \n",
            "\n",
            "       invasive  BIRADS  implant density  machine_id  difficult_negative_case  \\\n",
            "37282         0     0.0        0     NaN          21                     True   \n",
            "37283         0     0.0        0     NaN          21                     True   \n",
            "37284         0     NaN        0     NaN          21                    False   \n",
            "37285         0     NaN        0     NaN          21                    False   \n",
            "14042         0     1.0        0       B          49                    False   \n",
            "\n",
            "              image_name  \n",
            "37282    5_640805896.png  \n",
            "37283   5_1351088028.png  \n",
            "37284    5_940388076.png  \n",
            "37285   5_1633417959.png  \n",
            "14042  25_1962456803.png  \n"
          ]
        },
        {
          "output_type": "stream",
          "name": "stderr",
          "text": [
            "<ipython-input-12-560e88196bdc>:10: SettingWithCopyWarning: \n",
            "A value is trying to be set on a copy of a slice from a DataFrame.\n",
            "Try using .loc[row_indexer,col_indexer] = value instead\n",
            "\n",
            "See the caveats in the documentation: https://pandas.pydata.org/pandas-docs/stable/user_guide/indexing.html#returning-a-view-versus-a-copy\n",
            "  df_train_2000['image_name']=df_train_2000['image_name'].apply(append_ext)\n"
          ]
        }
      ]
    },
    {
      "cell_type": "code",
      "source": [
        "!ls \"/content/gdrive/My Drive/testing_images\""
      ],
      "metadata": {
        "colab": {
          "base_uri": "https://localhost:8080/"
        },
        "id": "3TbRff7aT-Gj",
        "outputId": "a1171aa0-952e-40a4-e826-1de0a4eef65f"
      },
      "execution_count": 13,
      "outputs": [
        {
          "output_type": "stream",
          "name": "stdout",
          "text": [
            "10008_1591370361.png  10008_68070693.png\n",
            "10008_361203119.png   10008_736471439.png\n"
          ]
        }
      ]
    },
    {
      "cell_type": "markdown",
      "source": [
        "# Split the RSNA_256 set into two dataset, one is training set, the other is validation set. The training set contains 75% of images, while the validation set is composed of 25% of images.\n",
        "\n",
        "The batch_size of the training set and the validation set has set as the number that divides the total number of images in the train set and valid respectively."
      ],
      "metadata": {
        "id": "lZewZYy1NwGB"
      }
    },
    {
      "cell_type": "code",
      "source": [
        "datagen=ImageDataGenerator(rescale=1./255.,validation_split=0.25)\n",
        "train_generator=datagen.flow_from_dataframe(dataframe=df_train_2000,\n",
        "                                            directory=\"/content/gdrive/My Drive/RSNA_256/\",\n",
        "                                            x_col=\"image_name\",\n",
        "                                            y_col=\"cancer\",\n",
        "                                            subset=\"training\",\n",
        "                                            batch_size=32,\n",
        "                                            seed=42,\n",
        "                                            shuffle=True,\n",
        "                                            class_mode=\"raw\", # 'cancer' is numerical datatype\n",
        "                                            target_size=(256,256))\n",
        "valid_generator=datagen.flow_from_dataframe(dataframe=df_train_2000,\n",
        "                                            directory=\"/content/gdrive/My Drive/RSNA_256/\",\n",
        "                                            x_col=\"image_name\",\n",
        "                                            y_col=\"cancer\",\n",
        "                                            subset=\"validation\",\n",
        "                                            batch_size=32,\n",
        "                                            seed=42,\n",
        "                                            shuffle=True,\n",
        "                                            class_mode=\"raw\", # 'cancer' is numerical datatype\n",
        "                                            target_size=(256,256))"
      ],
      "metadata": {
        "id": "1lKsU0sZ-VNm",
        "colab": {
          "base_uri": "https://localhost:8080/"
        },
        "outputId": "263f3ffb-40e9-4ffe-ceb4-9b845b77c8e1"
      },
      "execution_count": 14,
      "outputs": [
        {
          "output_type": "stream",
          "name": "stdout",
          "text": [
            "Found 1500 validated image filenames.\n",
            "Found 500 validated image filenames.\n"
          ]
        }
      ]
    },
    {
      "cell_type": "code",
      "source": [
        "#print(df_test.head())\n",
        "test_datagen=ImageDataGenerator(rescale=1./255.)\n",
        "test_generator=test_datagen.flow_from_dataframe(dataframe=df_test,\n",
        "                                                directory=\"/content/gdrive/My Drive/testing_images/\",\n",
        "                                                x_col=\"image_name\",\n",
        "                                                y_col=None,\n",
        "                                                batch_size=1,\n",
        "                                                seed=42,\n",
        "                                                shuffle=False,\n",
        "                                                class_mode=None,\n",
        "                                                target_size=(256,256))"
      ],
      "metadata": {
        "id": "rpbBDEQzeKAV",
        "colab": {
          "base_uri": "https://localhost:8080/"
        },
        "outputId": "f45c3250-c3b0-451b-8360-59e22637128c"
      },
      "execution_count": 62,
      "outputs": [
        {
          "output_type": "stream",
          "name": "stdout",
          "text": [
            "Found 4 validated image filenames.\n"
          ]
        }
      ]
    },
    {
      "cell_type": "markdown",
      "source": [
        "# Build the model:"
      ],
      "metadata": {
        "id": "__iQ0aTXFsdI"
      }
    },
    {
      "cell_type": "code",
      "source": [
        "# Define the CNN model\n",
        "model = Sequential()\n",
        "model.add(Conv2D(32, (3, 3), padding='same',input_shape=(256,256,3)))\n",
        "model.add(Activation('relu'))\n",
        "model.add(Conv2D(32, (3, 3)))\n",
        "model.add(Activation('relu'))\n",
        "model.add(MaxPooling2D(pool_size=(2, 2)))\n",
        "model.add(Dropout(0.25))\n",
        "model.add(Conv2D(64, (3, 3), padding='same'))\n",
        "model.add(Activation('relu'))\n",
        "model.add(Conv2D(64, (3, 3)))\n",
        "model.add(Activation('relu'))\n",
        "model.add(MaxPooling2D(pool_size=(2, 2)))\n",
        "model.add(Dropout(0.25))\n",
        "model.add(Flatten())\n",
        "model.add(Dense(512))\n",
        "model.add(Activation('relu'))\n",
        "model.add(Dropout(0.25))\n",
        "model.add(Dense(2, activation='softmax')) # Two classes output"
      ],
      "metadata": {
        "id": "9HljZDvxFkcn"
      },
      "execution_count": 21,
      "outputs": []
    },
    {
      "cell_type": "code",
      "source": [
        "model.summary()"
      ],
      "metadata": {
        "id": "zAkNiHDWQKdg",
        "colab": {
          "base_uri": "https://localhost:8080/"
        },
        "outputId": "5e1a457b-b758-4df5-bd6f-37371a194881"
      },
      "execution_count": 22,
      "outputs": [
        {
          "output_type": "stream",
          "name": "stdout",
          "text": [
            "Model: \"sequential_1\"\n",
            "_________________________________________________________________\n",
            " Layer (type)                Output Shape              Param #   \n",
            "=================================================================\n",
            " conv2d_4 (Conv2D)           (None, 256, 256, 32)      896       \n",
            "                                                                 \n",
            " activation_5 (Activation)   (None, 256, 256, 32)      0         \n",
            "                                                                 \n",
            " conv2d_5 (Conv2D)           (None, 254, 254, 32)      9248      \n",
            "                                                                 \n",
            " activation_6 (Activation)   (None, 254, 254, 32)      0         \n",
            "                                                                 \n",
            " max_pooling2d_2 (MaxPooling  (None, 127, 127, 32)     0         \n",
            " 2D)                                                             \n",
            "                                                                 \n",
            " dropout_3 (Dropout)         (None, 127, 127, 32)      0         \n",
            "                                                                 \n",
            " conv2d_6 (Conv2D)           (None, 127, 127, 64)      18496     \n",
            "                                                                 \n",
            " activation_7 (Activation)   (None, 127, 127, 64)      0         \n",
            "                                                                 \n",
            " conv2d_7 (Conv2D)           (None, 125, 125, 64)      36928     \n",
            "                                                                 \n",
            " activation_8 (Activation)   (None, 125, 125, 64)      0         \n",
            "                                                                 \n",
            " max_pooling2d_3 (MaxPooling  (None, 62, 62, 64)       0         \n",
            " 2D)                                                             \n",
            "                                                                 \n",
            " dropout_4 (Dropout)         (None, 62, 62, 64)        0         \n",
            "                                                                 \n",
            " flatten_1 (Flatten)         (None, 246016)            0         \n",
            "                                                                 \n",
            " dense_2 (Dense)             (None, 512)               125960704 \n",
            "                                                                 \n",
            " activation_9 (Activation)   (None, 512)               0         \n",
            "                                                                 \n",
            " dropout_5 (Dropout)         (None, 512)               0         \n",
            "                                                                 \n",
            " dense_3 (Dense)             (None, 2)                 1026      \n",
            "                                                                 \n",
            "=================================================================\n",
            "Total params: 126,027,298\n",
            "Trainable params: 126,027,298\n",
            "Non-trainable params: 0\n",
            "_________________________________________________________________\n"
          ]
        }
      ]
    },
    {
      "cell_type": "code",
      "source": [
        "from sklearn import metrics\n",
        "import tensorflow as tf\n",
        "from keras import backend as K\n",
        "\n",
        "def auc(y_true, y_pred):\n",
        "    auc = tf.metrics.auc(y_true, y_pred)[1]\n",
        "    K.get_session().run(tf.local_variables_initializer())\n",
        "    return auc"
      ],
      "metadata": {
        "id": "rfiEi68yks3J"
      },
      "execution_count": 80,
      "outputs": []
    },
    {
      "cell_type": "code",
      "source": [
        "# Compile the model\n",
        "model.compile(loss=\"sparse_categorical_crossentropy\", optimizer=\"adam\", metrics=[\"accuracy\", auc])"
      ],
      "metadata": {
        "id": "Yp1lFN_HOZCe"
      },
      "execution_count": 81,
      "outputs": []
    },
    {
      "cell_type": "markdown",
      "source": [
        "# Fitting/Training the model"
      ],
      "metadata": {
        "id": "wlkeLPpKVNIa"
      }
    },
    {
      "cell_type": "code",
      "source": [
        "model.fit(train_generator, validation_data=valid_generator, epochs=10)"
      ],
      "metadata": {
        "id": "miX1hDE7a0RZ",
        "colab": {
          "base_uri": "https://localhost:8080/"
        },
        "outputId": "67119136-b931-4741-ef2d-249d3f2b2fb8"
      },
      "execution_count": 24,
      "outputs": [
        {
          "output_type": "stream",
          "name": "stdout",
          "text": [
            "Epoch 1/10\n",
            "47/47 [==============================] - 816s 17s/step - loss: 0.2149 - accuracy: 0.9700 - val_loss: 0.1060 - val_accuracy: 0.9840\n",
            "Epoch 2/10\n",
            "47/47 [==============================] - 805s 17s/step - loss: 0.1280 - accuracy: 0.9760 - val_loss: 0.0909 - val_accuracy: 0.9840\n",
            "Epoch 3/10\n",
            "47/47 [==============================] - 798s 17s/step - loss: 0.1243 - accuracy: 0.9760 - val_loss: 0.0956 - val_accuracy: 0.9840\n",
            "Epoch 4/10\n",
            "47/47 [==============================] - 793s 17s/step - loss: 0.1081 - accuracy: 0.9760 - val_loss: 0.1171 - val_accuracy: 0.9840\n",
            "Epoch 5/10\n",
            "47/47 [==============================] - 805s 17s/step - loss: 0.1193 - accuracy: 0.9760 - val_loss: 0.1100 - val_accuracy: 0.9840\n",
            "Epoch 6/10\n",
            "47/47 [==============================] - 795s 17s/step - loss: 0.0923 - accuracy: 0.9760 - val_loss: 0.1941 - val_accuracy: 0.9820\n",
            "Epoch 7/10\n",
            "47/47 [==============================] - 808s 17s/step - loss: 0.0661 - accuracy: 0.9780 - val_loss: 0.1440 - val_accuracy: 0.9840\n",
            "Epoch 8/10\n",
            "47/47 [==============================] - 800s 17s/step - loss: 0.0999 - accuracy: 0.9820 - val_loss: 0.1747 - val_accuracy: 0.9840\n",
            "Epoch 9/10\n",
            "47/47 [==============================] - 806s 17s/step - loss: 0.0392 - accuracy: 0.9853 - val_loss: 0.2353 - val_accuracy: 0.9620\n",
            "Epoch 10/10\n",
            "47/47 [==============================] - 805s 17s/step - loss: 0.0174 - accuracy: 0.9933 - val_loss: 0.4285 - val_accuracy: 0.9840\n"
          ]
        },
        {
          "output_type": "execute_result",
          "data": {
            "text/plain": [
              "<keras.callbacks.History at 0x7aa9e15a7430>"
            ]
          },
          "metadata": {},
          "execution_count": 24
        }
      ]
    },
    {
      "cell_type": "markdown",
      "source": [
        "# Evaluate the model\n"
      ],
      "metadata": {
        "id": "Z0EKexFJF-aF"
      }
    },
    {
      "cell_type": "code",
      "source": [
        "model.evaluate(valid_generator)"
      ],
      "metadata": {
        "colab": {
          "base_uri": "https://localhost:8080/"
        },
        "id": "RB2F1SvZEZpl",
        "outputId": "e3a77311-7af4-406d-c19d-5ed29236ec43"
      },
      "execution_count": 27,
      "outputs": [
        {
          "output_type": "stream",
          "name": "stdout",
          "text": [
            "16/16 [==============================] - 59s 4s/step - loss: 0.4285 - accuracy: 0.9840\n"
          ]
        },
        {
          "output_type": "execute_result",
          "data": {
            "text/plain": [
              "[0.42849200963974, 0.984000027179718]"
            ]
          },
          "metadata": {},
          "execution_count": 27
        }
      ]
    },
    {
      "cell_type": "code",
      "source": [
        "from sklearn.metrics import classification_report, confusion_matrix\n",
        "\n",
        "#Confution Matrix and Classification Report\n",
        "Y_pred = model.predict(valid_generator)\n",
        "y_pred = np.argmax(Y_pred, axis=1)\n",
        "print('Confusion Matrix')\n",
        "confusion_matrix = confusion_matrix(valid_generator.labels, y_pred)\n",
        "print(confusion_matrix)\n",
        "\n",
        "target_names = ['Benign','Malign']\n",
        "print(classification_report(valid_generator.labels, y_pred, target_names=target_names, zero_division=0))"
      ],
      "metadata": {
        "colab": {
          "base_uri": "https://localhost:8080/"
        },
        "id": "oGm7pVXrYfcQ",
        "outputId": "2a8a901b-b894-4584-c1bd-87dc5f0afcc0"
      },
      "execution_count": 76,
      "outputs": [
        {
          "output_type": "stream",
          "name": "stdout",
          "text": [
            "16/16 [==============================] - 71s 4s/step\n",
            "Confusion Matrix\n",
            "[[492   0]\n",
            " [  8   0]]\n",
            "              precision    recall  f1-score   support\n",
            "\n",
            "      Benign       0.98      1.00      0.99       492\n",
            "      Malign       0.00      0.00      0.00         8\n",
            "\n",
            "    accuracy                           0.98       500\n",
            "   macro avg       0.49      0.50      0.50       500\n",
            "weighted avg       0.97      0.98      0.98       500\n",
            "\n"
          ]
        }
      ]
    },
    {
      "cell_type": "markdown",
      "source": [
        "# Predict the output"
      ],
      "metadata": {
        "id": "kbfd4ituGPtj"
      }
    },
    {
      "cell_type": "code",
      "source": [
        "filenames = test_generator.filenames\n",
        "number_test_samples = len(filenames)\n",
        "pred = model.predict(test_generator, number_test_samples)\n",
        "pred = np.argmax(pred, axis = 1)\n",
        "print(pred)"
      ],
      "metadata": {
        "colab": {
          "base_uri": "https://localhost:8080/"
        },
        "id": "PzpH9MxBGIxB",
        "outputId": "c9145461-6ea6-49f8-e26e-538af52317b9"
      },
      "execution_count": 67,
      "outputs": [
        {
          "output_type": "stream",
          "name": "stdout",
          "text": [
            "4/4 [==============================] - 1s 233ms/step\n",
            "[0 0 0 0]\n"
          ]
        }
      ]
    }
  ]
}